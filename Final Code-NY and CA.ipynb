{
 "cells": [
  {
   "cell_type": "code",
   "execution_count": 316,
   "id": "923c89d3-e628-40d2-8763-db5b591028ed",
   "metadata": {},
   "outputs": [],
   "source": [
    "#All the web scraping libraries we can use\n",
    "import requests\n",
    "import requests_cache\n",
    "import lxml.html as lx\n",
    "from lxml import html\n",
    "from bs4 import BeautifulSoup\n",
    "import pandas as pd\n",
    "import numpy as np\n",
    "import matplotlib.pyplot as plt\n",
    "from selenium import webdriver\n",
    "import time\n",
    "import folium\n",
    "import plotly.express as px\n",
    "from folium import IFrame\n",
    "from plotly.subplots import make_subplots\n",
    "import plotly.graph_objects as go\n",
    "from IPython.display import FileLink"
   ]
  },
  {
   "cell_type": "code",
   "execution_count": 317,
   "id": "d235774f-5b49-44a4-8283-9d12a43311bb",
   "metadata": {},
   "outputs": [],
   "source": [
    "#All Data\n",
    "#API URL\n",
    "url = \"https://api.eia.gov/v2/electricity/retail-sales/data/\"\n",
    "\n",
    "#My personal API Key (Noah Glosson's)\n",
    "api_key = 'hpPWfbFW0MjGinc5M9CHCX64ks6ZXh2DWlmgFQIm'\n",
    "\n",
    "#Headers\n",
    "headers = {\n",
    "    \"X-API-Key\": api_key\n",
    "}\n",
    "\n",
    "#Proper Parameters\n",
    "params = {\n",
    "    \"frequency\": \"monthly\",\n",
    "    \"data[0]\": \"sales\",\n",
    "    \"facets[sectorid][]\": \"ALL\",\n",
    "    \"facets[stateid][]\": \"CA\",\n",
    "    \"sort[0][column]\": \"period\",\n",
    "    \"sort[0][direction]\": \"desc\",\n",
    "    \"offset\": 0,\n",
    "    \"length\": 500\n",
    "}\n",
    "\n",
    "#Getting our data\n",
    "response = requests.get(url, headers=headers, params=params)\n",
    "california_data = response.json()\n",
    "\n"
   ]
  },
  {
   "cell_type": "code",
   "execution_count": 318,
   "id": "b793e425-4ccc-4438-9aa9-5475cdea73fe",
   "metadata": {},
   "outputs": [],
   "source": [
    "#Extracting what we want\n",
    "month_list = [entry['period'] for entry in california_data['response']['data']]\n",
    "month_data = month_list[::-1]\n",
    "sales_list=[float(entry['sales']) for entry in california_data['response']['data']]\n",
    "sales_data=sales_list[::-1]\n",
    "# Assuming month_data and sales_data are already defined\n",
    "california_df = pd.DataFrame({\n",
    "    'date': pd.to_datetime(month_data, format='%Y-%m'),\n",
    "    'sales': sales_data\n",
    "})\n",
    "\n",
    "# Filter the data to include only from 2020 to 2024\n",
    "updated_california = california_df[(california_df['date'] >= '2020-01-01') & (california_df['date'] <= '2024-9-01')]\n"
   ]
  },
  {
   "cell_type": "code",
   "execution_count": 319,
   "id": "20fc81eb-ab4d-4b93-bf63-28783bed7ef2",
   "metadata": {},
   "outputs": [
    {
     "data": {
      "application/vnd.plotly.v1+json": {
       "config": {
        "plotlyServerURL": "https://plot.ly"
       },
       "data": [
        {
         "hovertemplate": "Month=%{x}<br>Sales (in million kilowatt hours)=%{y}<extra></extra>",
         "legendgroup": "",
         "line": {
          "color": "#636efa",
          "dash": "solid"
         },
         "marker": {
          "symbol": "circle"
         },
         "mode": "lines",
         "name": "",
         "orientation": "v",
         "showlegend": false,
         "type": "scatter",
         "x": [
          "2020-01-01T00:00:00",
          "2020-02-01T00:00:00",
          "2020-03-01T00:00:00",
          "2020-04-01T00:00:00",
          "2020-05-01T00:00:00",
          "2020-06-01T00:00:00",
          "2020-07-01T00:00:00",
          "2020-08-01T00:00:00",
          "2020-09-01T00:00:00",
          "2020-10-01T00:00:00",
          "2020-11-01T00:00:00",
          "2020-12-01T00:00:00",
          "2021-01-01T00:00:00",
          "2021-02-01T00:00:00",
          "2021-03-01T00:00:00",
          "2021-04-01T00:00:00",
          "2021-05-01T00:00:00",
          "2021-06-01T00:00:00",
          "2021-07-01T00:00:00",
          "2021-08-01T00:00:00",
          "2021-09-01T00:00:00",
          "2021-10-01T00:00:00",
          "2021-11-01T00:00:00",
          "2021-12-01T00:00:00",
          "2022-01-01T00:00:00",
          "2022-02-01T00:00:00",
          "2022-03-01T00:00:00",
          "2022-04-01T00:00:00",
          "2022-05-01T00:00:00",
          "2022-06-01T00:00:00",
          "2022-07-01T00:00:00",
          "2022-08-01T00:00:00",
          "2022-09-01T00:00:00",
          "2022-10-01T00:00:00",
          "2022-11-01T00:00:00",
          "2022-12-01T00:00:00",
          "2023-01-01T00:00:00",
          "2023-02-01T00:00:00",
          "2023-03-01T00:00:00",
          "2023-04-01T00:00:00",
          "2023-05-01T00:00:00",
          "2023-06-01T00:00:00",
          "2023-07-01T00:00:00",
          "2023-08-01T00:00:00",
          "2023-09-01T00:00:00",
          "2023-10-01T00:00:00",
          "2023-11-01T00:00:00",
          "2023-12-01T00:00:00",
          "2024-01-01T00:00:00",
          "2024-02-01T00:00:00",
          "2024-03-01T00:00:00",
          "2024-04-01T00:00:00",
          "2024-05-01T00:00:00",
          "2024-06-01T00:00:00",
          "2024-07-01T00:00:00",
          "2024-08-01T00:00:00",
          "2024-09-01T00:00:00"
         ],
         "xaxis": "x",
         "y": [
          20562.24693,
          16783.77126,
          19334.99603,
          16963.48016,
          18956.69382,
          21459.87126,
          26098.31993,
          24001.90557,
          23975.36364,
          23587.97568,
          16723.70403,
          21726.34372,
          18579.70886,
          16063.97068,
          21151.14217,
          15304.45053,
          18604.99369,
          22391.08085,
          26068.01914,
          26005.66433,
          23607.68684,
          20641.27103,
          18754.52085,
          20077.35605,
          20422.44347,
          16636.41958,
          19752.80989,
          18170.50477,
          18943.67664,
          21564.76439,
          24188.1955,
          27435.43426,
          26005.26868,
          21570.34154,
          18003.13589,
          19176.14139,
          20504.70675,
          17440.48579,
          19506.41869,
          16261.33366,
          18288.412,
          19333.43379,
          23048.26218,
          25101.55563,
          22466.03859,
          20390.47299,
          18479.20564,
          18660.12634,
          20040.74935,
          17717.21278,
          17659.18439,
          17523.44992,
          17835.05183,
          20318.43309,
          25531.44162,
          25520.6293,
          22989.69689
         ],
         "yaxis": "y"
        }
       ],
       "layout": {
        "autosize": true,
        "legend": {
         "tracegroupgap": 0
        },
        "template": {
         "data": {
          "bar": [
           {
            "error_x": {
             "color": "#2a3f5f"
            },
            "error_y": {
             "color": "#2a3f5f"
            },
            "marker": {
             "line": {
              "color": "#E5ECF6",
              "width": 0.5
             },
             "pattern": {
              "fillmode": "overlay",
              "size": 10,
              "solidity": 0.2
             }
            },
            "type": "bar"
           }
          ],
          "barpolar": [
           {
            "marker": {
             "line": {
              "color": "#E5ECF6",
              "width": 0.5
             },
             "pattern": {
              "fillmode": "overlay",
              "size": 10,
              "solidity": 0.2
             }
            },
            "type": "barpolar"
           }
          ],
          "carpet": [
           {
            "aaxis": {
             "endlinecolor": "#2a3f5f",
             "gridcolor": "white",
             "linecolor": "white",
             "minorgridcolor": "white",
             "startlinecolor": "#2a3f5f"
            },
            "baxis": {
             "endlinecolor": "#2a3f5f",
             "gridcolor": "white",
             "linecolor": "white",
             "minorgridcolor": "white",
             "startlinecolor": "#2a3f5f"
            },
            "type": "carpet"
           }
          ],
          "choropleth": [
           {
            "colorbar": {
             "outlinewidth": 0,
             "ticks": ""
            },
            "type": "choropleth"
           }
          ],
          "contour": [
           {
            "colorbar": {
             "outlinewidth": 0,
             "ticks": ""
            },
            "colorscale": [
             [
              0,
              "#0d0887"
             ],
             [
              0.1111111111111111,
              "#46039f"
             ],
             [
              0.2222222222222222,
              "#7201a8"
             ],
             [
              0.3333333333333333,
              "#9c179e"
             ],
             [
              0.4444444444444444,
              "#bd3786"
             ],
             [
              0.5555555555555556,
              "#d8576b"
             ],
             [
              0.6666666666666666,
              "#ed7953"
             ],
             [
              0.7777777777777778,
              "#fb9f3a"
             ],
             [
              0.8888888888888888,
              "#fdca26"
             ],
             [
              1,
              "#f0f921"
             ]
            ],
            "type": "contour"
           }
          ],
          "contourcarpet": [
           {
            "colorbar": {
             "outlinewidth": 0,
             "ticks": ""
            },
            "type": "contourcarpet"
           }
          ],
          "heatmap": [
           {
            "colorbar": {
             "outlinewidth": 0,
             "ticks": ""
            },
            "colorscale": [
             [
              0,
              "#0d0887"
             ],
             [
              0.1111111111111111,
              "#46039f"
             ],
             [
              0.2222222222222222,
              "#7201a8"
             ],
             [
              0.3333333333333333,
              "#9c179e"
             ],
             [
              0.4444444444444444,
              "#bd3786"
             ],
             [
              0.5555555555555556,
              "#d8576b"
             ],
             [
              0.6666666666666666,
              "#ed7953"
             ],
             [
              0.7777777777777778,
              "#fb9f3a"
             ],
             [
              0.8888888888888888,
              "#fdca26"
             ],
             [
              1,
              "#f0f921"
             ]
            ],
            "type": "heatmap"
           }
          ],
          "heatmapgl": [
           {
            "colorbar": {
             "outlinewidth": 0,
             "ticks": ""
            },
            "colorscale": [
             [
              0,
              "#0d0887"
             ],
             [
              0.1111111111111111,
              "#46039f"
             ],
             [
              0.2222222222222222,
              "#7201a8"
             ],
             [
              0.3333333333333333,
              "#9c179e"
             ],
             [
              0.4444444444444444,
              "#bd3786"
             ],
             [
              0.5555555555555556,
              "#d8576b"
             ],
             [
              0.6666666666666666,
              "#ed7953"
             ],
             [
              0.7777777777777778,
              "#fb9f3a"
             ],
             [
              0.8888888888888888,
              "#fdca26"
             ],
             [
              1,
              "#f0f921"
             ]
            ],
            "type": "heatmapgl"
           }
          ],
          "histogram": [
           {
            "marker": {
             "pattern": {
              "fillmode": "overlay",
              "size": 10,
              "solidity": 0.2
             }
            },
            "type": "histogram"
           }
          ],
          "histogram2d": [
           {
            "colorbar": {
             "outlinewidth": 0,
             "ticks": ""
            },
            "colorscale": [
             [
              0,
              "#0d0887"
             ],
             [
              0.1111111111111111,
              "#46039f"
             ],
             [
              0.2222222222222222,
              "#7201a8"
             ],
             [
              0.3333333333333333,
              "#9c179e"
             ],
             [
              0.4444444444444444,
              "#bd3786"
             ],
             [
              0.5555555555555556,
              "#d8576b"
             ],
             [
              0.6666666666666666,
              "#ed7953"
             ],
             [
              0.7777777777777778,
              "#fb9f3a"
             ],
             [
              0.8888888888888888,
              "#fdca26"
             ],
             [
              1,
              "#f0f921"
             ]
            ],
            "type": "histogram2d"
           }
          ],
          "histogram2dcontour": [
           {
            "colorbar": {
             "outlinewidth": 0,
             "ticks": ""
            },
            "colorscale": [
             [
              0,
              "#0d0887"
             ],
             [
              0.1111111111111111,
              "#46039f"
             ],
             [
              0.2222222222222222,
              "#7201a8"
             ],
             [
              0.3333333333333333,
              "#9c179e"
             ],
             [
              0.4444444444444444,
              "#bd3786"
             ],
             [
              0.5555555555555556,
              "#d8576b"
             ],
             [
              0.6666666666666666,
              "#ed7953"
             ],
             [
              0.7777777777777778,
              "#fb9f3a"
             ],
             [
              0.8888888888888888,
              "#fdca26"
             ],
             [
              1,
              "#f0f921"
             ]
            ],
            "type": "histogram2dcontour"
           }
          ],
          "mesh3d": [
           {
            "colorbar": {
             "outlinewidth": 0,
             "ticks": ""
            },
            "type": "mesh3d"
           }
          ],
          "parcoords": [
           {
            "line": {
             "colorbar": {
              "outlinewidth": 0,
              "ticks": ""
             }
            },
            "type": "parcoords"
           }
          ],
          "pie": [
           {
            "automargin": true,
            "type": "pie"
           }
          ],
          "scatter": [
           {
            "fillpattern": {
             "fillmode": "overlay",
             "size": 10,
             "solidity": 0.2
            },
            "type": "scatter"
           }
          ],
          "scatter3d": [
           {
            "line": {
             "colorbar": {
              "outlinewidth": 0,
              "ticks": ""
             }
            },
            "marker": {
             "colorbar": {
              "outlinewidth": 0,
              "ticks": ""
             }
            },
            "type": "scatter3d"
           }
          ],
          "scattercarpet": [
           {
            "marker": {
             "colorbar": {
              "outlinewidth": 0,
              "ticks": ""
             }
            },
            "type": "scattercarpet"
           }
          ],
          "scattergeo": [
           {
            "marker": {
             "colorbar": {
              "outlinewidth": 0,
              "ticks": ""
             }
            },
            "type": "scattergeo"
           }
          ],
          "scattergl": [
           {
            "marker": {
             "colorbar": {
              "outlinewidth": 0,
              "ticks": ""
             }
            },
            "type": "scattergl"
           }
          ],
          "scattermapbox": [
           {
            "marker": {
             "colorbar": {
              "outlinewidth": 0,
              "ticks": ""
             }
            },
            "type": "scattermapbox"
           }
          ],
          "scatterpolar": [
           {
            "marker": {
             "colorbar": {
              "outlinewidth": 0,
              "ticks": ""
             }
            },
            "type": "scatterpolar"
           }
          ],
          "scatterpolargl": [
           {
            "marker": {
             "colorbar": {
              "outlinewidth": 0,
              "ticks": ""
             }
            },
            "type": "scatterpolargl"
           }
          ],
          "scatterternary": [
           {
            "marker": {
             "colorbar": {
              "outlinewidth": 0,
              "ticks": ""
             }
            },
            "type": "scatterternary"
           }
          ],
          "surface": [
           {
            "colorbar": {
             "outlinewidth": 0,
             "ticks": ""
            },
            "colorscale": [
             [
              0,
              "#0d0887"
             ],
             [
              0.1111111111111111,
              "#46039f"
             ],
             [
              0.2222222222222222,
              "#7201a8"
             ],
             [
              0.3333333333333333,
              "#9c179e"
             ],
             [
              0.4444444444444444,
              "#bd3786"
             ],
             [
              0.5555555555555556,
              "#d8576b"
             ],
             [
              0.6666666666666666,
              "#ed7953"
             ],
             [
              0.7777777777777778,
              "#fb9f3a"
             ],
             [
              0.8888888888888888,
              "#fdca26"
             ],
             [
              1,
              "#f0f921"
             ]
            ],
            "type": "surface"
           }
          ],
          "table": [
           {
            "cells": {
             "fill": {
              "color": "#EBF0F8"
             },
             "line": {
              "color": "white"
             }
            },
            "header": {
             "fill": {
              "color": "#C8D4E3"
             },
             "line": {
              "color": "white"
             }
            },
            "type": "table"
           }
          ]
         },
         "layout": {
          "annotationdefaults": {
           "arrowcolor": "#2a3f5f",
           "arrowhead": 0,
           "arrowwidth": 1
          },
          "autotypenumbers": "strict",
          "coloraxis": {
           "colorbar": {
            "outlinewidth": 0,
            "ticks": ""
           }
          },
          "colorscale": {
           "diverging": [
            [
             0,
             "#8e0152"
            ],
            [
             0.1,
             "#c51b7d"
            ],
            [
             0.2,
             "#de77ae"
            ],
            [
             0.3,
             "#f1b6da"
            ],
            [
             0.4,
             "#fde0ef"
            ],
            [
             0.5,
             "#f7f7f7"
            ],
            [
             0.6,
             "#e6f5d0"
            ],
            [
             0.7,
             "#b8e186"
            ],
            [
             0.8,
             "#7fbc41"
            ],
            [
             0.9,
             "#4d9221"
            ],
            [
             1,
             "#276419"
            ]
           ],
           "sequential": [
            [
             0,
             "#0d0887"
            ],
            [
             0.1111111111111111,
             "#46039f"
            ],
            [
             0.2222222222222222,
             "#7201a8"
            ],
            [
             0.3333333333333333,
             "#9c179e"
            ],
            [
             0.4444444444444444,
             "#bd3786"
            ],
            [
             0.5555555555555556,
             "#d8576b"
            ],
            [
             0.6666666666666666,
             "#ed7953"
            ],
            [
             0.7777777777777778,
             "#fb9f3a"
            ],
            [
             0.8888888888888888,
             "#fdca26"
            ],
            [
             1,
             "#f0f921"
            ]
           ],
           "sequentialminus": [
            [
             0,
             "#0d0887"
            ],
            [
             0.1111111111111111,
             "#46039f"
            ],
            [
             0.2222222222222222,
             "#7201a8"
            ],
            [
             0.3333333333333333,
             "#9c179e"
            ],
            [
             0.4444444444444444,
             "#bd3786"
            ],
            [
             0.5555555555555556,
             "#d8576b"
            ],
            [
             0.6666666666666666,
             "#ed7953"
            ],
            [
             0.7777777777777778,
             "#fb9f3a"
            ],
            [
             0.8888888888888888,
             "#fdca26"
            ],
            [
             1,
             "#f0f921"
            ]
           ]
          },
          "colorway": [
           "#636efa",
           "#EF553B",
           "#00cc96",
           "#ab63fa",
           "#FFA15A",
           "#19d3f3",
           "#FF6692",
           "#B6E880",
           "#FF97FF",
           "#FECB52"
          ],
          "font": {
           "color": "#2a3f5f"
          },
          "geo": {
           "bgcolor": "white",
           "lakecolor": "white",
           "landcolor": "#E5ECF6",
           "showlakes": true,
           "showland": true,
           "subunitcolor": "white"
          },
          "hoverlabel": {
           "align": "left"
          },
          "hovermode": "closest",
          "mapbox": {
           "style": "light"
          },
          "paper_bgcolor": "white",
          "plot_bgcolor": "#E5ECF6",
          "polar": {
           "angularaxis": {
            "gridcolor": "white",
            "linecolor": "white",
            "ticks": ""
           },
           "bgcolor": "#E5ECF6",
           "radialaxis": {
            "gridcolor": "white",
            "linecolor": "white",
            "ticks": ""
           }
          },
          "scene": {
           "xaxis": {
            "backgroundcolor": "#E5ECF6",
            "gridcolor": "white",
            "gridwidth": 2,
            "linecolor": "white",
            "showbackground": true,
            "ticks": "",
            "zerolinecolor": "white"
           },
           "yaxis": {
            "backgroundcolor": "#E5ECF6",
            "gridcolor": "white",
            "gridwidth": 2,
            "linecolor": "white",
            "showbackground": true,
            "ticks": "",
            "zerolinecolor": "white"
           },
           "zaxis": {
            "backgroundcolor": "#E5ECF6",
            "gridcolor": "white",
            "gridwidth": 2,
            "linecolor": "white",
            "showbackground": true,
            "ticks": "",
            "zerolinecolor": "white"
           }
          },
          "shapedefaults": {
           "line": {
            "color": "#2a3f5f"
           }
          },
          "ternary": {
           "aaxis": {
            "gridcolor": "white",
            "linecolor": "white",
            "ticks": ""
           },
           "baxis": {
            "gridcolor": "white",
            "linecolor": "white",
            "ticks": ""
           },
           "bgcolor": "#E5ECF6",
           "caxis": {
            "gridcolor": "white",
            "linecolor": "white",
            "ticks": ""
           }
          },
          "title": {
           "x": 0.05
          },
          "xaxis": {
           "automargin": true,
           "gridcolor": "white",
           "linecolor": "white",
           "ticks": "",
           "title": {
            "standoff": 15
           },
           "zerolinecolor": "white",
           "zerolinewidth": 2
          },
          "yaxis": {
           "automargin": true,
           "gridcolor": "white",
           "linecolor": "white",
           "ticks": "",
           "title": {
            "standoff": 15
           },
           "zerolinecolor": "white",
           "zerolinewidth": 2
          }
         }
        },
        "title": {
         "text": "California Monthly Electricity Sales 2020 to 2024 (YTD)"
        },
        "xaxis": {
         "anchor": "y",
         "autorange": true,
         "domain": [
          0,
          1
         ],
         "range": [
          "2020-01-01",
          "2024-09-01"
         ],
         "tickformat": "%b. %Y",
         "title": {
          "text": "Months"
         },
         "type": "date"
        },
        "yaxis": {
         "anchor": "x",
         "autorange": true,
         "domain": [
          0,
          1
         ],
         "range": [
          14630.506989444444,
          28109.377800555558
         ],
         "title": {
          "text": "Sales (in million kilowatt hours)"
         },
         "type": "linear"
        }
       }
      },
      "image/png": "[encoded data removed]",
      "text/html": [
       "<div>                            <div id=\"4541311d-c28c-4def-9d52-032f927ec4e6\" class=\"plotly-graph-div\" style=\"height:525px; width:100%;\"></div>            <script type=\"text/javascript\">                require([\"plotly\"], function(Plotly) {                    window.PLOTLYENV=window.PLOTLYENV || {};                                    if (document.getElementById(\"4541311d-c28c-4def-9d52-032f927ec4e6\")) {                    Plotly.newPlot(                        \"4541311d-c28c-4def-9d52-032f927ec4e6\",                        [{\"hovertemplate\":\"Month=%{x}\\u003cbr\\u003eSales (in million kilowatt hours)=%{y}\\u003cextra\\u003e\\u003c\\u002fextra\\u003e\",\"legendgroup\":\"\",\"line\":{\"color\":\"#636efa\",\"dash\":\"solid\"},\"marker\":{\"symbol\":\"circle\"},\"mode\":\"lines\",\"name\":\"\",\"orientation\":\"v\",\"showlegend\":false,\"x\":[\"2020-01-01T00:00:00\",\"2020-02-01T00:00:00\",\"2020-03-01T00:00:00\",\"2020-04-01T00:00:00\",\"2020-05-01T00:00:00\",\"2020-06-01T00:00:00\",\"2020-07-01T00:00:00\",\"2020-08-01T00:00:00\",\"2020-09-01T00:00:00\",\"2020-10-01T00:00:00\",\"2020-11-01T00:00:00\",\"2020-12-01T00:00:00\",\"2021-01-01T00:00:00\",\"2021-02-01T00:00:00\",\"2021-03-01T00:00:00\",\"2021-04-01T00:00:00\",\"2021-05-01T00:00:00\",\"2021-06-01T00:00:00\",\"2021-07-01T00:00:00\",\"2021-08-01T00:00:00\",\"2021-09-01T00:00:00\",\"2021-10-01T00:00:00\",\"2021-11-01T00:00:00\",\"2021-12-01T00:00:00\",\"2022-01-01T00:00:00\",\"2022-02-01T00:00:00\",\"2022-03-01T00:00:00\",\"2022-04-01T00:00:00\",\"2022-05-01T00:00:00\",\"2022-06-01T00:00:00\",\"2022-07-01T00:00:00\",\"2022-08-01T00:00:00\",\"2022-09-01T00:00:00\",\"2022-10-01T00:00:00\",\"2022-11-01T00:00:00\",\"2022-12-01T00:00:00\",\"2023-01-01T00:00:00\",\"2023-02-01T00:00:00\",\"2023-03-01T00:00:00\",\"2023-04-01T00:00:00\",\"2023-05-01T00:00:00\",\"2023-06-01T00:00:00\",\"2023-07-01T00:00:00\",\"2023-08-01T00:00:00\",\"2023-09-01T00:00:00\",\"2023-10-01T00:00:00\",\"2023-11-01T00:00:00\",\"2023-12-01T00:00:00\",\"2024-01-01T00:00:00\",\"2024-02-01T00:00:00\",\"2024-03-01T00:00:00\",\"2024-04-01T00:00:00\",\"2024-05-01T00:00:00\",\"2024-06-01T00:00:00\",\"2024-07-01T00:00:00\",\"2024-08-01T00:00:00\",\"2024-09-01T00:00:00\"],\"xaxis\":\"x\",\"y\":[20562.24693,16783.77126,19334.99603,16963.48016,18956.69382,21459.87126,26098.31993,24001.90557,23975.36364,23587.97568,16723.70403,21726.34372,18579.70886,16063.97068,21151.14217,15304.45053,18604.99369,22391.08085,26068.01914,26005.66433,23607.68684,20641.27103,18754.52085,20077.35605,20422.44347,16636.41958,19752.80989,18170.50477,18943.67664,21564.76439,24188.1955,27435.43426,26005.26868,21570.34154,18003.13589,19176.14139,20504.70675,17440.48579,19506.41869,16261.33366,18288.412,19333.43379,23048.26218,25101.55563,22466.03859,20390.47299,18479.20564,18660.12634,20040.74935,17717.21278,17659.18439,17523.44992,17835.05183,20318.43309,25531.44162,25520.6293,22989.69689],\"yaxis\":\"y\",\"type\":\"scatter\"}],                        {\"template\":{\"data\":{\"histogram2dcontour\":[{\"type\":\"histogram2dcontour\",\"colorbar\":{\"outlinewidth\":0,\"ticks\":\"\"},\"colorscale\":[[0.0,\"#0d0887\"],[0.1111111111111111,\"#46039f\"],[0.2222222222222222,\"#7201a8\"],[0.3333333333333333,\"#9c179e\"],[0.4444444444444444,\"#bd3786\"],[0.5555555555555556,\"#d8576b\"],[0.6666666666666666,\"#ed7953\"],[0.7777777777777778,\"#fb9f3a\"],[0.8888888888888888,\"#fdca26\"],[1.0,\"#f0f921\"]]}],\"choropleth\":[{\"type\":\"choropleth\",\"colorbar\":{\"outlinewidth\":0,\"ticks\":\"\"}}],\"histogram2d\":[{\"type\":\"histogram2d\",\"colorbar\":{\"outlinewidth\":0,\"ticks\":\"\"},\"colorscale\":[[0.0,\"#0d0887\"],[0.1111111111111111,\"#46039f\"],[0.2222222222222222,\"#7201a8\"],[0.3333333333333333,\"#9c179e\"],[0.4444444444444444,\"#bd3786\"],[0.5555555555555556,\"#d8576b\"],[0.6666666666666666,\"#ed7953\"],[0.7777777777777778,\"#fb9f3a\"],[0.8888888888888888,\"#fdca26\"],[1.0,\"#f0f921\"]]}],\"heatmap\":[{\"type\":\"heatmap\",\"colorbar\":{\"outlinewidth\":0,\"ticks\":\"\"},\"colorscale\":[[0.0,\"#0d0887\"],[0.1111111111111111,\"#46039f\"],[0.2222222222222222,\"#7201a8\"],[0.3333333333333333,\"#9c179e\"],[0.4444444444444444,\"#bd3786\"],[0.5555555555555556,\"#d8576b\"],[0.6666666666666666,\"#ed7953\"],[0.7777777777777778,\"#fb9f3a\"],[0.8888888888888888,\"#fdca26\"],[1.0,\"#f0f921\"]]}],\"heatmapgl\":[{\"type\":\"heatmapgl\",\"colorbar\":{\"outlinewidth\":0,\"ticks\":\"\"},\"colorscale\":[[0.0,\"#0d0887\"],[0.1111111111111111,\"#46039f\"],[0.2222222222222222,\"#7201a8\"],[0.3333333333333333,\"#9c179e\"],[0.4444444444444444,\"#bd3786\"],[0.5555555555555556,\"#d8576b\"],[0.6666666666666666,\"#ed7953\"],[0.7777777777777778,\"#fb9f3a\"],[0.8888888888888888,\"#fdca26\"],[1.0,\"#f0f921\"]]}],\"contourcarpet\":[{\"type\":\"contourcarpet\",\"colorbar\":{\"outlinewidth\":0,\"ticks\":\"\"}}],\"contour\":[{\"type\":\"contour\",\"colorbar\":{\"outlinewidth\":0,\"ticks\":\"\"},\"colorscale\":[[0.0,\"#0d0887\"],[0.1111111111111111,\"#46039f\"],[0.2222222222222222,\"#7201a8\"],[0.3333333333333333,\"#9c179e\"],[0.4444444444444444,\"#bd3786\"],[0.5555555555555556,\"#d8576b\"],[0.6666666666666666,\"#ed7953\"],[0.7777777777777778,\"#fb9f3a\"],[0.8888888888888888,\"#fdca26\"],[1.0,\"#f0f921\"]]}],\"surface\":[{\"type\":\"surface\",\"colorbar\":{\"outlinewidth\":0,\"ticks\":\"\"},\"colorscale\":[[0.0,\"#0d0887\"],[0.1111111111111111,\"#46039f\"],[0.2222222222222222,\"#7201a8\"],[0.3333333333333333,\"#9c179e\"],[0.4444444444444444,\"#bd3786\"],[0.5555555555555556,\"#d8576b\"],[0.6666666666666666,\"#ed7953\"],[0.7777777777777778,\"#fb9f3a\"],[0.8888888888888888,\"#fdca26\"],[1.0,\"#f0f921\"]]}],\"mesh3d\":[{\"type\":\"mesh3d\",\"colorbar\":{\"outlinewidth\":0,\"ticks\":\"\"}}],\"scatter\":[{\"fillpattern\":{\"fillmode\":\"overlay\",\"size\":10,\"solidity\":0.2},\"type\":\"scatter\"}],\"parcoords\":[{\"type\":\"parcoords\",\"line\":{\"colorbar\":{\"outlinewidth\":0,\"ticks\":\"\"}}}],\"scatterpolargl\":[{\"type\":\"scatterpolargl\",\"marker\":{\"colorbar\":{\"outlinewidth\":0,\"ticks\":\"\"}}}],\"bar\":[{\"error_x\":{\"color\":\"#2a3f5f\"},\"error_y\":{\"color\":\"#2a3f5f\"},\"marker\":{\"line\":{\"color\":\"#E5ECF6\",\"width\":0.5},\"pattern\":{\"fillmode\":\"overlay\",\"size\":10,\"solidity\":0.2}},\"type\":\"bar\"}],\"scattergeo\":[{\"type\":\"scattergeo\",\"marker\":{\"colorbar\":{\"outlinewidth\":0,\"ticks\":\"\"}}}],\"scatterpolar\":[{\"type\":\"scatterpolar\",\"marker\":{\"colorbar\":{\"outlinewidth\":0,\"ticks\":\"\"}}}],\"histogram\":[{\"marker\":{\"pattern\":{\"fillmode\":\"overlay\",\"size\":10,\"solidity\":0.2}},\"type\":\"histogram\"}],\"scattergl\":[{\"type\":\"scattergl\",\"marker\":{\"colorbar\":{\"outlinewidth\":0,\"ticks\":\"\"}}}],\"scatter3d\":[{\"type\":\"scatter3d\",\"line\":{\"colorbar\":{\"outlinewidth\":0,\"ticks\":\"\"}},\"marker\":{\"colorbar\":{\"outlinewidth\":0,\"ticks\":\"\"}}}],\"scattermapbox\":[{\"type\":\"scattermapbox\",\"marker\":{\"colorbar\":{\"outlinewidth\":0,\"ticks\":\"\"}}}],\"scatterternary\":[{\"type\":\"scatterternary\",\"marker\":{\"colorbar\":{\"outlinewidth\":0,\"ticks\":\"\"}}}],\"scattercarpet\":[{\"type\":\"scattercarpet\",\"marker\":{\"colorbar\":{\"outlinewidth\":0,\"ticks\":\"\"}}}],\"carpet\":[{\"aaxis\":{\"endlinecolor\":\"#2a3f5f\",\"gridcolor\":\"white\",\"linecolor\":\"white\",\"minorgridcolor\":\"white\",\"startlinecolor\":\"#2a3f5f\"},\"baxis\":{\"endlinecolor\":\"#2a3f5f\",\"gridcolor\":\"white\",\"linecolor\":\"white\",\"minorgridcolor\":\"white\",\"startlinecolor\":\"#2a3f5f\"},\"type\":\"carpet\"}],\"table\":[{\"cells\":{\"fill\":{\"color\":\"#EBF0F8\"},\"line\":{\"color\":\"white\"}},\"header\":{\"fill\":{\"color\":\"#C8D4E3\"},\"line\":{\"color\":\"white\"}},\"type\":\"table\"}],\"barpolar\":[{\"marker\":{\"line\":{\"color\":\"#E5ECF6\",\"width\":0.5},\"pattern\":{\"fillmode\":\"overlay\",\"size\":10,\"solidity\":0.2}},\"type\":\"barpolar\"}],\"pie\":[{\"automargin\":true,\"type\":\"pie\"}]},\"layout\":{\"autotypenumbers\":\"strict\",\"colorway\":[\"#636efa\",\"#EF553B\",\"#00cc96\",\"#ab63fa\",\"#FFA15A\",\"#19d3f3\",\"#FF6692\",\"#B6E880\",\"#FF97FF\",\"#FECB52\"],\"font\":{\"color\":\"#2a3f5f\"},\"hovermode\":\"closest\",\"hoverlabel\":{\"align\":\"left\"},\"paper_bgcolor\":\"white\",\"plot_bgcolor\":\"#E5ECF6\",\"polar\":{\"bgcolor\":\"#E5ECF6\",\"angularaxis\":{\"gridcolor\":\"white\",\"linecolor\":\"white\",\"ticks\":\"\"},\"radialaxis\":{\"gridcolor\":\"white\",\"linecolor\":\"white\",\"ticks\":\"\"}},\"ternary\":{\"bgcolor\":\"#E5ECF6\",\"aaxis\":{\"gridcolor\":\"white\",\"linecolor\":\"white\",\"ticks\":\"\"},\"baxis\":{\"gridcolor\":\"white\",\"linecolor\":\"white\",\"ticks\":\"\"},\"caxis\":{\"gridcolor\":\"white\",\"linecolor\":\"white\",\"ticks\":\"\"}},\"coloraxis\":{\"colorbar\":{\"outlinewidth\":0,\"ticks\":\"\"}},\"colorscale\":{\"sequential\":[[0.0,\"#0d0887\"],[0.1111111111111111,\"#46039f\"],[0.2222222222222222,\"#7201a8\"],[0.3333333333333333,\"#9c179e\"],[0.4444444444444444,\"#bd3786\"],[0.5555555555555556,\"#d8576b\"],[0.6666666666666666,\"#ed7953\"],[0.7777777777777778,\"#fb9f3a\"],[0.8888888888888888,\"#fdca26\"],[1.0,\"#f0f921\"]],\"sequentialminus\":[[0.0,\"#0d0887\"],[0.1111111111111111,\"#46039f\"],[0.2222222222222222,\"#7201a8\"],[0.3333333333333333,\"#9c179e\"],[0.4444444444444444,\"#bd3786\"],[0.5555555555555556,\"#d8576b\"],[0.6666666666666666,\"#ed7953\"],[0.7777777777777778,\"#fb9f3a\"],[0.8888888888888888,\"#fdca26\"],[1.0,\"#f0f921\"]],\"diverging\":[[0,\"#8e0152\"],[0.1,\"#c51b7d\"],[0.2,\"#de77ae\"],[0.3,\"#f1b6da\"],[0.4,\"#fde0ef\"],[0.5,\"#f7f7f7\"],[0.6,\"#e6f5d0\"],[0.7,\"#b8e186\"],[0.8,\"#7fbc41\"],[0.9,\"#4d9221\"],[1,\"#276419\"]]},\"xaxis\":{\"gridcolor\":\"white\",\"linecolor\":\"white\",\"ticks\":\"\",\"title\":{\"standoff\":15},\"zerolinecolor\":\"white\",\"automargin\":true,\"zerolinewidth\":2},\"yaxis\":{\"gridcolor\":\"white\",\"linecolor\":\"white\",\"ticks\":\"\",\"title\":{\"standoff\":15},\"zerolinecolor\":\"white\",\"automargin\":true,\"zerolinewidth\":2},\"scene\":{\"xaxis\":{\"backgroundcolor\":\"#E5ECF6\",\"gridcolor\":\"white\",\"linecolor\":\"white\",\"showbackground\":true,\"ticks\":\"\",\"zerolinecolor\":\"white\",\"gridwidth\":2},\"yaxis\":{\"backgroundcolor\":\"#E5ECF6\",\"gridcolor\":\"white\",\"linecolor\":\"white\",\"showbackground\":true,\"ticks\":\"\",\"zerolinecolor\":\"white\",\"gridwidth\":2},\"zaxis\":{\"backgroundcolor\":\"#E5ECF6\",\"gridcolor\":\"white\",\"linecolor\":\"white\",\"showbackground\":true,\"ticks\":\"\",\"zerolinecolor\":\"white\",\"gridwidth\":2}},\"shapedefaults\":{\"line\":{\"color\":\"#2a3f5f\"}},\"annotationdefaults\":{\"arrowcolor\":\"#2a3f5f\",\"arrowhead\":0,\"arrowwidth\":1},\"geo\":{\"bgcolor\":\"white\",\"landcolor\":\"#E5ECF6\",\"subunitcolor\":\"white\",\"showland\":true,\"showlakes\":true,\"lakecolor\":\"white\"},\"title\":{\"x\":0.05},\"mapbox\":{\"style\":\"light\"}}},\"xaxis\":{\"anchor\":\"y\",\"domain\":[0.0,1.0],\"title\":{\"text\":\"Months\"},\"tickformat\":\"%b. %Y\"},\"yaxis\":{\"anchor\":\"x\",\"domain\":[0.0,1.0],\"title\":{\"text\":\"Sales (in million kilowatt hours)\"}},\"legend\":{\"tracegroupgap\":0},\"title\":{\"text\":\"California Monthly Electricity Sales 2020 to 2024 (YTD)\"}},                        {\"responsive\": true}                    ).then(function(){\n",
       "                            \n",
       "var gd = document.getElementById('4541311d-c28c-4def-9d52-032f927ec4e6');\n",
       "var x = new MutationObserver(function (mutations, observer) {{\n",
       "        var display = window.getComputedStyle(gd).display;\n",
       "        if (!display || display === 'none') {{\n",
       "            console.log([gd, 'removed!']);\n",
       "            Plotly.purge(gd);\n",
       "            observer.disconnect();\n",
       "        }}\n",
       "}});\n",
       "\n",
       "// Listen for the removal of the full notebook cells\n",
       "var notebookContainer = gd.closest('#notebook-container');\n",
       "if (notebookContainer) {{\n",
       "    x.observe(notebookContainer, {childList: true});\n",
       "}}\n",
       "\n",
       "// Listen for the clearing of the current output cell\n",
       "var outputEl = gd.closest('.output');\n",
       "if (outputEl) {{\n",
       "    x.observe(outputEl, {childList: true});\n",
       "}}\n",
       "\n",
       "                        })                };                });            </script>        </div>"
      ]
     },
     "metadata": {},
     "output_type": "display_data"
    }
   ],
   "source": [
    "#Interactive Plot\n",
    "fig = px.line(updated_california, x='date', y='sales', \n",
    "              title='California Monthly Electricity Sales 2020 to 2024 (YTD)', \n",
    "              labels={'date': 'Month', 'sales': 'Sales (in million kilowatt hours)'})\n",
    "\n",
    "#Updating the labels\n",
    "fig.update_layout(\n",
    "    xaxis_tickformat='%b. %Y',  #Changing the format\n",
    "    xaxis_title='Months',\n",
    "    yaxis_title='Sales (in million kilowatt hours)'\n",
    ")\n",
    "fig.write_html('CA_Time_Series.html')\n",
    "# Show the plot\n",
    "fig.show()"
   ]
  },
  {
   "cell_type": "code",
   "execution_count": 320,
   "id": "0f45a80b-5922-47da-8d6f-5b2e19475664",
   "metadata": {},
   "outputs": [
    {
     "data": {
      "text/html": [
       "<a href='CA_Time_Series.html' target='_blank'>CA_Time_Series.html</a><br>"
      ],
      "text/plain": [
       "/Users/NoahGlosson/Desktop/STA 141B Material/CA_Time_Series.html"
      ]
     },
     "execution_count": 320,
     "metadata": {},
     "output_type": "execute_result"
    }
   ],
   "source": [
    "fig.write_html('CA_Time_Series.html')\n",
    "FileLink('CA_Time_Series.html')"
   ]
  },
  {
   "cell_type": "code",
   "execution_count": 291,
   "id": "2775fa7e-b445-4c79-bc25-52a3d20abff1",
   "metadata": {},
   "outputs": [],
   "source": [
    "driver = webdriver.Chrome()\n",
    "#Big url\n",
    "base_url=\"https://www.ncei.noaa.gov/access/monitoring/climate-at-a-glance/statewide/time-series/4/tavg/1/0/2020-2024\"\n",
    "params = {\n",
    "    \"base_prd\": \"true\",          \n",
    "    \"begbaseyear\": \"1901\",       \n",
    "    \"endbaseyear\": \"2000\"        \n",
    "}\n",
    "\n",
    "# Construct URL with parameters\n",
    "url = f\"{base_url}?base_prd={params['base_prd']}&begbaseyear={params['begbaseyear']}&endbaseyear={params['endbaseyear']}\"\n",
    "driver.get(url) #Get our web driver URL\n",
    "time.sleep(5) \n",
    "soup = BeautifulSoup(driver.page_source, 'lxml')\n",
    "table = soup.find('table')\n",
    "\n",
    "#Dictionary to store results\n",
    "temp_dict = {}\n",
    "\n",
    "#If we discovered a table\n",
    "if table:\n",
    "    rows = table.find_all('tr')\n",
    "    for row in rows:\n",
    "        #Extract Rows\n",
    "        cols = row.find_all('td')\n",
    "        # If there are columns in the row (skip the header row)\n",
    "        if len(cols) > 0:\n",
    "            #Cleaning up our text\n",
    "            cols = [col.text.strip() for col in cols]\n",
    "            time_period = cols[0]\n",
    "            temp_str = cols[1]\n",
    "            #Removing Farenheit symbol and making temperatures floats\n",
    "            temp_float = float(temp_str.replace('°F', '').strip()) \n",
    "            \n",
    "            #Creating a dictionary\n",
    "            temp_dict[time_period] = temp_float\n",
    "\n",
    "california_temp_dictionary= dict(reversed(list(temp_dict.items()))) #Reversing the order\n",
    "driver.quit()"
   ]
  },
  {
   "cell_type": "code",
   "execution_count": 292,
   "id": "5be79fe3-85b3-4ded-b9ad-9f33d4118aae",
   "metadata": {},
   "outputs": [
    {
     "name": "stderr",
     "output_type": "stream",
     "text": [
      "/var/folders/ms/1jfxwvmn1r99486_p5c6snv00000gq/T/ipykernel_226/2450854602.py:6: SettingWithCopyWarning:\n",
      "\n",
      "\n",
      "A value is trying to be set on a copy of a slice from a DataFrame.\n",
      "Try using .loc[row_indexer,col_indexer] = value instead\n",
      "\n",
      "See the caveats in the documentation: https://pandas.pydata.org/pandas-docs/stable/user_guide/indexing.html#returning-a-view-versus-a-copy\n",
      "\n"
     ]
    }
   ],
   "source": [
    "#Updating our data values\n",
    "california_temperatures=list(california_temp_dictionary.values())\n",
    "len(california_temperatures)\n",
    "#We want to get rid of final two months\n",
    "values=california_temperatures[:-2]\n",
    "updated_california['temperature']=values"
   ]
  },
  {
   "cell_type": "code",
   "execution_count": 293,
   "id": "9a2a6a77-b535-4375-9027-b5e474e9c47d",
   "metadata": {},
   "outputs": [],
   "source": [
    "driver = webdriver.Chrome()\n",
    "url=\"https://www.ncei.noaa.gov/access/monitoring/climate-at-a-glance/statewide/time-series/4/pcp/1/0/2020-2024\"\n",
    "params = {\n",
    "    \"base_prd\": \"true\",          \n",
    "    \"begbaseyear\": \"1901\",       \n",
    "    \"endbaseyear\": \"2000\"        \n",
    "}\n",
    "\n",
    "# Construct URL with parameters\n",
    "winter_url = f\"{url}?base_prd={params['base_prd']}&begbaseyear={params['begbaseyear']}&endbaseyear={params['endbaseyear']}\"\n",
    "driver.get(winter_url) #Get our web driver URL\n",
    "time.sleep(5) \n",
    "soup = BeautifulSoup(driver.page_source, 'lxml')\n",
    "table = soup.find('table')\n",
    "\n",
    "#Dictionary to store results\n",
    "prec_dict = {}\n",
    "\n",
    "#If we discovered a table\n",
    "if table:\n",
    "    rows = table.find_all('tr')\n",
    "    for row in rows:\n",
    "        #Extract Rows\n",
    "        cols = row.find_all('td')\n",
    "        # If there are columns in the row (skip the header row)\n",
    "        if len(cols) > 0:\n",
    "            #Cleaning up our text\n",
    "            cols = [col.text.strip() for col in cols]\n",
    "            time_period = cols[0]\n",
    "            perc_str = cols[1]\n",
    "            #Removing Farenheit symbol and making temperatures floats\n",
    "            perc_float = float(perc_str.replace('\"', '').strip()) \n",
    "            \n",
    "            #Creating a dictionary\n",
    "            prec_dict[time_period] = perc_float\n",
    "\n",
    "perc_dictionary= dict(reversed(list(prec_dict.items()))) #Reversing the order"
   ]
  },
  {
   "cell_type": "code",
   "execution_count": 294,
   "id": "6c12b73c-f274-4168-8e08-e152c2fb4706",
   "metadata": {},
   "outputs": [
    {
     "name": "stderr",
     "output_type": "stream",
     "text": [
      "/var/folders/ms/1jfxwvmn1r99486_p5c6snv00000gq/T/ipykernel_226/3890880293.py:5: SettingWithCopyWarning:\n",
      "\n",
      "\n",
      "A value is trying to be set on a copy of a slice from a DataFrame.\n",
      "Try using .loc[row_indexer,col_indexer] = value instead\n",
      "\n",
      "See the caveats in the documentation: https://pandas.pydata.org/pandas-docs/stable/user_guide/indexing.html#returning-a-view-versus-a-copy\n",
      "\n"
     ]
    },
    {
     "data": {
      "text/html": [
       "<div>\n",
       "<style scoped>\n",
       "    .dataframe tbody tr th:only-of-type {\n",
       "        vertical-align: middle;\n",
       "    }\n",
       "\n",
       "    .dataframe tbody tr th {\n",
       "        vertical-align: top;\n",
       "    }\n",
       "\n",
       "    .dataframe thead th {\n",
       "        text-align: right;\n",
       "    }\n",
       "</style>\n",
       "<table border=\"1\" class=\"dataframe\">\n",
       "  <thead>\n",
       "    <tr style=\"text-align: right;\">\n",
       "      <th></th>\n",
       "      <th>month</th>\n",
       "      <th>sales</th>\n",
       "      <th>temperature</th>\n",
       "      <th>precipitation</th>\n",
       "    </tr>\n",
       "  </thead>\n",
       "  <tbody>\n",
       "    <tr>\n",
       "      <th>0</th>\n",
       "      <td>Jan. 2020</td>\n",
       "      <td>20562.24693</td>\n",
       "      <td>45.3</td>\n",
       "      <td>2.06</td>\n",
       "    </tr>\n",
       "    <tr>\n",
       "      <th>1</th>\n",
       "      <td>Feb. 2020</td>\n",
       "      <td>16783.77126</td>\n",
       "      <td>49.2</td>\n",
       "      <td>0.21</td>\n",
       "    </tr>\n",
       "    <tr>\n",
       "      <th>2</th>\n",
       "      <td>Mar. 2020</td>\n",
       "      <td>19334.99603</td>\n",
       "      <td>48.0</td>\n",
       "      <td>3.19</td>\n",
       "    </tr>\n",
       "    <tr>\n",
       "      <th>3</th>\n",
       "      <td>Apr. 2020</td>\n",
       "      <td>16963.48016</td>\n",
       "      <td>56.6</td>\n",
       "      <td>1.99</td>\n",
       "    </tr>\n",
       "    <tr>\n",
       "      <th>4</th>\n",
       "      <td>May. 2020</td>\n",
       "      <td>18956.69382</td>\n",
       "      <td>64.6</td>\n",
       "      <td>1.20</td>\n",
       "    </tr>\n",
       "    <tr>\n",
       "      <th>5</th>\n",
       "      <td>Jun. 2020</td>\n",
       "      <td>21459.87126</td>\n",
       "      <td>70.4</td>\n",
       "      <td>0.16</td>\n",
       "    </tr>\n",
       "    <tr>\n",
       "      <th>6</th>\n",
       "      <td>Jul. 2020</td>\n",
       "      <td>26098.31993</td>\n",
       "      <td>76.6</td>\n",
       "      <td>0.05</td>\n",
       "    </tr>\n",
       "    <tr>\n",
       "      <th>7</th>\n",
       "      <td>Aug. 2020</td>\n",
       "      <td>24001.90557</td>\n",
       "      <td>78.9</td>\n",
       "      <td>0.10</td>\n",
       "    </tr>\n",
       "    <tr>\n",
       "      <th>8</th>\n",
       "      <td>Sep. 2020</td>\n",
       "      <td>23975.36364</td>\n",
       "      <td>74.0</td>\n",
       "      <td>0.04</td>\n",
       "    </tr>\n",
       "    <tr>\n",
       "      <th>9</th>\n",
       "      <td>Oct. 2020</td>\n",
       "      <td>23587.97568</td>\n",
       "      <td>66.2</td>\n",
       "      <td>0.05</td>\n",
       "    </tr>\n",
       "    <tr>\n",
       "      <th>10</th>\n",
       "      <td>Nov. 2020</td>\n",
       "      <td>16723.70403</td>\n",
       "      <td>50.9</td>\n",
       "      <td>1.19</td>\n",
       "    </tr>\n",
       "    <tr>\n",
       "      <th>11</th>\n",
       "      <td>Dec. 2020</td>\n",
       "      <td>21726.34372</td>\n",
       "      <td>45.5</td>\n",
       "      <td>1.83</td>\n",
       "    </tr>\n",
       "    <tr>\n",
       "      <th>12</th>\n",
       "      <td>Jan. 2021</td>\n",
       "      <td>18579.70886</td>\n",
       "      <td>45.5</td>\n",
       "      <td>3.65</td>\n",
       "    </tr>\n",
       "    <tr>\n",
       "      <th>13</th>\n",
       "      <td>Feb. 2021</td>\n",
       "      <td>16063.97068</td>\n",
       "      <td>47.4</td>\n",
       "      <td>1.39</td>\n",
       "    </tr>\n",
       "    <tr>\n",
       "      <th>14</th>\n",
       "      <td>Mar. 2021</td>\n",
       "      <td>21151.14217</td>\n",
       "      <td>48.2</td>\n",
       "      <td>1.73</td>\n",
       "    </tr>\n",
       "    <tr>\n",
       "      <th>15</th>\n",
       "      <td>Apr. 2021</td>\n",
       "      <td>15304.45053</td>\n",
       "      <td>58.2</td>\n",
       "      <td>0.29</td>\n",
       "    </tr>\n",
       "    <tr>\n",
       "      <th>16</th>\n",
       "      <td>May. 2021</td>\n",
       "      <td>18604.99369</td>\n",
       "      <td>64.5</td>\n",
       "      <td>0.11</td>\n",
       "    </tr>\n",
       "    <tr>\n",
       "      <th>17</th>\n",
       "      <td>Jun. 2021</td>\n",
       "      <td>22391.08085</td>\n",
       "      <td>74.9</td>\n",
       "      <td>0.14</td>\n",
       "    </tr>\n",
       "    <tr>\n",
       "      <th>18</th>\n",
       "      <td>Jul. 2021</td>\n",
       "      <td>26068.01914</td>\n",
       "      <td>79.8</td>\n",
       "      <td>0.29</td>\n",
       "    </tr>\n",
       "    <tr>\n",
       "      <th>19</th>\n",
       "      <td>Aug. 2021</td>\n",
       "      <td>26005.66433</td>\n",
       "      <td>77.0</td>\n",
       "      <td>0.10</td>\n",
       "    </tr>\n",
       "    <tr>\n",
       "      <th>20</th>\n",
       "      <td>Sep. 2021</td>\n",
       "      <td>23607.68684</td>\n",
       "      <td>72.2</td>\n",
       "      <td>0.36</td>\n",
       "    </tr>\n",
       "    <tr>\n",
       "      <th>21</th>\n",
       "      <td>Oct. 2021</td>\n",
       "      <td>20641.27103</td>\n",
       "      <td>58.2</td>\n",
       "      <td>3.66</td>\n",
       "    </tr>\n",
       "    <tr>\n",
       "      <th>22</th>\n",
       "      <td>Nov. 2021</td>\n",
       "      <td>18754.52085</td>\n",
       "      <td>54.8</td>\n",
       "      <td>0.95</td>\n",
       "    </tr>\n",
       "    <tr>\n",
       "      <th>23</th>\n",
       "      <td>Dec. 2021</td>\n",
       "      <td>20077.35605</td>\n",
       "      <td>43.5</td>\n",
       "      <td>6.26</td>\n",
       "    </tr>\n",
       "    <tr>\n",
       "      <th>24</th>\n",
       "      <td>Jan. 2022</td>\n",
       "      <td>20422.44347</td>\n",
       "      <td>46.2</td>\n",
       "      <td>0.45</td>\n",
       "    </tr>\n",
       "    <tr>\n",
       "      <th>25</th>\n",
       "      <td>Feb. 2022</td>\n",
       "      <td>16636.41958</td>\n",
       "      <td>47.4</td>\n",
       "      <td>0.24</td>\n",
       "    </tr>\n",
       "    <tr>\n",
       "      <th>26</th>\n",
       "      <td>Mar. 2022</td>\n",
       "      <td>19752.80989</td>\n",
       "      <td>52.9</td>\n",
       "      <td>1.05</td>\n",
       "    </tr>\n",
       "    <tr>\n",
       "      <th>27</th>\n",
       "      <td>Apr. 2022</td>\n",
       "      <td>18170.50477</td>\n",
       "      <td>55.9</td>\n",
       "      <td>1.72</td>\n",
       "    </tr>\n",
       "    <tr>\n",
       "      <th>28</th>\n",
       "      <td>May. 2022</td>\n",
       "      <td>18943.67664</td>\n",
       "      <td>62.4</td>\n",
       "      <td>0.30</td>\n",
       "    </tr>\n",
       "    <tr>\n",
       "      <th>29</th>\n",
       "      <td>Jun. 2022</td>\n",
       "      <td>21564.76439</td>\n",
       "      <td>72.0</td>\n",
       "      <td>0.43</td>\n",
       "    </tr>\n",
       "    <tr>\n",
       "      <th>30</th>\n",
       "      <td>Jul. 2022</td>\n",
       "      <td>24188.19550</td>\n",
       "      <td>77.6</td>\n",
       "      <td>0.13</td>\n",
       "    </tr>\n",
       "    <tr>\n",
       "      <th>31</th>\n",
       "      <td>Aug. 2022</td>\n",
       "      <td>27435.43426</td>\n",
       "      <td>78.4</td>\n",
       "      <td>0.40</td>\n",
       "    </tr>\n",
       "    <tr>\n",
       "      <th>32</th>\n",
       "      <td>Sep. 2022</td>\n",
       "      <td>26005.26868</td>\n",
       "      <td>73.8</td>\n",
       "      <td>0.83</td>\n",
       "    </tr>\n",
       "    <tr>\n",
       "      <th>33</th>\n",
       "      <td>Oct. 2022</td>\n",
       "      <td>21570.34154</td>\n",
       "      <td>63.7</td>\n",
       "      <td>0.16</td>\n",
       "    </tr>\n",
       "    <tr>\n",
       "      <th>34</th>\n",
       "      <td>Nov. 2022</td>\n",
       "      <td>18003.13589</td>\n",
       "      <td>46.8</td>\n",
       "      <td>2.00</td>\n",
       "    </tr>\n",
       "    <tr>\n",
       "      <th>35</th>\n",
       "      <td>Dec. 2022</td>\n",
       "      <td>19176.14139</td>\n",
       "      <td>43.5</td>\n",
       "      <td>6.39</td>\n",
       "    </tr>\n",
       "    <tr>\n",
       "      <th>36</th>\n",
       "      <td>Jan. 2023</td>\n",
       "      <td>20504.70675</td>\n",
       "      <td>42.7</td>\n",
       "      <td>8.25</td>\n",
       "    </tr>\n",
       "    <tr>\n",
       "      <th>37</th>\n",
       "      <td>Feb. 2023</td>\n",
       "      <td>17440.48579</td>\n",
       "      <td>42.7</td>\n",
       "      <td>3.38</td>\n",
       "    </tr>\n",
       "    <tr>\n",
       "      <th>38</th>\n",
       "      <td>Mar. 2023</td>\n",
       "      <td>19506.41869</td>\n",
       "      <td>44.2</td>\n",
       "      <td>7.42</td>\n",
       "    </tr>\n",
       "    <tr>\n",
       "      <th>39</th>\n",
       "      <td>Apr. 2023</td>\n",
       "      <td>16261.33366</td>\n",
       "      <td>55.3</td>\n",
       "      <td>0.51</td>\n",
       "    </tr>\n",
       "    <tr>\n",
       "      <th>40</th>\n",
       "      <td>May. 2023</td>\n",
       "      <td>18288.41200</td>\n",
       "      <td>62.0</td>\n",
       "      <td>0.99</td>\n",
       "    </tr>\n",
       "    <tr>\n",
       "      <th>41</th>\n",
       "      <td>Jun. 2023</td>\n",
       "      <td>19333.43379</td>\n",
       "      <td>67.0</td>\n",
       "      <td>0.41</td>\n",
       "    </tr>\n",
       "    <tr>\n",
       "      <th>42</th>\n",
       "      <td>Jul. 2023</td>\n",
       "      <td>23048.26218</td>\n",
       "      <td>78.9</td>\n",
       "      <td>0.02</td>\n",
       "    </tr>\n",
       "    <tr>\n",
       "      <th>43</th>\n",
       "      <td>Aug. 2023</td>\n",
       "      <td>25101.55563</td>\n",
       "      <td>75.9</td>\n",
       "      <td>0.75</td>\n",
       "    </tr>\n",
       "    <tr>\n",
       "      <th>44</th>\n",
       "      <td>Sep. 2023</td>\n",
       "      <td>22466.03859</td>\n",
       "      <td>68.1</td>\n",
       "      <td>0.61</td>\n",
       "    </tr>\n",
       "    <tr>\n",
       "      <th>45</th>\n",
       "      <td>Oct. 2023</td>\n",
       "      <td>20390.47299</td>\n",
       "      <td>62.2</td>\n",
       "      <td>0.44</td>\n",
       "    </tr>\n",
       "    <tr>\n",
       "      <th>46</th>\n",
       "      <td>Nov. 2023</td>\n",
       "      <td>18479.20564</td>\n",
       "      <td>51.9</td>\n",
       "      <td>1.31</td>\n",
       "    </tr>\n",
       "    <tr>\n",
       "      <th>47</th>\n",
       "      <td>Dec. 2023</td>\n",
       "      <td>18660.12634</td>\n",
       "      <td>48.1</td>\n",
       "      <td>3.29</td>\n",
       "    </tr>\n",
       "    <tr>\n",
       "      <th>48</th>\n",
       "      <td>Jan. 2024</td>\n",
       "      <td>20040.74935</td>\n",
       "      <td>45.8</td>\n",
       "      <td>4.63</td>\n",
       "    </tr>\n",
       "    <tr>\n",
       "      <th>49</th>\n",
       "      <td>Feb. 2024</td>\n",
       "      <td>17717.21278</td>\n",
       "      <td>46.4</td>\n",
       "      <td>6.62</td>\n",
       "    </tr>\n",
       "    <tr>\n",
       "      <th>50</th>\n",
       "      <td>Mar. 2024</td>\n",
       "      <td>17659.18439</td>\n",
       "      <td>48.8</td>\n",
       "      <td>4.23</td>\n",
       "    </tr>\n",
       "    <tr>\n",
       "      <th>51</th>\n",
       "      <td>Apr. 2024</td>\n",
       "      <td>17523.44992</td>\n",
       "      <td>55.3</td>\n",
       "      <td>1.30</td>\n",
       "    </tr>\n",
       "    <tr>\n",
       "      <th>52</th>\n",
       "      <td>May. 2024</td>\n",
       "      <td>17835.05183</td>\n",
       "      <td>63.1</td>\n",
       "      <td>0.69</td>\n",
       "    </tr>\n",
       "    <tr>\n",
       "      <th>53</th>\n",
       "      <td>Jun. 2024</td>\n",
       "      <td>20318.43309</td>\n",
       "      <td>74.1</td>\n",
       "      <td>0.04</td>\n",
       "    </tr>\n",
       "    <tr>\n",
       "      <th>54</th>\n",
       "      <td>Jul. 2024</td>\n",
       "      <td>25531.44162</td>\n",
       "      <td>81.6</td>\n",
       "      <td>0.08</td>\n",
       "    </tr>\n",
       "    <tr>\n",
       "      <th>55</th>\n",
       "      <td>Aug. 2024</td>\n",
       "      <td>25520.62930</td>\n",
       "      <td>76.1</td>\n",
       "      <td>0.23</td>\n",
       "    </tr>\n",
       "    <tr>\n",
       "      <th>56</th>\n",
       "      <td>Sep. 2024</td>\n",
       "      <td>22989.69689</td>\n",
       "      <td>72.6</td>\n",
       "      <td>0.13</td>\n",
       "    </tr>\n",
       "  </tbody>\n",
       "</table>\n",
       "</div>"
      ],
      "text/plain": [
       "        month        sales  temperature  precipitation\n",
       "0   Jan. 2020  20562.24693         45.3           2.06\n",
       "1   Feb. 2020  16783.77126         49.2           0.21\n",
       "2   Mar. 2020  19334.99603         48.0           3.19\n",
       "3   Apr. 2020  16963.48016         56.6           1.99\n",
       "4   May. 2020  18956.69382         64.6           1.20\n",
       "5   Jun. 2020  21459.87126         70.4           0.16\n",
       "6   Jul. 2020  26098.31993         76.6           0.05\n",
       "7   Aug. 2020  24001.90557         78.9           0.10\n",
       "8   Sep. 2020  23975.36364         74.0           0.04\n",
       "9   Oct. 2020  23587.97568         66.2           0.05\n",
       "10  Nov. 2020  16723.70403         50.9           1.19\n",
       "11  Dec. 2020  21726.34372         45.5           1.83\n",
       "12  Jan. 2021  18579.70886         45.5           3.65\n",
       "13  Feb. 2021  16063.97068         47.4           1.39\n",
       "14  Mar. 2021  21151.14217         48.2           1.73\n",
       "15  Apr. 2021  15304.45053         58.2           0.29\n",
       "16  May. 2021  18604.99369         64.5           0.11\n",
       "17  Jun. 2021  22391.08085         74.9           0.14\n",
       "18  Jul. 2021  26068.01914         79.8           0.29\n",
       "19  Aug. 2021  26005.66433         77.0           0.10\n",
       "20  Sep. 2021  23607.68684         72.2           0.36\n",
       "21  Oct. 2021  20641.27103         58.2           3.66\n",
       "22  Nov. 2021  18754.52085         54.8           0.95\n",
       "23  Dec. 2021  20077.35605         43.5           6.26\n",
       "24  Jan. 2022  20422.44347         46.2           0.45\n",
       "25  Feb. 2022  16636.41958         47.4           0.24\n",
       "26  Mar. 2022  19752.80989         52.9           1.05\n",
       "27  Apr. 2022  18170.50477         55.9           1.72\n",
       "28  May. 2022  18943.67664         62.4           0.30\n",
       "29  Jun. 2022  21564.76439         72.0           0.43\n",
       "30  Jul. 2022  24188.19550         77.6           0.13\n",
       "31  Aug. 2022  27435.43426         78.4           0.40\n",
       "32  Sep. 2022  26005.26868         73.8           0.83\n",
       "33  Oct. 2022  21570.34154         63.7           0.16\n",
       "34  Nov. 2022  18003.13589         46.8           2.00\n",
       "35  Dec. 2022  19176.14139         43.5           6.39\n",
       "36  Jan. 2023  20504.70675         42.7           8.25\n",
       "37  Feb. 2023  17440.48579         42.7           3.38\n",
       "38  Mar. 2023  19506.41869         44.2           7.42\n",
       "39  Apr. 2023  16261.33366         55.3           0.51\n",
       "40  May. 2023  18288.41200         62.0           0.99\n",
       "41  Jun. 2023  19333.43379         67.0           0.41\n",
       "42  Jul. 2023  23048.26218         78.9           0.02\n",
       "43  Aug. 2023  25101.55563         75.9           0.75\n",
       "44  Sep. 2023  22466.03859         68.1           0.61\n",
       "45  Oct. 2023  20390.47299         62.2           0.44\n",
       "46  Nov. 2023  18479.20564         51.9           1.31\n",
       "47  Dec. 2023  18660.12634         48.1           3.29\n",
       "48  Jan. 2024  20040.74935         45.8           4.63\n",
       "49  Feb. 2024  17717.21278         46.4           6.62\n",
       "50  Mar. 2024  17659.18439         48.8           4.23\n",
       "51  Apr. 2024  17523.44992         55.3           1.30\n",
       "52  May. 2024  17835.05183         63.1           0.69\n",
       "53  Jun. 2024  20318.43309         74.1           0.04\n",
       "54  Jul. 2024  25531.44162         81.6           0.08\n",
       "55  Aug. 2024  25520.62930         76.1           0.23\n",
       "56  Sep. 2024  22989.69689         72.6           0.13"
      ]
     },
     "execution_count": 294,
     "metadata": {},
     "output_type": "execute_result"
    }
   ],
   "source": [
    "#Percipitation Data as well\n",
    "prec_values=list(perc_dictionary.values())\n",
    "# Create a scatter plot instead of a line plot\n",
    "prec_values=prec_values[:-2]\n",
    "updated_california['precipitation']=prec_values\n",
    "CA_data=updated_california\n",
    "CA_data = CA_data.reset_index(drop=True)\n",
    "CA_data['date']=pd.to_datetime(CA_data['date'])\n",
    "CA_data['month'] = CA_data['date'].dt.strftime('%b. %Y')\n",
    "#Creating our new Data Frame\n",
    "CA_data = CA_data[['month'] + [col for col in CA_data.columns if col != 'month' and col != 'date']]\n",
    "CA_data"
   ]
  },
  {
   "cell_type": "code",
   "execution_count": 321,
   "id": "49e7acd1-d415-4769-9d3e-4071d8fb45c4",
   "metadata": {},
   "outputs": [
    {
     "data": {
      "application/vnd.plotly.v1+json": {
       "config": {
        "plotlyServerURL": "https://plot.ly"
       },
       "data": [
        {
         "hovertemplate": "Temperature=%{x}<br>Sales (million kilowatt hours)=%{y}<extra></extra>",
         "legendgroup": "",
         "marker": {
          "color": "red",
          "line": {
           "color": "black",
           "width": 2
          },
          "opacity": 0.6,
          "size": 8,
          "symbol": "circle"
         },
         "mode": "markers",
         "name": "",
         "orientation": "v",
         "showlegend": false,
         "type": "scatter",
         "x": [
          45.3,
          49.2,
          48,
          56.6,
          64.6,
          70.4,
          76.6,
          78.9,
          74,
          66.2,
          50.9,
          45.5,
          45.5,
          47.4,
          48.2,
          58.2,
          64.5,
          74.9,
          79.8,
          77,
          72.2,
          58.2,
          54.8,
          43.5,
          46.2,
          47.4,
          52.9,
          55.9,
          62.4,
          72,
          77.6,
          78.4,
          73.8,
          63.7,
          46.8,
          43.5,
          42.7,
          42.7,
          44.2,
          55.3,
          62,
          67,
          78.9,
          75.9,
          68.1,
          62.2,
          51.9,
          48.1,
          45.8,
          46.4,
          48.8,
          55.3,
          63.1,
          74.1,
          81.6,
          76.1,
          72.6
         ],
         "xaxis": "x",
         "y": [
          20562.24693,
          16783.77126,
          19334.99603,
          16963.48016,
          18956.69382,
          21459.87126,
          26098.31993,
          24001.90557,
          23975.36364,
          23587.97568,
          16723.70403,
          21726.34372,
          18579.70886,
          16063.97068,
          21151.14217,
          15304.45053,
          18604.99369,
          22391.08085,
          26068.01914,
          26005.66433,
          23607.68684,
          20641.27103,
          18754.52085,
          20077.35605,
          20422.44347,
          16636.41958,
          19752.80989,
          18170.50477,
          18943.67664,
          21564.76439,
          24188.1955,
          27435.43426,
          26005.26868,
          21570.34154,
          18003.13589,
          19176.14139,
          20504.70675,
          17440.48579,
          19506.41869,
          16261.33366,
          18288.412,
          19333.43379,
          23048.26218,
          25101.55563,
          22466.03859,
          20390.47299,
          18479.20564,
          18660.12634,
          20040.74935,
          17717.21278,
          17659.18439,
          17523.44992,
          17835.05183,
          20318.43309,
          25531.44162,
          25520.6293,
          22989.69689
         ],
         "yaxis": "y"
        },
        {
         "customdata": [
          [
           45.3
          ],
          [
           49.2
          ],
          [
           48
          ],
          [
           56.6
          ],
          [
           64.6
          ],
          [
           70.4
          ],
          [
           76.6
          ],
          [
           78.9
          ],
          [
           74
          ],
          [
           66.2
          ],
          [
           50.9
          ],
          [
           45.5
          ],
          [
           45.5
          ],
          [
           47.4
          ],
          [
           48.2
          ],
          [
           58.2
          ],
          [
           64.5
          ],
          [
           74.9
          ],
          [
           79.8
          ],
          [
           77
          ],
          [
           72.2
          ],
          [
           58.2
          ],
          [
           54.8
          ],
          [
           43.5
          ],
          [
           46.2
          ],
          [
           47.4
          ],
          [
           52.9
          ],
          [
           55.9
          ],
          [
           62.4
          ],
          [
           72
          ],
          [
           77.6
          ],
          [
           78.4
          ],
          [
           73.8
          ],
          [
           63.7
          ],
          [
           46.8
          ],
          [
           43.5
          ],
          [
           42.7
          ],
          [
           42.7
          ],
          [
           44.2
          ],
          [
           55.3
          ],
          [
           62
          ],
          [
           67
          ],
          [
           78.9
          ],
          [
           75.9
          ],
          [
           68.1
          ],
          [
           62.2
          ],
          [
           51.9
          ],
          [
           48.1
          ],
          [
           45.8
          ],
          [
           46.4
          ],
          [
           48.8
          ],
          [
           55.3
          ],
          [
           63.1
          ],
          [
           74.1
          ],
          [
           81.6
          ],
          [
           76.1
          ],
          [
           72.6
          ]
         ],
         "hovertemplate": "Precipitation=%{x}<br>Sales (million kilowatt hours)=%{y}<br>temperature=%{customdata[0]}<extra></extra>",
         "legendgroup": "",
         "marker": {
          "color": "blue",
          "line": {
           "color": "black",
           "width": 2
          },
          "opacity": 0.6,
          "size": 8,
          "symbol": "circle"
         },
         "mode": "markers",
         "name": "",
         "orientation": "v",
         "showlegend": false,
         "type": "scatter",
         "x": [
          2.06,
          0.21,
          3.19,
          1.99,
          1.2,
          0.16,
          0.05,
          0.1,
          0.04,
          0.05,
          1.19,
          1.83,
          3.65,
          1.39,
          1.73,
          0.29,
          0.11,
          0.14,
          0.29,
          0.1,
          0.36,
          3.66,
          0.95,
          6.26,
          0.45,
          0.24,
          1.05,
          1.72,
          0.3,
          0.43,
          0.13,
          0.4,
          0.83,
          0.16,
          2,
          6.39,
          8.25,
          3.38,
          7.42,
          0.51,
          0.99,
          0.41,
          0.02,
          0.75,
          0.61,
          0.44,
          1.31,
          3.29,
          4.63,
          6.62,
          4.23,
          1.3,
          0.69,
          0.04,
          0.08,
          0.23,
          0.13
         ],
         "xaxis": "x2",
         "y": [
          20562.24693,
          16783.77126,
          19334.99603,
          16963.48016,
          18956.69382,
          21459.87126,
          26098.31993,
          24001.90557,
          23975.36364,
          23587.97568,
          16723.70403,
          21726.34372,
          18579.70886,
          16063.97068,
          21151.14217,
          15304.45053,
          18604.99369,
          22391.08085,
          26068.01914,
          26005.66433,
          23607.68684,
          20641.27103,
          18754.52085,
          20077.35605,
          20422.44347,
          16636.41958,
          19752.80989,
          18170.50477,
          18943.67664,
          21564.76439,
          24188.1955,
          27435.43426,
          26005.26868,
          21570.34154,
          18003.13589,
          19176.14139,
          20504.70675,
          17440.48579,
          19506.41869,
          16261.33366,
          18288.412,
          19333.43379,
          23048.26218,
          25101.55563,
          22466.03859,
          20390.47299,
          18479.20564,
          18660.12634,
          20040.74935,
          17717.21278,
          17659.18439,
          17523.44992,
          17835.05183,
          20318.43309,
          25531.44162,
          25520.6293,
          22989.69689
         ],
         "yaxis": "y2"
        }
       ],
       "layout": {
        "annotations": [
         {
          "font": {
           "size": 16
          },
          "showarrow": false,
          "text": "Temperature vs Sales",
          "x": 0.5,
          "xanchor": "center",
          "xref": "paper",
          "y": 1,
          "yanchor": "bottom",
          "yref": "paper"
         },
         {
          "font": {
           "size": 16
          },
          "showarrow": false,
          "text": "Precipitation vs Sales",
          "x": 0.5,
          "xanchor": "center",
          "xref": "paper",
          "y": 0.4,
          "yanchor": "bottom",
          "yref": "paper"
         }
        ],
        "height": 800,
        "showlegend": false,
        "template": {
         "data": {
          "bar": [
           {
            "error_x": {
             "color": "#2a3f5f"
            },
            "error_y": {
             "color": "#2a3f5f"
            },
            "marker": {
             "line": {
              "color": "#E5ECF6",
              "width": 0.5
             },
             "pattern": {
              "fillmode": "overlay",
              "size": 10,
              "solidity": 0.2
             }
            },
            "type": "bar"
           }
          ],
          "barpolar": [
           {
            "marker": {
             "line": {
              "color": "#E5ECF6",
              "width": 0.5
             },
             "pattern": {
              "fillmode": "overlay",
              "size": 10,
              "solidity": 0.2
             }
            },
            "type": "barpolar"
           }
          ],
          "carpet": [
           {
            "aaxis": {
             "endlinecolor": "#2a3f5f",
             "gridcolor": "white",
             "linecolor": "white",
             "minorgridcolor": "white",
             "startlinecolor": "#2a3f5f"
            },
            "baxis": {
             "endlinecolor": "#2a3f5f",
             "gridcolor": "white",
             "linecolor": "white",
             "minorgridcolor": "white",
             "startlinecolor": "#2a3f5f"
            },
            "type": "carpet"
           }
          ],
          "choropleth": [
           {
            "colorbar": {
             "outlinewidth": 0,
             "ticks": ""
            },
            "type": "choropleth"
           }
          ],
          "contour": [
           {
            "colorbar": {
             "outlinewidth": 0,
             "ticks": ""
            },
            "colorscale": [
             [
              0,
              "#0d0887"
             ],
             [
              0.1111111111111111,
              "#46039f"
             ],
             [
              0.2222222222222222,
              "#7201a8"
             ],
             [
              0.3333333333333333,
              "#9c179e"
             ],
             [
              0.4444444444444444,
              "#bd3786"
             ],
             [
              0.5555555555555556,
              "#d8576b"
             ],
             [
              0.6666666666666666,
              "#ed7953"
             ],
             [
              0.7777777777777778,
              "#fb9f3a"
             ],
             [
              0.8888888888888888,
              "#fdca26"
             ],
             [
              1,
              "#f0f921"
             ]
            ],
            "type": "contour"
           }
          ],
          "contourcarpet": [
           {
            "colorbar": {
             "outlinewidth": 0,
             "ticks": ""
            },
            "type": "contourcarpet"
           }
          ],
          "heatmap": [
           {
            "colorbar": {
             "outlinewidth": 0,
             "ticks": ""
            },
            "colorscale": [
             [
              0,
              "#0d0887"
             ],
             [
              0.1111111111111111,
              "#46039f"
             ],
             [
              0.2222222222222222,
              "#7201a8"
             ],
             [
              0.3333333333333333,
              "#9c179e"
             ],
             [
              0.4444444444444444,
              "#bd3786"
             ],
             [
              0.5555555555555556,
              "#d8576b"
             ],
             [
              0.6666666666666666,
              "#ed7953"
             ],
             [
              0.7777777777777778,
              "#fb9f3a"
             ],
             [
              0.8888888888888888,
              "#fdca26"
             ],
             [
              1,
              "#f0f921"
             ]
            ],
            "type": "heatmap"
           }
          ],
          "heatmapgl": [
           {
            "colorbar": {
             "outlinewidth": 0,
             "ticks": ""
            },
            "colorscale": [
             [
              0,
              "#0d0887"
             ],
             [
              0.1111111111111111,
              "#46039f"
             ],
             [
              0.2222222222222222,
              "#7201a8"
             ],
             [
              0.3333333333333333,
              "#9c179e"
             ],
             [
              0.4444444444444444,
              "#bd3786"
             ],
             [
              0.5555555555555556,
              "#d8576b"
             ],
             [
              0.6666666666666666,
              "#ed7953"
             ],
             [
              0.7777777777777778,
              "#fb9f3a"
             ],
             [
              0.8888888888888888,
              "#fdca26"
             ],
             [
              1,
              "#f0f921"
             ]
            ],
            "type": "heatmapgl"
           }
          ],
          "histogram": [
           {
            "marker": {
             "pattern": {
              "fillmode": "overlay",
              "size": 10,
              "solidity": 0.2
             }
            },
            "type": "histogram"
           }
          ],
          "histogram2d": [
           {
            "colorbar": {
             "outlinewidth": 0,
             "ticks": ""
            },
            "colorscale": [
             [
              0,
              "#0d0887"
             ],
             [
              0.1111111111111111,
              "#46039f"
             ],
             [
              0.2222222222222222,
              "#7201a8"
             ],
             [
              0.3333333333333333,
              "#9c179e"
             ],
             [
              0.4444444444444444,
              "#bd3786"
             ],
             [
              0.5555555555555556,
              "#d8576b"
             ],
             [
              0.6666666666666666,
              "#ed7953"
             ],
             [
              0.7777777777777778,
              "#fb9f3a"
             ],
             [
              0.8888888888888888,
              "#fdca26"
             ],
             [
              1,
              "#f0f921"
             ]
            ],
            "type": "histogram2d"
           }
          ],
          "histogram2dcontour": [
           {
            "colorbar": {
             "outlinewidth": 0,
             "ticks": ""
            },
            "colorscale": [
             [
              0,
              "#0d0887"
             ],
             [
              0.1111111111111111,
              "#46039f"
             ],
             [
              0.2222222222222222,
              "#7201a8"
             ],
             [
              0.3333333333333333,
              "#9c179e"
             ],
             [
              0.4444444444444444,
              "#bd3786"
             ],
             [
              0.5555555555555556,
              "#d8576b"
             ],
             [
              0.6666666666666666,
              "#ed7953"
             ],
             [
              0.7777777777777778,
              "#fb9f3a"
             ],
             [
              0.8888888888888888,
              "#fdca26"
             ],
             [
              1,
              "#f0f921"
             ]
            ],
            "type": "histogram2dcontour"
           }
          ],
          "mesh3d": [
           {
            "colorbar": {
             "outlinewidth": 0,
             "ticks": ""
            },
            "type": "mesh3d"
           }
          ],
          "parcoords": [
           {
            "line": {
             "colorbar": {
              "outlinewidth": 0,
              "ticks": ""
             }
            },
            "type": "parcoords"
           }
          ],
          "pie": [
           {
            "automargin": true,
            "type": "pie"
           }
          ],
          "scatter": [
           {
            "fillpattern": {
             "fillmode": "overlay",
             "size": 10,
             "solidity": 0.2
            },
            "type": "scatter"
           }
          ],
          "scatter3d": [
           {
            "line": {
             "colorbar": {
              "outlinewidth": 0,
              "ticks": ""
             }
            },
            "marker": {
             "colorbar": {
              "outlinewidth": 0,
              "ticks": ""
             }
            },
            "type": "scatter3d"
           }
          ],
          "scattercarpet": [
           {
            "marker": {
             "colorbar": {
              "outlinewidth": 0,
              "ticks": ""
             }
            },
            "type": "scattercarpet"
           }
          ],
          "scattergeo": [
           {
            "marker": {
             "colorbar": {
              "outlinewidth": 0,
              "ticks": ""
             }
            },
            "type": "scattergeo"
           }
          ],
          "scattergl": [
           {
            "marker": {
             "colorbar": {
              "outlinewidth": 0,
              "ticks": ""
             }
            },
            "type": "scattergl"
           }
          ],
          "scattermapbox": [
           {
            "marker": {
             "colorbar": {
              "outlinewidth": 0,
              "ticks": ""
             }
            },
            "type": "scattermapbox"
           }
          ],
          "scatterpolar": [
           {
            "marker": {
             "colorbar": {
              "outlinewidth": 0,
              "ticks": ""
             }
            },
            "type": "scatterpolar"
           }
          ],
          "scatterpolargl": [
           {
            "marker": {
             "colorbar": {
              "outlinewidth": 0,
              "ticks": ""
             }
            },
            "type": "scatterpolargl"
           }
          ],
          "scatterternary": [
           {
            "marker": {
             "colorbar": {
              "outlinewidth": 0,
              "ticks": ""
             }
            },
            "type": "scatterternary"
           }
          ],
          "surface": [
           {
            "colorbar": {
             "outlinewidth": 0,
             "ticks": ""
            },
            "colorscale": [
             [
              0,
              "#0d0887"
             ],
             [
              0.1111111111111111,
              "#46039f"
             ],
             [
              0.2222222222222222,
              "#7201a8"
             ],
             [
              0.3333333333333333,
              "#9c179e"
             ],
             [
              0.4444444444444444,
              "#bd3786"
             ],
             [
              0.5555555555555556,
              "#d8576b"
             ],
             [
              0.6666666666666666,
              "#ed7953"
             ],
             [
              0.7777777777777778,
              "#fb9f3a"
             ],
             [
              0.8888888888888888,
              "#fdca26"
             ],
             [
              1,
              "#f0f921"
             ]
            ],
            "type": "surface"
           }
          ],
          "table": [
           {
            "cells": {
             "fill": {
              "color": "#EBF0F8"
             },
             "line": {
              "color": "white"
             }
            },
            "header": {
             "fill": {
              "color": "#C8D4E3"
             },
             "line": {
              "color": "white"
             }
            },
            "type": "table"
           }
          ]
         },
         "layout": {
          "annotationdefaults": {
           "arrowcolor": "#2a3f5f",
           "arrowhead": 0,
           "arrowwidth": 1
          },
          "autotypenumbers": "strict",
          "coloraxis": {
           "colorbar": {
            "outlinewidth": 0,
            "ticks": ""
           }
          },
          "colorscale": {
           "diverging": [
            [
             0,
             "#8e0152"
            ],
            [
             0.1,
             "#c51b7d"
            ],
            [
             0.2,
             "#de77ae"
            ],
            [
             0.3,
             "#f1b6da"
            ],
            [
             0.4,
             "#fde0ef"
            ],
            [
             0.5,
             "#f7f7f7"
            ],
            [
             0.6,
             "#e6f5d0"
            ],
            [
             0.7,
             "#b8e186"
            ],
            [
             0.8,
             "#7fbc41"
            ],
            [
             0.9,
             "#4d9221"
            ],
            [
             1,
             "#276419"
            ]
           ],
           "sequential": [
            [
             0,
             "#0d0887"
            ],
            [
             0.1111111111111111,
             "#46039f"
            ],
            [
             0.2222222222222222,
             "#7201a8"
            ],
            [
             0.3333333333333333,
             "#9c179e"
            ],
            [
             0.4444444444444444,
             "#bd3786"
            ],
            [
             0.5555555555555556,
             "#d8576b"
            ],
            [
             0.6666666666666666,
             "#ed7953"
            ],
            [
             0.7777777777777778,
             "#fb9f3a"
            ],
            [
             0.8888888888888888,
             "#fdca26"
            ],
            [
             1,
             "#f0f921"
            ]
           ],
           "sequentialminus": [
            [
             0,
             "#0d0887"
            ],
            [
             0.1111111111111111,
             "#46039f"
            ],
            [
             0.2222222222222222,
             "#7201a8"
            ],
            [
             0.3333333333333333,
             "#9c179e"
            ],
            [
             0.4444444444444444,
             "#bd3786"
            ],
            [
             0.5555555555555556,
             "#d8576b"
            ],
            [
             0.6666666666666666,
             "#ed7953"
            ],
            [
             0.7777777777777778,
             "#fb9f3a"
            ],
            [
             0.8888888888888888,
             "#fdca26"
            ],
            [
             1,
             "#f0f921"
            ]
           ]
          },
          "colorway": [
           "#636efa",
           "#EF553B",
           "#00cc96",
           "#ab63fa",
           "#FFA15A",
           "#19d3f3",
           "#FF6692",
           "#B6E880",
           "#FF97FF",
           "#FECB52"
          ],
          "font": {
           "color": "#2a3f5f"
          },
          "geo": {
           "bgcolor": "white",
           "lakecolor": "white",
           "landcolor": "#E5ECF6",
           "showlakes": true,
           "showland": true,
           "subunitcolor": "white"
          },
          "hoverlabel": {
           "align": "left"
          },
          "hovermode": "closest",
          "mapbox": {
           "style": "light"
          },
          "paper_bgcolor": "white",
          "plot_bgcolor": "#E5ECF6",
          "polar": {
           "angularaxis": {
            "gridcolor": "white",
            "linecolor": "white",
            "ticks": ""
           },
           "bgcolor": "#E5ECF6",
           "radialaxis": {
            "gridcolor": "white",
            "linecolor": "white",
            "ticks": ""
           }
          },
          "scene": {
           "xaxis": {
            "backgroundcolor": "#E5ECF6",
            "gridcolor": "white",
            "gridwidth": 2,
            "linecolor": "white",
            "showbackground": true,
            "ticks": "",
            "zerolinecolor": "white"
           },
           "yaxis": {
            "backgroundcolor": "#E5ECF6",
            "gridcolor": "white",
            "gridwidth": 2,
            "linecolor": "white",
            "showbackground": true,
            "ticks": "",
            "zerolinecolor": "white"
           },
           "zaxis": {
            "backgroundcolor": "#E5ECF6",
            "gridcolor": "white",
            "gridwidth": 2,
            "linecolor": "white",
            "showbackground": true,
            "ticks": "",
            "zerolinecolor": "white"
           }
          },
          "shapedefaults": {
           "line": {
            "color": "#2a3f5f"
           }
          },
          "ternary": {
           "aaxis": {
            "gridcolor": "white",
            "linecolor": "white",
            "ticks": ""
           },
           "baxis": {
            "gridcolor": "white",
            "linecolor": "white",
            "ticks": ""
           },
           "bgcolor": "#E5ECF6",
           "caxis": {
            "gridcolor": "white",
            "linecolor": "white",
            "ticks": ""
           }
          },
          "title": {
           "x": 0.05
          },
          "xaxis": {
           "automargin": true,
           "gridcolor": "white",
           "linecolor": "white",
           "ticks": "",
           "title": {
            "standoff": 15
           },
           "zerolinecolor": "white",
           "zerolinewidth": 2
          },
          "yaxis": {
           "automargin": true,
           "gridcolor": "white",
           "linecolor": "white",
           "ticks": "",
           "title": {
            "standoff": 15
           },
           "zerolinecolor": "white",
           "zerolinewidth": 2
          }
         }
        },
        "title": {
         "text": "California Scatter Plots of Temperature, Precipitation vs Sales"
        },
        "width": 800,
        "xaxis": {
         "anchor": "y",
         "autorange": true,
         "domain": [
          0,
          1
         ],
         "range": [
          40.15706713780919,
          84.1429328621908
         ],
         "showgrid": true,
         "title": {
          "text": "Temperature (°F)"
         },
         "type": "linear"
        },
        "xaxis2": {
         "anchor": "y2",
         "autorange": true,
         "domain": [
          0,
          1
         ],
         "range": [
          -0.5180035335689046,
          8.788003533568904
         ],
         "showgrid": true,
         "title": {
          "text": "Precipitation (Inches)"
         },
         "type": "linear"
        },
        "yaxis": {
         "anchor": "x",
         "autorange": true,
         "domain": [
          0.6000000000000001,
          1
         ],
         "range": [
          14314.398386932458,
          28425.486403067545
         ],
         "showgrid": true,
         "title": {
          "text": "Sales (million kilowatt hours)"
         },
         "type": "linear"
        },
        "yaxis2": {
         "anchor": "x2",
         "autorange": true,
         "domain": [
          0,
          0.4
         ],
         "range": [
          14314.398386932458,
          28425.486403067545
         ],
         "showgrid": true,
         "title": {
          "text": "Sales (million kilowatt hours)"
         },
         "type": "linear"
        }
       }
      },
      "image/png": "[encoded data removed]",
      "text/html": [
       "<div>                            <div id=\"94300e8c-863e-4a33-8397-7d14b26014df\" class=\"plotly-graph-div\" style=\"height:800px; width:800px;\"></div>            <script type=\"text/javascript\">                require([\"plotly\"], function(Plotly) {                    window.PLOTLYENV=window.PLOTLYENV || {};                                    if (document.getElementById(\"94300e8c-863e-4a33-8397-7d14b26014df\")) {                    Plotly.newPlot(                        \"94300e8c-863e-4a33-8397-7d14b26014df\",                        [{\"hovertemplate\":\"Temperature=%{x}\\u003cbr\\u003eSales (million kilowatt hours)=%{y}\\u003cextra\\u003e\\u003c\\u002fextra\\u003e\",\"legendgroup\":\"\",\"marker\":{\"color\":\"red\",\"line\":{\"color\":\"black\",\"width\":2},\"opacity\":0.6,\"size\":8,\"symbol\":\"circle\"},\"mode\":\"markers\",\"name\":\"\",\"orientation\":\"v\",\"showlegend\":false,\"x\":[45.3,49.2,48.0,56.6,64.6,70.4,76.6,78.9,74.0,66.2,50.9,45.5,45.5,47.4,48.2,58.2,64.5,74.9,79.8,77.0,72.2,58.2,54.8,43.5,46.2,47.4,52.9,55.9,62.4,72.0,77.6,78.4,73.8,63.7,46.8,43.5,42.7,42.7,44.2,55.3,62.0,67.0,78.9,75.9,68.1,62.2,51.9,48.1,45.8,46.4,48.8,55.3,63.1,74.1,81.6,76.1,72.6],\"xaxis\":\"x\",\"y\":[20562.24693,16783.77126,19334.99603,16963.48016,18956.69382,21459.87126,26098.31993,24001.90557,23975.36364,23587.97568,16723.70403,21726.34372,18579.70886,16063.97068,21151.14217,15304.45053,18604.99369,22391.08085,26068.01914,26005.66433,23607.68684,20641.27103,18754.52085,20077.35605,20422.44347,16636.41958,19752.80989,18170.50477,18943.67664,21564.76439,24188.1955,27435.43426,26005.26868,21570.34154,18003.13589,19176.14139,20504.70675,17440.48579,19506.41869,16261.33366,18288.412,19333.43379,23048.26218,25101.55563,22466.03859,20390.47299,18479.20564,18660.12634,20040.74935,17717.21278,17659.18439,17523.44992,17835.05183,20318.43309,25531.44162,25520.6293,22989.69689],\"yaxis\":\"y\",\"type\":\"scatter\"},{\"customdata\":[[45.3],[49.2],[48.0],[56.6],[64.6],[70.4],[76.6],[78.9],[74.0],[66.2],[50.9],[45.5],[45.5],[47.4],[48.2],[58.2],[64.5],[74.9],[79.8],[77.0],[72.2],[58.2],[54.8],[43.5],[46.2],[47.4],[52.9],[55.9],[62.4],[72.0],[77.6],[78.4],[73.8],[63.7],[46.8],[43.5],[42.7],[42.7],[44.2],[55.3],[62.0],[67.0],[78.9],[75.9],[68.1],[62.2],[51.9],[48.1],[45.8],[46.4],[48.8],[55.3],[63.1],[74.1],[81.6],[76.1],[72.6]],\"hovertemplate\":\"Precipitation=%{x}\\u003cbr\\u003eSales (million kilowatt hours)=%{y}\\u003cbr\\u003etemperature=%{customdata[0]}\\u003cextra\\u003e\\u003c\\u002fextra\\u003e\",\"legendgroup\":\"\",\"marker\":{\"color\":\"blue\",\"line\":{\"color\":\"black\",\"width\":2},\"opacity\":0.6,\"size\":8,\"symbol\":\"circle\"},\"mode\":\"markers\",\"name\":\"\",\"orientation\":\"v\",\"showlegend\":false,\"x\":[2.06,0.21,3.19,1.99,1.2,0.16,0.05,0.1,0.04,0.05,1.19,1.83,3.65,1.39,1.73,0.29,0.11,0.14,0.29,0.1,0.36,3.66,0.95,6.26,0.45,0.24,1.05,1.72,0.3,0.43,0.13,0.4,0.83,0.16,2.0,6.39,8.25,3.38,7.42,0.51,0.99,0.41,0.02,0.75,0.61,0.44,1.31,3.29,4.63,6.62,4.23,1.3,0.69,0.04,0.08,0.23,0.13],\"xaxis\":\"x2\",\"y\":[20562.24693,16783.77126,19334.99603,16963.48016,18956.69382,21459.87126,26098.31993,24001.90557,23975.36364,23587.97568,16723.70403,21726.34372,18579.70886,16063.97068,21151.14217,15304.45053,18604.99369,22391.08085,26068.01914,26005.66433,23607.68684,20641.27103,18754.52085,20077.35605,20422.44347,16636.41958,19752.80989,18170.50477,18943.67664,21564.76439,24188.1955,27435.43426,26005.26868,21570.34154,18003.13589,19176.14139,20504.70675,17440.48579,19506.41869,16261.33366,18288.412,19333.43379,23048.26218,25101.55563,22466.03859,20390.47299,18479.20564,18660.12634,20040.74935,17717.21278,17659.18439,17523.44992,17835.05183,20318.43309,25531.44162,25520.6293,22989.69689],\"yaxis\":\"y2\",\"type\":\"scatter\"}],                        {\"template\":{\"data\":{\"histogram2dcontour\":[{\"type\":\"histogram2dcontour\",\"colorbar\":{\"outlinewidth\":0,\"ticks\":\"\"},\"colorscale\":[[0.0,\"#0d0887\"],[0.1111111111111111,\"#46039f\"],[0.2222222222222222,\"#7201a8\"],[0.3333333333333333,\"#9c179e\"],[0.4444444444444444,\"#bd3786\"],[0.5555555555555556,\"#d8576b\"],[0.6666666666666666,\"#ed7953\"],[0.7777777777777778,\"#fb9f3a\"],[0.8888888888888888,\"#fdca26\"],[1.0,\"#f0f921\"]]}],\"choropleth\":[{\"type\":\"choropleth\",\"colorbar\":{\"outlinewidth\":0,\"ticks\":\"\"}}],\"histogram2d\":[{\"type\":\"histogram2d\",\"colorbar\":{\"outlinewidth\":0,\"ticks\":\"\"},\"colorscale\":[[0.0,\"#0d0887\"],[0.1111111111111111,\"#46039f\"],[0.2222222222222222,\"#7201a8\"],[0.3333333333333333,\"#9c179e\"],[0.4444444444444444,\"#bd3786\"],[0.5555555555555556,\"#d8576b\"],[0.6666666666666666,\"#ed7953\"],[0.7777777777777778,\"#fb9f3a\"],[0.8888888888888888,\"#fdca26\"],[1.0,\"#f0f921\"]]}],\"heatmap\":[{\"type\":\"heatmap\",\"colorbar\":{\"outlinewidth\":0,\"ticks\":\"\"},\"colorscale\":[[0.0,\"#0d0887\"],[0.1111111111111111,\"#46039f\"],[0.2222222222222222,\"#7201a8\"],[0.3333333333333333,\"#9c179e\"],[0.4444444444444444,\"#bd3786\"],[0.5555555555555556,\"#d8576b\"],[0.6666666666666666,\"#ed7953\"],[0.7777777777777778,\"#fb9f3a\"],[0.8888888888888888,\"#fdca26\"],[1.0,\"#f0f921\"]]}],\"heatmapgl\":[{\"type\":\"heatmapgl\",\"colorbar\":{\"outlinewidth\":0,\"ticks\":\"\"},\"colorscale\":[[0.0,\"#0d0887\"],[0.1111111111111111,\"#46039f\"],[0.2222222222222222,\"#7201a8\"],[0.3333333333333333,\"#9c179e\"],[0.4444444444444444,\"#bd3786\"],[0.5555555555555556,\"#d8576b\"],[0.6666666666666666,\"#ed7953\"],[0.7777777777777778,\"#fb9f3a\"],[0.8888888888888888,\"#fdca26\"],[1.0,\"#f0f921\"]]}],\"contourcarpet\":[{\"type\":\"contourcarpet\",\"colorbar\":{\"outlinewidth\":0,\"ticks\":\"\"}}],\"contour\":[{\"type\":\"contour\",\"colorbar\":{\"outlinewidth\":0,\"ticks\":\"\"},\"colorscale\":[[0.0,\"#0d0887\"],[0.1111111111111111,\"#46039f\"],[0.2222222222222222,\"#7201a8\"],[0.3333333333333333,\"#9c179e\"],[0.4444444444444444,\"#bd3786\"],[0.5555555555555556,\"#d8576b\"],[0.6666666666666666,\"#ed7953\"],[0.7777777777777778,\"#fb9f3a\"],[0.8888888888888888,\"#fdca26\"],[1.0,\"#f0f921\"]]}],\"surface\":[{\"type\":\"surface\",\"colorbar\":{\"outlinewidth\":0,\"ticks\":\"\"},\"colorscale\":[[0.0,\"#0d0887\"],[0.1111111111111111,\"#46039f\"],[0.2222222222222222,\"#7201a8\"],[0.3333333333333333,\"#9c179e\"],[0.4444444444444444,\"#bd3786\"],[0.5555555555555556,\"#d8576b\"],[0.6666666666666666,\"#ed7953\"],[0.7777777777777778,\"#fb9f3a\"],[0.8888888888888888,\"#fdca26\"],[1.0,\"#f0f921\"]]}],\"mesh3d\":[{\"type\":\"mesh3d\",\"colorbar\":{\"outlinewidth\":0,\"ticks\":\"\"}}],\"scatter\":[{\"fillpattern\":{\"fillmode\":\"overlay\",\"size\":10,\"solidity\":0.2},\"type\":\"scatter\"}],\"parcoords\":[{\"type\":\"parcoords\",\"line\":{\"colorbar\":{\"outlinewidth\":0,\"ticks\":\"\"}}}],\"scatterpolargl\":[{\"type\":\"scatterpolargl\",\"marker\":{\"colorbar\":{\"outlinewidth\":0,\"ticks\":\"\"}}}],\"bar\":[{\"error_x\":{\"color\":\"#2a3f5f\"},\"error_y\":{\"color\":\"#2a3f5f\"},\"marker\":{\"line\":{\"color\":\"#E5ECF6\",\"width\":0.5},\"pattern\":{\"fillmode\":\"overlay\",\"size\":10,\"solidity\":0.2}},\"type\":\"bar\"}],\"scattergeo\":[{\"type\":\"scattergeo\",\"marker\":{\"colorbar\":{\"outlinewidth\":0,\"ticks\":\"\"}}}],\"scatterpolar\":[{\"type\":\"scatterpolar\",\"marker\":{\"colorbar\":{\"outlinewidth\":0,\"ticks\":\"\"}}}],\"histogram\":[{\"marker\":{\"pattern\":{\"fillmode\":\"overlay\",\"size\":10,\"solidity\":0.2}},\"type\":\"histogram\"}],\"scattergl\":[{\"type\":\"scattergl\",\"marker\":{\"colorbar\":{\"outlinewidth\":0,\"ticks\":\"\"}}}],\"scatter3d\":[{\"type\":\"scatter3d\",\"line\":{\"colorbar\":{\"outlinewidth\":0,\"ticks\":\"\"}},\"marker\":{\"colorbar\":{\"outlinewidth\":0,\"ticks\":\"\"}}}],\"scattermapbox\":[{\"type\":\"scattermapbox\",\"marker\":{\"colorbar\":{\"outlinewidth\":0,\"ticks\":\"\"}}}],\"scatterternary\":[{\"type\":\"scatterternary\",\"marker\":{\"colorbar\":{\"outlinewidth\":0,\"ticks\":\"\"}}}],\"scattercarpet\":[{\"type\":\"scattercarpet\",\"marker\":{\"colorbar\":{\"outlinewidth\":0,\"ticks\":\"\"}}}],\"carpet\":[{\"aaxis\":{\"endlinecolor\":\"#2a3f5f\",\"gridcolor\":\"white\",\"linecolor\":\"white\",\"minorgridcolor\":\"white\",\"startlinecolor\":\"#2a3f5f\"},\"baxis\":{\"endlinecolor\":\"#2a3f5f\",\"gridcolor\":\"white\",\"linecolor\":\"white\",\"minorgridcolor\":\"white\",\"startlinecolor\":\"#2a3f5f\"},\"type\":\"carpet\"}],\"table\":[{\"cells\":{\"fill\":{\"color\":\"#EBF0F8\"},\"line\":{\"color\":\"white\"}},\"header\":{\"fill\":{\"color\":\"#C8D4E3\"},\"line\":{\"color\":\"white\"}},\"type\":\"table\"}],\"barpolar\":[{\"marker\":{\"line\":{\"color\":\"#E5ECF6\",\"width\":0.5},\"pattern\":{\"fillmode\":\"overlay\",\"size\":10,\"solidity\":0.2}},\"type\":\"barpolar\"}],\"pie\":[{\"automargin\":true,\"type\":\"pie\"}]},\"layout\":{\"autotypenumbers\":\"strict\",\"colorway\":[\"#636efa\",\"#EF553B\",\"#00cc96\",\"#ab63fa\",\"#FFA15A\",\"#19d3f3\",\"#FF6692\",\"#B6E880\",\"#FF97FF\",\"#FECB52\"],\"font\":{\"color\":\"#2a3f5f\"},\"hovermode\":\"closest\",\"hoverlabel\":{\"align\":\"left\"},\"paper_bgcolor\":\"white\",\"plot_bgcolor\":\"#E5ECF6\",\"polar\":{\"bgcolor\":\"#E5ECF6\",\"angularaxis\":{\"gridcolor\":\"white\",\"linecolor\":\"white\",\"ticks\":\"\"},\"radialaxis\":{\"gridcolor\":\"white\",\"linecolor\":\"white\",\"ticks\":\"\"}},\"ternary\":{\"bgcolor\":\"#E5ECF6\",\"aaxis\":{\"gridcolor\":\"white\",\"linecolor\":\"white\",\"ticks\":\"\"},\"baxis\":{\"gridcolor\":\"white\",\"linecolor\":\"white\",\"ticks\":\"\"},\"caxis\":{\"gridcolor\":\"white\",\"linecolor\":\"white\",\"ticks\":\"\"}},\"coloraxis\":{\"colorbar\":{\"outlinewidth\":0,\"ticks\":\"\"}},\"colorscale\":{\"sequential\":[[0.0,\"#0d0887\"],[0.1111111111111111,\"#46039f\"],[0.2222222222222222,\"#7201a8\"],[0.3333333333333333,\"#9c179e\"],[0.4444444444444444,\"#bd3786\"],[0.5555555555555556,\"#d8576b\"],[0.6666666666666666,\"#ed7953\"],[0.7777777777777778,\"#fb9f3a\"],[0.8888888888888888,\"#fdca26\"],[1.0,\"#f0f921\"]],\"sequentialminus\":[[0.0,\"#0d0887\"],[0.1111111111111111,\"#46039f\"],[0.2222222222222222,\"#7201a8\"],[0.3333333333333333,\"#9c179e\"],[0.4444444444444444,\"#bd3786\"],[0.5555555555555556,\"#d8576b\"],[0.6666666666666666,\"#ed7953\"],[0.7777777777777778,\"#fb9f3a\"],[0.8888888888888888,\"#fdca26\"],[1.0,\"#f0f921\"]],\"diverging\":[[0,\"#8e0152\"],[0.1,\"#c51b7d\"],[0.2,\"#de77ae\"],[0.3,\"#f1b6da\"],[0.4,\"#fde0ef\"],[0.5,\"#f7f7f7\"],[0.6,\"#e6f5d0\"],[0.7,\"#b8e186\"],[0.8,\"#7fbc41\"],[0.9,\"#4d9221\"],[1,\"#276419\"]]},\"xaxis\":{\"gridcolor\":\"white\",\"linecolor\":\"white\",\"ticks\":\"\",\"title\":{\"standoff\":15},\"zerolinecolor\":\"white\",\"automargin\":true,\"zerolinewidth\":2},\"yaxis\":{\"gridcolor\":\"white\",\"linecolor\":\"white\",\"ticks\":\"\",\"title\":{\"standoff\":15},\"zerolinecolor\":\"white\",\"automargin\":true,\"zerolinewidth\":2},\"scene\":{\"xaxis\":{\"backgroundcolor\":\"#E5ECF6\",\"gridcolor\":\"white\",\"linecolor\":\"white\",\"showbackground\":true,\"ticks\":\"\",\"zerolinecolor\":\"white\",\"gridwidth\":2},\"yaxis\":{\"backgroundcolor\":\"#E5ECF6\",\"gridcolor\":\"white\",\"linecolor\":\"white\",\"showbackground\":true,\"ticks\":\"\",\"zerolinecolor\":\"white\",\"gridwidth\":2},\"zaxis\":{\"backgroundcolor\":\"#E5ECF6\",\"gridcolor\":\"white\",\"linecolor\":\"white\",\"showbackground\":true,\"ticks\":\"\",\"zerolinecolor\":\"white\",\"gridwidth\":2}},\"shapedefaults\":{\"line\":{\"color\":\"#2a3f5f\"}},\"annotationdefaults\":{\"arrowcolor\":\"#2a3f5f\",\"arrowhead\":0,\"arrowwidth\":1},\"geo\":{\"bgcolor\":\"white\",\"landcolor\":\"#E5ECF6\",\"subunitcolor\":\"white\",\"showland\":true,\"showlakes\":true,\"lakecolor\":\"white\"},\"title\":{\"x\":0.05},\"mapbox\":{\"style\":\"light\"}}},\"xaxis\":{\"anchor\":\"y\",\"domain\":[0.0,1.0],\"title\":{\"text\":\"Temperature (\\u00b0F)\"},\"showgrid\":true},\"yaxis\":{\"anchor\":\"x\",\"domain\":[0.6000000000000001,1.0],\"title\":{\"text\":\"Sales (million kilowatt hours)\"},\"showgrid\":true},\"xaxis2\":{\"anchor\":\"y2\",\"domain\":[0.0,1.0],\"title\":{\"text\":\"Precipitation (Inches)\"},\"showgrid\":true},\"yaxis2\":{\"anchor\":\"x2\",\"domain\":[0.0,0.4],\"title\":{\"text\":\"Sales (million kilowatt hours)\"},\"showgrid\":true},\"annotations\":[{\"font\":{\"size\":16},\"showarrow\":false,\"text\":\"Temperature vs Sales\",\"x\":0.5,\"xanchor\":\"center\",\"xref\":\"paper\",\"y\":1.0,\"yanchor\":\"bottom\",\"yref\":\"paper\"},{\"font\":{\"size\":16},\"showarrow\":false,\"text\":\"Precipitation vs Sales\",\"x\":0.5,\"xanchor\":\"center\",\"xref\":\"paper\",\"y\":0.4,\"yanchor\":\"bottom\",\"yref\":\"paper\"}],\"title\":{\"text\":\"California Scatter Plots of Temperature, Precipitation vs Sales\"},\"width\":800,\"height\":800,\"showlegend\":false},                        {\"responsive\": true}                    ).then(function(){\n",
       "                            \n",
       "var gd = document.getElementById('94300e8c-863e-4a33-8397-7d14b26014df');\n",
       "var x = new MutationObserver(function (mutations, observer) {{\n",
       "        var display = window.getComputedStyle(gd).display;\n",
       "        if (!display || display === 'none') {{\n",
       "            console.log([gd, 'removed!']);\n",
       "            Plotly.purge(gd);\n",
       "            observer.disconnect();\n",
       "        }}\n",
       "}});\n",
       "\n",
       "// Listen for the removal of the full notebook cells\n",
       "var notebookContainer = gd.closest('#notebook-container');\n",
       "if (notebookContainer) {{\n",
       "    x.observe(notebookContainer, {childList: true});\n",
       "}}\n",
       "\n",
       "// Listen for the clearing of the current output cell\n",
       "var outputEl = gd.closest('.output');\n",
       "if (outputEl) {{\n",
       "    x.observe(outputEl, {childList: true});\n",
       "}}\n",
       "\n",
       "                        })                };                });            </script>        </div>"
      ]
     },
     "metadata": {},
     "output_type": "display_data"
    }
   ],
   "source": [
    "# First scatter plot\n",
    "fig1 = px.scatter(CA_data, x='temperature', y='sales', \n",
    "                  title='California Scatter Plot of Temperature vs Sales',\n",
    "                  labels={'temperature': 'Temperature', 'sales': 'Sales (million kilowatt hours)'},\n",
    "                  hover_data=['temperature', 'sales'])\n",
    "fig1.update_traces(marker=dict(size=8, color='red', opacity=0.6, line=dict(width=2, color='black')))\n",
    "\n",
    "#Second scatter plot\n",
    "fig2 = px.scatter(CA_data, x='precipitation', y='sales', \n",
    "                  title='California Scatter Plot of Precipitation vs Sales',\n",
    "                  labels={'precipitation': 'Precipitation', 'sales': 'Sales (million kilowatt hours)'},\n",
    "                  hover_data=['temperature', 'sales'])\n",
    "fig2.update_traces(marker=dict(size=8, color='blue', opacity=0.6, line=dict(width=2, color='black')))\n",
    "\n",
    "# 2 rows one column\n",
    "fig = make_subplots(rows=2, cols=1, \n",
    "                    subplot_titles=('Temperature vs Sales', 'Precipitation vs Sales'),\n",
    "                    vertical_spacing=0.2)\n",
    "\n",
    "# Add traces from fig1 to the first subplot (row 1, col 1)\n",
    "for trace in fig1.data:\n",
    "    fig.add_trace(trace, row=1, col=1)\n",
    "\n",
    "# Add traces from fig2 to the second subplot (row 2, col 1)\n",
    "for trace in fig2.data:\n",
    "    fig.add_trace(trace, row=2, col=1)\n",
    "\n",
    "# Update axis properties (make them wider)\n",
    "fig.update_layout(\n",
    "    width=800,  # Make the plot wider\n",
    "    height=800,  # Adjust the height as per your preference\n",
    "    title_text='California Scatter Plots of Temperature, Precipitation vs Sales',\n",
    "    showlegend=False,\n",
    "    xaxis=dict(title='Temperature (°F)', showgrid=True),\n",
    "    xaxis2=dict(title='Precipitation (Inches)', showgrid=True),\n",
    "    yaxis=dict(title='Sales (million kilowatt hours)', showgrid=True),\n",
    "    yaxis2=dict(title='Sales (million kilowatt hours)', showgrid=True)\n",
    ")\n",
    "\n",
    "# Show the plot\n",
    "fig.write_html('CA_Scatter.html')\n",
    "\n",
    "fig.show()\n"
   ]
  },
  {
   "cell_type": "code",
   "execution_count": 322,
   "id": "cead441f-f6b8-4086-8846-abc7a9454dc1",
   "metadata": {},
   "outputs": [
    {
     "data": {
      "text/html": [
       "<a href='CA_Scatter.html' target='_blank'>CA_Scatter.html</a><br>"
      ],
      "text/plain": [
       "/Users/NoahGlosson/Desktop/STA 141B Material/CA_Scatter.html"
      ]
     },
     "execution_count": 322,
     "metadata": {},
     "output_type": "execute_result"
    }
   ],
   "source": [
    "FileLink('CA_Scatter.html')"
   ]
  },
  {
   "cell_type": "markdown",
   "id": "34952067-27c8-4ff2-882b-d52d0019b552",
   "metadata": {},
   "source": [
    "New York Data"
   ]
  },
  {
   "cell_type": "code",
   "execution_count": 298,
   "id": "c2f1d521-a16d-4ae6-8c57-7f1a5eed51b9",
   "metadata": {},
   "outputs": [],
   "source": [
    "#All Data\n",
    "ny_url = \"https://api.eia.gov/v2/electricity/retail-sales/data/\"\n",
    "\n",
    "#My personal API Key\n",
    "api_key = 'hpPWfbFW0MjGinc5M9CHCX64ks6ZXh2DWlmgFQIm'\n",
    "\n",
    "#Headers\n",
    "headers = {\n",
    "    \"X-API-Key\": api_key\n",
    "}\n",
    "\n",
    "#Proper Parameters\n",
    "params = {\n",
    "    \"frequency\": \"monthly\",\n",
    "    \"data[0]\": \"sales\",\n",
    "    \"facets[sectorid][]\": \"ALL\",\n",
    "    \"facets[stateid][]\": \"NY\",\n",
    "    \"sort[0][column]\": \"period\",\n",
    "    \"sort[0][direction]\": \"desc\",\n",
    "    \"offset\": 0,\n",
    "    \"length\": 500\n",
    "}\n",
    "\n",
    "#Getting our API Through JSON\n",
    "response = requests.get(ny_url, headers=headers, params=params)\n",
    "data = response.json()\n",
    "\n",
    "#Extracting what we want\n",
    "month_list = [entry['period'] for entry in data['response']['data']]\n",
    "month_data = month_list[::-1]\n",
    "sales_list=[float(entry['sales']) for entry in data['response']['data']]\n",
    "sales_data=sales_list[::-1]\n",
    "\n",
    "\n",
    "# Assuming month_data and sales_data are already defined\n",
    "df = pd.DataFrame({\n",
    "    'date': pd.to_datetime(month_data, format='%Y-%m'),\n",
    "    'sales': sales_data\n",
    "})\n",
    "\n",
    "# Filter the data to include only from 2020 to 2024\n",
    "new_york_filtered = df[(df['date'] >= '2020-01-01') & (df['date'] <= '2024-11-01')]\n",
    "\n"
   ]
  },
  {
   "cell_type": "code",
   "execution_count": null,
   "id": "10c8f0ca-963b-41b1-9016-596c26799982",
   "metadata": {},
   "outputs": [],
   "source": []
  },
  {
   "cell_type": "code",
   "execution_count": 299,
   "id": "1b00cd10-3921-4377-bc18-40de9d4c1646",
   "metadata": {},
   "outputs": [],
   "source": [
    "driver = webdriver.Chrome()\n",
    "#Big url\n",
    "base_url=\"https://www.ncei.noaa.gov/access/monitoring/climate-at-a-glance/statewide/time-series/30/tavg/1/0/2020-2024\"\n",
    "params = {\n",
    "    \"base_prd\": \"true\",          \n",
    "    \"begbaseyear\": \"1901\",       \n",
    "    \"endbaseyear\": \"2000\"        \n",
    "}\n",
    "\n",
    "# Construct URL with parameters\n",
    "ny_url = f\"{base_url}?base_prd={params['base_prd']}&begbaseyear={params['begbaseyear']}&endbaseyear={params['endbaseyear']}\"\n",
    "# Define parameters\n",
    "driver.get(ny_url)\n",
    "time.sleep(5) \n",
    "soup = BeautifulSoup(driver.page_source, 'lxml')\n",
    "table = soup.find('table')\n",
    "\n",
    "#Dictionary to store results\n",
    "temp_dict = {}\n",
    "\n",
    "#If we discovered a table\n",
    "if table:\n",
    "    rows = table.find_all('tr')\n",
    "    for row in rows:\n",
    "        #Extract Rows\n",
    "        cols = row.find_all('td')\n",
    "        # If there are columns in the row (skip the header row)\n",
    "        if len(cols) > 0:\n",
    "            #Cleaning up our text\n",
    "            cols = [col.text.strip() for col in cols]\n",
    "            time_period = cols[0]\n",
    "            temp_str = cols[1]\n",
    "            #Removing Farenheit symbol and turning the temperatures into floats\n",
    "            temp_float = float(temp_str.replace('°F', '').strip()) \n",
    "            \n",
    "            #Creating a dictionary\n",
    "            temp_dict[time_period] = temp_float\n",
    "\n",
    "ny_temp_dictionary= dict(reversed(list(temp_dict.items()))) #Reversing the order\n",
    "driver.quit()"
   ]
  },
  {
   "cell_type": "code",
   "execution_count": 300,
   "id": "00f8922e-bade-4c29-9127-33f364e470f0",
   "metadata": {},
   "outputs": [
    {
     "name": "stderr",
     "output_type": "stream",
     "text": [
      "/var/folders/ms/1jfxwvmn1r99486_p5c6snv00000gq/T/ipykernel_226/2904567212.py:5: SettingWithCopyWarning:\n",
      "\n",
      "\n",
      "A value is trying to be set on a copy of a slice from a DataFrame.\n",
      "Try using .loc[row_indexer,col_indexer] = value instead\n",
      "\n",
      "See the caveats in the documentation: https://pandas.pydata.org/pandas-docs/stable/user_guide/indexing.html#returning-a-view-versus-a-copy\n",
      "\n"
     ]
    }
   ],
   "source": [
    "ny_temperatures=list(ny_temp_dictionary.values())\n",
    "len(ny_temperatures)\n",
    "#We want to get rid of final two months\n",
    "temp_values=ny_temperatures[:-2]\n",
    "new_york_filtered['temperature']=temp_values"
   ]
  },
  {
   "cell_type": "code",
   "execution_count": 301,
   "id": "ff3acc9c-4477-4d46-98da-621e1f0b6810",
   "metadata": {},
   "outputs": [],
   "source": [
    "driver = webdriver.Chrome()\n",
    "# Define parameters\n",
    "base_url=\"https://www.ncei.noaa.gov/access/monitoring/climate-at-a-glance/statewide/time-series/30/pcp/1/0/2020-2024\"\n",
    "params = {\n",
    "    \"base_prd\": \"true\",          \n",
    "    \"begbaseyear\": \"1901\",       \n",
    "    \"endbaseyear\": \"2000\"        \n",
    "}\n",
    "\n",
    "# Construct URL with parameters\n",
    "ny_url = f\"{base_url}?base_prd={params['base_prd']}&begbaseyear={params['begbaseyear']}&endbaseyear={params['endbaseyear']}\"\n",
    "driver.get(ny_url)\n",
    "time.sleep(5) \n",
    "soup = BeautifulSoup(driver.page_source, 'lxml')\n",
    "table = soup.find('table')\n",
    "\n",
    "#Dictionary to store results\n",
    "pcp_dict = {}\n",
    "\n",
    "#If we discovered a table\n",
    "if table:\n",
    "    rows = table.find_all('tr')\n",
    "    for row in rows:\n",
    "        #Extract Rows\n",
    "        cols = row.find_all('td')\n",
    "        # If there are columns in the row (skip the header row)\n",
    "        if len(cols) > 0:\n",
    "            #Cleaning up our text\n",
    "            cols = [col.text.strip() for col in cols]\n",
    "            time_period = cols[0]\n",
    "            pcp_str = cols[1]\n",
    "            #Removing Farenheit symbol and making temperatures floats\n",
    "            pcp_float = float(pcp_str.replace('\"', '').strip()) \n",
    "            \n",
    "            #Creating a dictionary\n",
    "            pcp_dict[time_period] = pcp_float\n",
    "\n",
    "pcp_dictionary= dict(reversed(list(pcp_dict.items()))) #Reversing the order\n",
    "driver.quit()\n"
   ]
  },
  {
   "cell_type": "code",
   "execution_count": 302,
   "id": "2e5ce82e-176e-4927-849c-595bc32cb097",
   "metadata": {},
   "outputs": [
    {
     "name": "stderr",
     "output_type": "stream",
     "text": [
      "/var/folders/ms/1jfxwvmn1r99486_p5c6snv00000gq/T/ipykernel_226/3441038588.py:4: SettingWithCopyWarning:\n",
      "\n",
      "\n",
      "A value is trying to be set on a copy of a slice from a DataFrame.\n",
      "Try using .loc[row_indexer,col_indexer] = value instead\n",
      "\n",
      "See the caveats in the documentation: https://pandas.pydata.org/pandas-docs/stable/user_guide/indexing.html#returning-a-view-versus-a-copy\n",
      "\n"
     ]
    },
    {
     "data": {
      "text/html": [
       "<div>\n",
       "<style scoped>\n",
       "    .dataframe tbody tr th:only-of-type {\n",
       "        vertical-align: middle;\n",
       "    }\n",
       "\n",
       "    .dataframe tbody tr th {\n",
       "        vertical-align: top;\n",
       "    }\n",
       "\n",
       "    .dataframe thead th {\n",
       "        text-align: right;\n",
       "    }\n",
       "</style>\n",
       "<table border=\"1\" class=\"dataframe\">\n",
       "  <thead>\n",
       "    <tr style=\"text-align: right;\">\n",
       "      <th></th>\n",
       "      <th>month</th>\n",
       "      <th>sales</th>\n",
       "      <th>temperature</th>\n",
       "      <th>precipitation</th>\n",
       "    </tr>\n",
       "  </thead>\n",
       "  <tbody>\n",
       "    <tr>\n",
       "      <th>0</th>\n",
       "      <td>Jan. 2020</td>\n",
       "      <td>12200.52008</td>\n",
       "      <td>27.7</td>\n",
       "      <td>2.78</td>\n",
       "    </tr>\n",
       "    <tr>\n",
       "      <th>1</th>\n",
       "      <td>Feb. 2020</td>\n",
       "      <td>11497.06322</td>\n",
       "      <td>26.6</td>\n",
       "      <td>3.03</td>\n",
       "    </tr>\n",
       "    <tr>\n",
       "      <th>2</th>\n",
       "      <td>Mar. 2020</td>\n",
       "      <td>11162.18297</td>\n",
       "      <td>37.2</td>\n",
       "      <td>2.89</td>\n",
       "    </tr>\n",
       "    <tr>\n",
       "      <th>3</th>\n",
       "      <td>Apr. 2020</td>\n",
       "      <td>10322.36486</td>\n",
       "      <td>41.1</td>\n",
       "      <td>3.15</td>\n",
       "    </tr>\n",
       "    <tr>\n",
       "      <th>4</th>\n",
       "      <td>May. 2020</td>\n",
       "      <td>9729.97032</td>\n",
       "      <td>54.2</td>\n",
       "      <td>3.03</td>\n",
       "    </tr>\n",
       "    <tr>\n",
       "      <th>5</th>\n",
       "      <td>Jun. 2020</td>\n",
       "      <td>11464.54553</td>\n",
       "      <td>65.2</td>\n",
       "      <td>2.38</td>\n",
       "    </tr>\n",
       "    <tr>\n",
       "      <th>6</th>\n",
       "      <td>Jul. 2020</td>\n",
       "      <td>14462.22528</td>\n",
       "      <td>72.9</td>\n",
       "      <td>4.10</td>\n",
       "    </tr>\n",
       "    <tr>\n",
       "      <th>7</th>\n",
       "      <td>Aug. 2020</td>\n",
       "      <td>14164.86484</td>\n",
       "      <td>68.6</td>\n",
       "      <td>4.61</td>\n",
       "    </tr>\n",
       "    <tr>\n",
       "      <th>8</th>\n",
       "      <td>Sep. 2020</td>\n",
       "      <td>12416.35791</td>\n",
       "      <td>59.6</td>\n",
       "      <td>2.58</td>\n",
       "    </tr>\n",
       "    <tr>\n",
       "      <th>9</th>\n",
       "      <td>Oct. 2020</td>\n",
       "      <td>10780.31188</td>\n",
       "      <td>49.0</td>\n",
       "      <td>3.95</td>\n",
       "    </tr>\n",
       "    <tr>\n",
       "      <th>10</th>\n",
       "      <td>Nov. 2020</td>\n",
       "      <td>10516.59928</td>\n",
       "      <td>41.9</td>\n",
       "      <td>2.78</td>\n",
       "    </tr>\n",
       "    <tr>\n",
       "      <th>11</th>\n",
       "      <td>Dec. 2020</td>\n",
       "      <td>11689.62583</td>\n",
       "      <td>29.8</td>\n",
       "      <td>4.00</td>\n",
       "    </tr>\n",
       "    <tr>\n",
       "      <th>12</th>\n",
       "      <td>Jan. 2021</td>\n",
       "      <td>12123.06699</td>\n",
       "      <td>24.0</td>\n",
       "      <td>2.06</td>\n",
       "    </tr>\n",
       "    <tr>\n",
       "      <th>13</th>\n",
       "      <td>Feb. 2021</td>\n",
       "      <td>11726.44807</td>\n",
       "      <td>21.7</td>\n",
       "      <td>2.34</td>\n",
       "    </tr>\n",
       "    <tr>\n",
       "      <th>14</th>\n",
       "      <td>Mar. 2021</td>\n",
       "      <td>11097.66809</td>\n",
       "      <td>35.0</td>\n",
       "      <td>1.74</td>\n",
       "    </tr>\n",
       "    <tr>\n",
       "      <th>15</th>\n",
       "      <td>Apr. 2021</td>\n",
       "      <td>10225.39278</td>\n",
       "      <td>45.7</td>\n",
       "      <td>3.46</td>\n",
       "    </tr>\n",
       "    <tr>\n",
       "      <th>16</th>\n",
       "      <td>May. 2021</td>\n",
       "      <td>10004.43587</td>\n",
       "      <td>54.7</td>\n",
       "      <td>3.04</td>\n",
       "    </tr>\n",
       "    <tr>\n",
       "      <th>17</th>\n",
       "      <td>Jun. 2021</td>\n",
       "      <td>12077.34138</td>\n",
       "      <td>67.1</td>\n",
       "      <td>3.36</td>\n",
       "    </tr>\n",
       "    <tr>\n",
       "      <th>18</th>\n",
       "      <td>Jul. 2021</td>\n",
       "      <td>13922.26356</td>\n",
       "      <td>67.7</td>\n",
       "      <td>8.10</td>\n",
       "    </tr>\n",
       "    <tr>\n",
       "      <th>19</th>\n",
       "      <td>Aug. 2021</td>\n",
       "      <td>13987.32657</td>\n",
       "      <td>70.4</td>\n",
       "      <td>5.33</td>\n",
       "    </tr>\n",
       "    <tr>\n",
       "      <th>20</th>\n",
       "      <td>Sep. 2021</td>\n",
       "      <td>12981.07732</td>\n",
       "      <td>61.7</td>\n",
       "      <td>4.92</td>\n",
       "    </tr>\n",
       "    <tr>\n",
       "      <th>21</th>\n",
       "      <td>Oct. 2021</td>\n",
       "      <td>10999.90458</td>\n",
       "      <td>54.8</td>\n",
       "      <td>6.60</td>\n",
       "    </tr>\n",
       "    <tr>\n",
       "      <th>22</th>\n",
       "      <td>Nov. 2021</td>\n",
       "      <td>10667.97101</td>\n",
       "      <td>37.0</td>\n",
       "      <td>2.67</td>\n",
       "    </tr>\n",
       "    <tr>\n",
       "      <th>23</th>\n",
       "      <td>Dec. 2021</td>\n",
       "      <td>11610.88195</td>\n",
       "      <td>32.8</td>\n",
       "      <td>2.63</td>\n",
       "    </tr>\n",
       "    <tr>\n",
       "      <th>24</th>\n",
       "      <td>Jan. 2022</td>\n",
       "      <td>12313.36233</td>\n",
       "      <td>15.8</td>\n",
       "      <td>2.06</td>\n",
       "    </tr>\n",
       "    <tr>\n",
       "      <th>25</th>\n",
       "      <td>Feb. 2022</td>\n",
       "      <td>11593.89792</td>\n",
       "      <td>23.8</td>\n",
       "      <td>3.84</td>\n",
       "    </tr>\n",
       "    <tr>\n",
       "      <th>26</th>\n",
       "      <td>Mar. 2022</td>\n",
       "      <td>11363.67808</td>\n",
       "      <td>33.8</td>\n",
       "      <td>3.07</td>\n",
       "    </tr>\n",
       "    <tr>\n",
       "      <th>27</th>\n",
       "      <td>Apr. 2022</td>\n",
       "      <td>10615.71426</td>\n",
       "      <td>43.8</td>\n",
       "      <td>4.65</td>\n",
       "    </tr>\n",
       "    <tr>\n",
       "      <th>28</th>\n",
       "      <td>May. 2022</td>\n",
       "      <td>10423.16152</td>\n",
       "      <td>58.6</td>\n",
       "      <td>3.17</td>\n",
       "    </tr>\n",
       "    <tr>\n",
       "      <th>29</th>\n",
       "      <td>Jun. 2022</td>\n",
       "      <td>11906.73885</td>\n",
       "      <td>63.8</td>\n",
       "      <td>3.80</td>\n",
       "    </tr>\n",
       "    <tr>\n",
       "      <th>30</th>\n",
       "      <td>Jul. 2022</td>\n",
       "      <td>13868.68065</td>\n",
       "      <td>69.7</td>\n",
       "      <td>3.28</td>\n",
       "    </tr>\n",
       "    <tr>\n",
       "      <th>31</th>\n",
       "      <td>Aug. 2022</td>\n",
       "      <td>14847.97056</td>\n",
       "      <td>70.0</td>\n",
       "      <td>3.68</td>\n",
       "    </tr>\n",
       "    <tr>\n",
       "      <th>32</th>\n",
       "      <td>Sep. 2022</td>\n",
       "      <td>12990.33892</td>\n",
       "      <td>60.5</td>\n",
       "      <td>5.07</td>\n",
       "    </tr>\n",
       "    <tr>\n",
       "      <th>33</th>\n",
       "      <td>Oct. 2022</td>\n",
       "      <td>10809.58705</td>\n",
       "      <td>48.9</td>\n",
       "      <td>2.39</td>\n",
       "    </tr>\n",
       "    <tr>\n",
       "      <th>34</th>\n",
       "      <td>Nov. 2022</td>\n",
       "      <td>10488.56647</td>\n",
       "      <td>41.0</td>\n",
       "      <td>3.87</td>\n",
       "    </tr>\n",
       "    <tr>\n",
       "      <th>35</th>\n",
       "      <td>Dec. 2022</td>\n",
       "      <td>11988.82038</td>\n",
       "      <td>29.0</td>\n",
       "      <td>4.25</td>\n",
       "    </tr>\n",
       "    <tr>\n",
       "      <th>36</th>\n",
       "      <td>Jan. 2023</td>\n",
       "      <td>11907.85770</td>\n",
       "      <td>30.5</td>\n",
       "      <td>4.04</td>\n",
       "    </tr>\n",
       "    <tr>\n",
       "      <th>37</th>\n",
       "      <td>Feb. 2023</td>\n",
       "      <td>11110.59133</td>\n",
       "      <td>28.1</td>\n",
       "      <td>2.04</td>\n",
       "    </tr>\n",
       "    <tr>\n",
       "      <th>38</th>\n",
       "      <td>Mar. 2023</td>\n",
       "      <td>11221.11643</td>\n",
       "      <td>32.6</td>\n",
       "      <td>3.21</td>\n",
       "    </tr>\n",
       "    <tr>\n",
       "      <th>39</th>\n",
       "      <td>Apr. 2023</td>\n",
       "      <td>10330.12363</td>\n",
       "      <td>48.0</td>\n",
       "      <td>3.91</td>\n",
       "    </tr>\n",
       "    <tr>\n",
       "      <th>40</th>\n",
       "      <td>May. 2023</td>\n",
       "      <td>10197.20731</td>\n",
       "      <td>53.8</td>\n",
       "      <td>2.34</td>\n",
       "    </tr>\n",
       "    <tr>\n",
       "      <th>41</th>\n",
       "      <td>Jun. 2023</td>\n",
       "      <td>11078.68809</td>\n",
       "      <td>63.1</td>\n",
       "      <td>3.98</td>\n",
       "    </tr>\n",
       "    <tr>\n",
       "      <th>42</th>\n",
       "      <td>Jul. 2023</td>\n",
       "      <td>13987.81497</td>\n",
       "      <td>70.7</td>\n",
       "      <td>6.63</td>\n",
       "    </tr>\n",
       "    <tr>\n",
       "      <th>43</th>\n",
       "      <td>Aug. 2023</td>\n",
       "      <td>13588.06902</td>\n",
       "      <td>65.8</td>\n",
       "      <td>5.61</td>\n",
       "    </tr>\n",
       "    <tr>\n",
       "      <th>44</th>\n",
       "      <td>Sep. 2023</td>\n",
       "      <td>12679.45665</td>\n",
       "      <td>61.7</td>\n",
       "      <td>3.16</td>\n",
       "    </tr>\n",
       "    <tr>\n",
       "      <th>45</th>\n",
       "      <td>Oct. 2023</td>\n",
       "      <td>10747.58892</td>\n",
       "      <td>53.0</td>\n",
       "      <td>4.06</td>\n",
       "    </tr>\n",
       "    <tr>\n",
       "      <th>46</th>\n",
       "      <td>Nov. 2023</td>\n",
       "      <td>11020.94030</td>\n",
       "      <td>36.1</td>\n",
       "      <td>2.44</td>\n",
       "    </tr>\n",
       "    <tr>\n",
       "      <th>47</th>\n",
       "      <td>Dec. 2023</td>\n",
       "      <td>11552.48165</td>\n",
       "      <td>34.9</td>\n",
       "      <td>5.53</td>\n",
       "    </tr>\n",
       "    <tr>\n",
       "      <th>48</th>\n",
       "      <td>Jan. 2024</td>\n",
       "      <td>11834.68812</td>\n",
       "      <td>26.6</td>\n",
       "      <td>4.78</td>\n",
       "    </tr>\n",
       "    <tr>\n",
       "      <th>49</th>\n",
       "      <td>Feb. 2024</td>\n",
       "      <td>11344.59641</td>\n",
       "      <td>30.4</td>\n",
       "      <td>1.22</td>\n",
       "    </tr>\n",
       "    <tr>\n",
       "      <th>50</th>\n",
       "      <td>Mar. 2024</td>\n",
       "      <td>10942.71139</td>\n",
       "      <td>37.5</td>\n",
       "      <td>4.28</td>\n",
       "    </tr>\n",
       "    <tr>\n",
       "      <th>51</th>\n",
       "      <td>Apr. 2024</td>\n",
       "      <td>10314.15808</td>\n",
       "      <td>45.8</td>\n",
       "      <td>4.20</td>\n",
       "    </tr>\n",
       "    <tr>\n",
       "      <th>52</th>\n",
       "      <td>May. 2024</td>\n",
       "      <td>10099.71550</td>\n",
       "      <td>60.0</td>\n",
       "      <td>3.53</td>\n",
       "    </tr>\n",
       "    <tr>\n",
       "      <th>53</th>\n",
       "      <td>Jun. 2024</td>\n",
       "      <td>12058.21725</td>\n",
       "      <td>66.5</td>\n",
       "      <td>4.76</td>\n",
       "    </tr>\n",
       "    <tr>\n",
       "      <th>54</th>\n",
       "      <td>Jul. 2024</td>\n",
       "      <td>14663.22401</td>\n",
       "      <td>71.2</td>\n",
       "      <td>4.26</td>\n",
       "    </tr>\n",
       "    <tr>\n",
       "      <th>55</th>\n",
       "      <td>Aug. 2024</td>\n",
       "      <td>14122.94234</td>\n",
       "      <td>67.3</td>\n",
       "      <td>6.20</td>\n",
       "    </tr>\n",
       "    <tr>\n",
       "      <th>56</th>\n",
       "      <td>Sep. 2024</td>\n",
       "      <td>12173.59689</td>\n",
       "      <td>62.4</td>\n",
       "      <td>2.25</td>\n",
       "    </tr>\n",
       "  </tbody>\n",
       "</table>\n",
       "</div>"
      ],
      "text/plain": [
       "        month        sales  temperature  precipitation\n",
       "0   Jan. 2020  12200.52008         27.7           2.78\n",
       "1   Feb. 2020  11497.06322         26.6           3.03\n",
       "2   Mar. 2020  11162.18297         37.2           2.89\n",
       "3   Apr. 2020  10322.36486         41.1           3.15\n",
       "4   May. 2020   9729.97032         54.2           3.03\n",
       "5   Jun. 2020  11464.54553         65.2           2.38\n",
       "6   Jul. 2020  14462.22528         72.9           4.10\n",
       "7   Aug. 2020  14164.86484         68.6           4.61\n",
       "8   Sep. 2020  12416.35791         59.6           2.58\n",
       "9   Oct. 2020  10780.31188         49.0           3.95\n",
       "10  Nov. 2020  10516.59928         41.9           2.78\n",
       "11  Dec. 2020  11689.62583         29.8           4.00\n",
       "12  Jan. 2021  12123.06699         24.0           2.06\n",
       "13  Feb. 2021  11726.44807         21.7           2.34\n",
       "14  Mar. 2021  11097.66809         35.0           1.74\n",
       "15  Apr. 2021  10225.39278         45.7           3.46\n",
       "16  May. 2021  10004.43587         54.7           3.04\n",
       "17  Jun. 2021  12077.34138         67.1           3.36\n",
       "18  Jul. 2021  13922.26356         67.7           8.10\n",
       "19  Aug. 2021  13987.32657         70.4           5.33\n",
       "20  Sep. 2021  12981.07732         61.7           4.92\n",
       "21  Oct. 2021  10999.90458         54.8           6.60\n",
       "22  Nov. 2021  10667.97101         37.0           2.67\n",
       "23  Dec. 2021  11610.88195         32.8           2.63\n",
       "24  Jan. 2022  12313.36233         15.8           2.06\n",
       "25  Feb. 2022  11593.89792         23.8           3.84\n",
       "26  Mar. 2022  11363.67808         33.8           3.07\n",
       "27  Apr. 2022  10615.71426         43.8           4.65\n",
       "28  May. 2022  10423.16152         58.6           3.17\n",
       "29  Jun. 2022  11906.73885         63.8           3.80\n",
       "30  Jul. 2022  13868.68065         69.7           3.28\n",
       "31  Aug. 2022  14847.97056         70.0           3.68\n",
       "32  Sep. 2022  12990.33892         60.5           5.07\n",
       "33  Oct. 2022  10809.58705         48.9           2.39\n",
       "34  Nov. 2022  10488.56647         41.0           3.87\n",
       "35  Dec. 2022  11988.82038         29.0           4.25\n",
       "36  Jan. 2023  11907.85770         30.5           4.04\n",
       "37  Feb. 2023  11110.59133         28.1           2.04\n",
       "38  Mar. 2023  11221.11643         32.6           3.21\n",
       "39  Apr. 2023  10330.12363         48.0           3.91\n",
       "40  May. 2023  10197.20731         53.8           2.34\n",
       "41  Jun. 2023  11078.68809         63.1           3.98\n",
       "42  Jul. 2023  13987.81497         70.7           6.63\n",
       "43  Aug. 2023  13588.06902         65.8           5.61\n",
       "44  Sep. 2023  12679.45665         61.7           3.16\n",
       "45  Oct. 2023  10747.58892         53.0           4.06\n",
       "46  Nov. 2023  11020.94030         36.1           2.44\n",
       "47  Dec. 2023  11552.48165         34.9           5.53\n",
       "48  Jan. 2024  11834.68812         26.6           4.78\n",
       "49  Feb. 2024  11344.59641         30.4           1.22\n",
       "50  Mar. 2024  10942.71139         37.5           4.28\n",
       "51  Apr. 2024  10314.15808         45.8           4.20\n",
       "52  May. 2024  10099.71550         60.0           3.53\n",
       "53  Jun. 2024  12058.21725         66.5           4.76\n",
       "54  Jul. 2024  14663.22401         71.2           4.26\n",
       "55  Aug. 2024  14122.94234         67.3           6.20\n",
       "56  Sep. 2024  12173.59689         62.4           2.25"
      ]
     },
     "execution_count": 302,
     "metadata": {},
     "output_type": "execute_result"
    }
   ],
   "source": [
    "prec_values=list(pcp_dictionary.values())\n",
    "prec_values=prec_values[:-2]\n",
    "# Create a scatter plot instead of a line plot\n",
    "new_york_filtered['precipitation']=prec_values\n",
    "ny_data=new_york_filtered\n",
    "ny_data = ny_data.reset_index(drop=True)\n",
    "ny_data['date'] = pd.to_datetime(ny_data['date'])\n",
    "# Format the date as 'Month Year\n",
    "ny_data['month'] = ny_data['date'].dt.strftime('%b. %Y')\n",
    "#Creating our new Data Frame\n",
    "ny_data = ny_data[['month'] + [col for col in ny_data.columns if col != 'month' and col != 'date']]\n",
    "ny_data #Data Frame"
   ]
  },
  {
   "cell_type": "code",
   "execution_count": 303,
   "id": "d1db7b00-0e90-45e7-8ca1-39da768c9f21",
   "metadata": {},
   "outputs": [
    {
     "data": {
      "application/vnd.plotly.v1+json": {
       "config": {
        "plotlyServerURL": "https://plot.ly"
       },
       "data": [
        {
         "hovertemplate": "Month=%{x}<br>Sales (in million kilowatt hours)=%{y}<extra></extra>",
         "legendgroup": "",
         "line": {
          "color": "#636efa",
          "dash": "solid"
         },
         "marker": {
          "symbol": "circle"
         },
         "mode": "lines",
         "name": "",
         "orientation": "v",
         "showlegend": false,
         "type": "scatter",
         "x": [
          "Jan. 2020",
          "Feb. 2020",
          "Mar. 2020",
          "Apr. 2020",
          "May. 2020",
          "Jun. 2020",
          "Jul. 2020",
          "Aug. 2020",
          "Sep. 2020",
          "Oct. 2020",
          "Nov. 2020",
          "Dec. 2020",
          "Jan. 2021",
          "Feb. 2021",
          "Mar. 2021",
          "Apr. 2021",
          "May. 2021",
          "Jun. 2021",
          "Jul. 2021",
          "Aug. 2021",
          "Sep. 2021",
          "Oct. 2021",
          "Nov. 2021",
          "Dec. 2021",
          "Jan. 2022",
          "Feb. 2022",
          "Mar. 2022",
          "Apr. 2022",
          "May. 2022",
          "Jun. 2022",
          "Jul. 2022",
          "Aug. 2022",
          "Sep. 2022",
          "Oct. 2022",
          "Nov. 2022",
          "Dec. 2022",
          "Jan. 2023",
          "Feb. 2023",
          "Mar. 2023",
          "Apr. 2023",
          "May. 2023",
          "Jun. 2023",
          "Jul. 2023",
          "Aug. 2023",
          "Sep. 2023",
          "Oct. 2023",
          "Nov. 2023",
          "Dec. 2023",
          "Jan. 2024",
          "Feb. 2024",
          "Mar. 2024",
          "Apr. 2024",
          "May. 2024",
          "Jun. 2024",
          "Jul. 2024",
          "Aug. 2024",
          "Sep. 2024"
         ],
         "xaxis": "x",
         "y": [
          12200.52008,
          11497.06322,
          11162.18297,
          10322.36486,
          9729.97032,
          11464.54553,
          14462.22528,
          14164.86484,
          12416.35791,
          10780.31188,
          10516.59928,
          11689.62583,
          12123.06699,
          11726.44807,
          11097.66809,
          10225.39278,
          10004.43587,
          12077.34138,
          13922.26356,
          13987.32657,
          12981.07732,
          10999.90458,
          10667.97101,
          11610.88195,
          12313.36233,
          11593.89792,
          11363.67808,
          10615.71426,
          10423.16152,
          11906.73885,
          13868.68065,
          14847.97056,
          12990.33892,
          10809.58705,
          10488.56647,
          11988.82038,
          11907.8577,
          11110.59133,
          11221.11643,
          10330.12363,
          10197.20731,
          11078.68809,
          13987.81497,
          13588.06902,
          12679.45665,
          10747.58892,
          11020.9403,
          11552.48165,
          11834.68812,
          11344.59641,
          10942.71139,
          10314.15808,
          10099.7155,
          12058.21725,
          14663.22401,
          14122.94234,
          12173.59689
         ],
         "yaxis": "y"
        },
        {
         "line": {
          "color": "red",
          "dash": "dash"
         },
         "mode": "lines",
         "name": "Disruption",
         "showlegend": true,
         "type": "scatter",
         "x": [
          null
         ],
         "y": [
          null
         ]
        }
       ],
       "layout": {
        "autosize": true,
        "legend": {
         "tracegroupgap": 0
        },
        "shapes": [
         {
          "line": {
           "color": "red",
           "dash": "dash"
          },
          "type": "line",
          "x0": "Dec. 2022",
          "x1": "Dec. 2022",
          "xref": "x",
          "y0": 0,
          "y1": 1,
          "yref": "y domain"
         },
         {
          "line": {
           "color": "red",
           "dash": "dash"
          },
          "type": "line",
          "x0": "Mar. 2023",
          "x1": "Mar. 2023",
          "xref": "x",
          "y0": 0,
          "y1": 1,
          "yref": "y domain"
         }
        ],
        "template": {
         "data": {
          "bar": [
           {
            "error_x": {
             "color": "#2a3f5f"
            },
            "error_y": {
             "color": "#2a3f5f"
            },
            "marker": {
             "line": {
              "color": "#E5ECF6",
              "width": 0.5
             },
             "pattern": {
              "fillmode": "overlay",
              "size": 10,
              "solidity": 0.2
             }
            },
            "type": "bar"
           }
          ],
          "barpolar": [
           {
            "marker": {
             "line": {
              "color": "#E5ECF6",
              "width": 0.5
             },
             "pattern": {
              "fillmode": "overlay",
              "size": 10,
              "solidity": 0.2
             }
            },
            "type": "barpolar"
           }
          ],
          "carpet": [
           {
            "aaxis": {
             "endlinecolor": "#2a3f5f",
             "gridcolor": "white",
             "linecolor": "white",
             "minorgridcolor": "white",
             "startlinecolor": "#2a3f5f"
            },
            "baxis": {
             "endlinecolor": "#2a3f5f",
             "gridcolor": "white",
             "linecolor": "white",
             "minorgridcolor": "white",
             "startlinecolor": "#2a3f5f"
            },
            "type": "carpet"
           }
          ],
          "choropleth": [
           {
            "colorbar": {
             "outlinewidth": 0,
             "ticks": ""
            },
            "type": "choropleth"
           }
          ],
          "contour": [
           {
            "colorbar": {
             "outlinewidth": 0,
             "ticks": ""
            },
            "colorscale": [
             [
              0,
              "#0d0887"
             ],
             [
              0.1111111111111111,
              "#46039f"
             ],
             [
              0.2222222222222222,
              "#7201a8"
             ],
             [
              0.3333333333333333,
              "#9c179e"
             ],
             [
              0.4444444444444444,
              "#bd3786"
             ],
             [
              0.5555555555555556,
              "#d8576b"
             ],
             [
              0.6666666666666666,
              "#ed7953"
             ],
             [
              0.7777777777777778,
              "#fb9f3a"
             ],
             [
              0.8888888888888888,
              "#fdca26"
             ],
             [
              1,
              "#f0f921"
             ]
            ],
            "type": "contour"
           }
          ],
          "contourcarpet": [
           {
            "colorbar": {
             "outlinewidth": 0,
             "ticks": ""
            },
            "type": "contourcarpet"
           }
          ],
          "heatmap": [
           {
            "colorbar": {
             "outlinewidth": 0,
             "ticks": ""
            },
            "colorscale": [
             [
              0,
              "#0d0887"
             ],
             [
              0.1111111111111111,
              "#46039f"
             ],
             [
              0.2222222222222222,
              "#7201a8"
             ],
             [
              0.3333333333333333,
              "#9c179e"
             ],
             [
              0.4444444444444444,
              "#bd3786"
             ],
             [
              0.5555555555555556,
              "#d8576b"
             ],
             [
              0.6666666666666666,
              "#ed7953"
             ],
             [
              0.7777777777777778,
              "#fb9f3a"
             ],
             [
              0.8888888888888888,
              "#fdca26"
             ],
             [
              1,
              "#f0f921"
             ]
            ],
            "type": "heatmap"
           }
          ],
          "heatmapgl": [
           {
            "colorbar": {
             "outlinewidth": 0,
             "ticks": ""
            },
            "colorscale": [
             [
              0,
              "#0d0887"
             ],
             [
              0.1111111111111111,
              "#46039f"
             ],
             [
              0.2222222222222222,
              "#7201a8"
             ],
             [
              0.3333333333333333,
              "#9c179e"
             ],
             [
              0.4444444444444444,
              "#bd3786"
             ],
             [
              0.5555555555555556,
              "#d8576b"
             ],
             [
              0.6666666666666666,
              "#ed7953"
             ],
             [
              0.7777777777777778,
              "#fb9f3a"
             ],
             [
              0.8888888888888888,
              "#fdca26"
             ],
             [
              1,
              "#f0f921"
             ]
            ],
            "type": "heatmapgl"
           }
          ],
          "histogram": [
           {
            "marker": {
             "pattern": {
              "fillmode": "overlay",
              "size": 10,
              "solidity": 0.2
             }
            },
            "type": "histogram"
           }
          ],
          "histogram2d": [
           {
            "colorbar": {
             "outlinewidth": 0,
             "ticks": ""
            },
            "colorscale": [
             [
              0,
              "#0d0887"
             ],
             [
              0.1111111111111111,
              "#46039f"
             ],
             [
              0.2222222222222222,
              "#7201a8"
             ],
             [
              0.3333333333333333,
              "#9c179e"
             ],
             [
              0.4444444444444444,
              "#bd3786"
             ],
             [
              0.5555555555555556,
              "#d8576b"
             ],
             [
              0.6666666666666666,
              "#ed7953"
             ],
             [
              0.7777777777777778,
              "#fb9f3a"
             ],
             [
              0.8888888888888888,
              "#fdca26"
             ],
             [
              1,
              "#f0f921"
             ]
            ],
            "type": "histogram2d"
           }
          ],
          "histogram2dcontour": [
           {
            "colorbar": {
             "outlinewidth": 0,
             "ticks": ""
            },
            "colorscale": [
             [
              0,
              "#0d0887"
             ],
             [
              0.1111111111111111,
              "#46039f"
             ],
             [
              0.2222222222222222,
              "#7201a8"
             ],
             [
              0.3333333333333333,
              "#9c179e"
             ],
             [
              0.4444444444444444,
              "#bd3786"
             ],
             [
              0.5555555555555556,
              "#d8576b"
             ],
             [
              0.6666666666666666,
              "#ed7953"
             ],
             [
              0.7777777777777778,
              "#fb9f3a"
             ],
             [
              0.8888888888888888,
              "#fdca26"
             ],
             [
              1,
              "#f0f921"
             ]
            ],
            "type": "histogram2dcontour"
           }
          ],
          "mesh3d": [
           {
            "colorbar": {
             "outlinewidth": 0,
             "ticks": ""
            },
            "type": "mesh3d"
           }
          ],
          "parcoords": [
           {
            "line": {
             "colorbar": {
              "outlinewidth": 0,
              "ticks": ""
             }
            },
            "type": "parcoords"
           }
          ],
          "pie": [
           {
            "automargin": true,
            "type": "pie"
           }
          ],
          "scatter": [
           {
            "fillpattern": {
             "fillmode": "overlay",
             "size": 10,
             "solidity": 0.2
            },
            "type": "scatter"
           }
          ],
          "scatter3d": [
           {
            "line": {
             "colorbar": {
              "outlinewidth": 0,
              "ticks": ""
             }
            },
            "marker": {
             "colorbar": {
              "outlinewidth": 0,
              "ticks": ""
             }
            },
            "type": "scatter3d"
           }
          ],
          "scattercarpet": [
           {
            "marker": {
             "colorbar": {
              "outlinewidth": 0,
              "ticks": ""
             }
            },
            "type": "scattercarpet"
           }
          ],
          "scattergeo": [
           {
            "marker": {
             "colorbar": {
              "outlinewidth": 0,
              "ticks": ""
             }
            },
            "type": "scattergeo"
           }
          ],
          "scattergl": [
           {
            "marker": {
             "colorbar": {
              "outlinewidth": 0,
              "ticks": ""
             }
            },
            "type": "scattergl"
           }
          ],
          "scattermapbox": [
           {
            "marker": {
             "colorbar": {
              "outlinewidth": 0,
              "ticks": ""
             }
            },
            "type": "scattermapbox"
           }
          ],
          "scatterpolar": [
           {
            "marker": {
             "colorbar": {
              "outlinewidth": 0,
              "ticks": ""
             }
            },
            "type": "scatterpolar"
           }
          ],
          "scatterpolargl": [
           {
            "marker": {
             "colorbar": {
              "outlinewidth": 0,
              "ticks": ""
             }
            },
            "type": "scatterpolargl"
           }
          ],
          "scatterternary": [
           {
            "marker": {
             "colorbar": {
              "outlinewidth": 0,
              "ticks": ""
             }
            },
            "type": "scatterternary"
           }
          ],
          "surface": [
           {
            "colorbar": {
             "outlinewidth": 0,
             "ticks": ""
            },
            "colorscale": [
             [
              0,
              "#0d0887"
             ],
             [
              0.1111111111111111,
              "#46039f"
             ],
             [
              0.2222222222222222,
              "#7201a8"
             ],
             [
              0.3333333333333333,
              "#9c179e"
             ],
             [
              0.4444444444444444,
              "#bd3786"
             ],
             [
              0.5555555555555556,
              "#d8576b"
             ],
             [
              0.6666666666666666,
              "#ed7953"
             ],
             [
              0.7777777777777778,
              "#fb9f3a"
             ],
             [
              0.8888888888888888,
              "#fdca26"
             ],
             [
              1,
              "#f0f921"
             ]
            ],
            "type": "surface"
           }
          ],
          "table": [
           {
            "cells": {
             "fill": {
              "color": "#EBF0F8"
             },
             "line": {
              "color": "white"
             }
            },
            "header": {
             "fill": {
              "color": "#C8D4E3"
             },
             "line": {
              "color": "white"
             }
            },
            "type": "table"
           }
          ]
         },
         "layout": {
          "annotationdefaults": {
           "arrowcolor": "#2a3f5f",
           "arrowhead": 0,
           "arrowwidth": 1
          },
          "autotypenumbers": "strict",
          "coloraxis": {
           "colorbar": {
            "outlinewidth": 0,
            "ticks": ""
           }
          },
          "colorscale": {
           "diverging": [
            [
             0,
             "#8e0152"
            ],
            [
             0.1,
             "#c51b7d"
            ],
            [
             0.2,
             "#de77ae"
            ],
            [
             0.3,
             "#f1b6da"
            ],
            [
             0.4,
             "#fde0ef"
            ],
            [
             0.5,
             "#f7f7f7"
            ],
            [
             0.6,
             "#e6f5d0"
            ],
            [
             0.7,
             "#b8e186"
            ],
            [
             0.8,
             "#7fbc41"
            ],
            [
             0.9,
             "#4d9221"
            ],
            [
             1,
             "#276419"
            ]
           ],
           "sequential": [
            [
             0,
             "#0d0887"
            ],
            [
             0.1111111111111111,
             "#46039f"
            ],
            [
             0.2222222222222222,
             "#7201a8"
            ],
            [
             0.3333333333333333,
             "#9c179e"
            ],
            [
             0.4444444444444444,
             "#bd3786"
            ],
            [
             0.5555555555555556,
             "#d8576b"
            ],
            [
             0.6666666666666666,
             "#ed7953"
            ],
            [
             0.7777777777777778,
             "#fb9f3a"
            ],
            [
             0.8888888888888888,
             "#fdca26"
            ],
            [
             1,
             "#f0f921"
            ]
           ],
           "sequentialminus": [
            [
             0,
             "#0d0887"
            ],
            [
             0.1111111111111111,
             "#46039f"
            ],
            [
             0.2222222222222222,
             "#7201a8"
            ],
            [
             0.3333333333333333,
             "#9c179e"
            ],
            [
             0.4444444444444444,
             "#bd3786"
            ],
            [
             0.5555555555555556,
             "#d8576b"
            ],
            [
             0.6666666666666666,
             "#ed7953"
            ],
            [
             0.7777777777777778,
             "#fb9f3a"
            ],
            [
             0.8888888888888888,
             "#fdca26"
            ],
            [
             1,
             "#f0f921"
            ]
           ]
          },
          "colorway": [
           "#636efa",
           "#EF553B",
           "#00cc96",
           "#ab63fa",
           "#FFA15A",
           "#19d3f3",
           "#FF6692",
           "#B6E880",
           "#FF97FF",
           "#FECB52"
          ],
          "font": {
           "color": "#2a3f5f"
          },
          "geo": {
           "bgcolor": "white",
           "lakecolor": "white",
           "landcolor": "#E5ECF6",
           "showlakes": true,
           "showland": true,
           "subunitcolor": "white"
          },
          "hoverlabel": {
           "align": "left"
          },
          "hovermode": "closest",
          "mapbox": {
           "style": "light"
          },
          "paper_bgcolor": "white",
          "plot_bgcolor": "#E5ECF6",
          "polar": {
           "angularaxis": {
            "gridcolor": "white",
            "linecolor": "white",
            "ticks": ""
           },
           "bgcolor": "#E5ECF6",
           "radialaxis": {
            "gridcolor": "white",
            "linecolor": "white",
            "ticks": ""
           }
          },
          "scene": {
           "xaxis": {
            "backgroundcolor": "#E5ECF6",
            "gridcolor": "white",
            "gridwidth": 2,
            "linecolor": "white",
            "showbackground": true,
            "ticks": "",
            "zerolinecolor": "white"
           },
           "yaxis": {
            "backgroundcolor": "#E5ECF6",
            "gridcolor": "white",
            "gridwidth": 2,
            "linecolor": "white",
            "showbackground": true,
            "ticks": "",
            "zerolinecolor": "white"
           },
           "zaxis": {
            "backgroundcolor": "#E5ECF6",
            "gridcolor": "white",
            "gridwidth": 2,
            "linecolor": "white",
            "showbackground": true,
            "ticks": "",
            "zerolinecolor": "white"
           }
          },
          "shapedefaults": {
           "line": {
            "color": "#2a3f5f"
           }
          },
          "ternary": {
           "aaxis": {
            "gridcolor": "white",
            "linecolor": "white",
            "ticks": ""
           },
           "baxis": {
            "gridcolor": "white",
            "linecolor": "white",
            "ticks": ""
           },
           "bgcolor": "#E5ECF6",
           "caxis": {
            "gridcolor": "white",
            "linecolor": "white",
            "ticks": ""
           }
          },
          "title": {
           "x": 0.05
          },
          "xaxis": {
           "automargin": true,
           "gridcolor": "white",
           "linecolor": "white",
           "ticks": "",
           "title": {
            "standoff": 15
           },
           "zerolinecolor": "white",
           "zerolinewidth": 2
          },
          "yaxis": {
           "automargin": true,
           "gridcolor": "white",
           "linecolor": "white",
           "ticks": "",
           "title": {
            "standoff": 15
           },
           "zerolinecolor": "white",
           "zerolinewidth": 2
          }
         }
        },
        "title": {
         "text": "New York Monthly Electricity Sales 2020 to 2024 (YTD)"
        },
        "xaxis": {
         "anchor": "y",
         "autorange": true,
         "domain": [
          0,
          1
         ],
         "range": [
          0,
          56
         ],
         "tickformat": "%b. %Y",
         "title": {
          "text": "Months"
         },
         "type": "category"
        },
        "yaxis": {
         "anchor": "x",
         "autorange": true,
         "domain": [
          0,
          1
         ],
         "range": [
          9445.636973333334,
          15132.303906666666
         ],
         "title": {
          "text": "Sales (in million kilowatt hours)"
         },
         "type": "linear"
        }
       }
      },
      "image/png": "[encoded data removed]",
      "text/html": [
       "<div>                            <div id=\"016fc711-272f-4b77-a367-63633fe4c8e2\" class=\"plotly-graph-div\" style=\"height:525px; width:100%;\"></div>            <script type=\"text/javascript\">                require([\"plotly\"], function(Plotly) {                    window.PLOTLYENV=window.PLOTLYENV || {};                                    if (document.getElementById(\"016fc711-272f-4b77-a367-63633fe4c8e2\")) {                    Plotly.newPlot(                        \"016fc711-272f-4b77-a367-63633fe4c8e2\",                        [{\"hovertemplate\":\"Month=%{x}\\u003cbr\\u003eSales (in million kilowatt hours)=%{y}\\u003cextra\\u003e\\u003c\\u002fextra\\u003e\",\"legendgroup\":\"\",\"line\":{\"color\":\"#636efa\",\"dash\":\"solid\"},\"marker\":{\"symbol\":\"circle\"},\"mode\":\"lines\",\"name\":\"\",\"orientation\":\"v\",\"showlegend\":false,\"x\":[\"Jan. 2020\",\"Feb. 2020\",\"Mar. 2020\",\"Apr. 2020\",\"May. 2020\",\"Jun. 2020\",\"Jul. 2020\",\"Aug. 2020\",\"Sep. 2020\",\"Oct. 2020\",\"Nov. 2020\",\"Dec. 2020\",\"Jan. 2021\",\"Feb. 2021\",\"Mar. 2021\",\"Apr. 2021\",\"May. 2021\",\"Jun. 2021\",\"Jul. 2021\",\"Aug. 2021\",\"Sep. 2021\",\"Oct. 2021\",\"Nov. 2021\",\"Dec. 2021\",\"Jan. 2022\",\"Feb. 2022\",\"Mar. 2022\",\"Apr. 2022\",\"May. 2022\",\"Jun. 2022\",\"Jul. 2022\",\"Aug. 2022\",\"Sep. 2022\",\"Oct. 2022\",\"Nov. 2022\",\"Dec. 2022\",\"Jan. 2023\",\"Feb. 2023\",\"Mar. 2023\",\"Apr. 2023\",\"May. 2023\",\"Jun. 2023\",\"Jul. 2023\",\"Aug. 2023\",\"Sep. 2023\",\"Oct. 2023\",\"Nov. 2023\",\"Dec. 2023\",\"Jan. 2024\",\"Feb. 2024\",\"Mar. 2024\",\"Apr. 2024\",\"May. 2024\",\"Jun. 2024\",\"Jul. 2024\",\"Aug. 2024\",\"Sep. 2024\"],\"xaxis\":\"x\",\"y\":[12200.52008,11497.06322,11162.18297,10322.36486,9729.97032,11464.54553,14462.22528,14164.86484,12416.35791,10780.31188,10516.59928,11689.62583,12123.06699,11726.44807,11097.66809,10225.39278,10004.43587,12077.34138,13922.26356,13987.32657,12981.07732,10999.90458,10667.97101,11610.88195,12313.36233,11593.89792,11363.67808,10615.71426,10423.16152,11906.73885,13868.68065,14847.97056,12990.33892,10809.58705,10488.56647,11988.82038,11907.8577,11110.59133,11221.11643,10330.12363,10197.20731,11078.68809,13987.81497,13588.06902,12679.45665,10747.58892,11020.9403,11552.48165,11834.68812,11344.59641,10942.71139,10314.15808,10099.7155,12058.21725,14663.22401,14122.94234,12173.59689],\"yaxis\":\"y\",\"type\":\"scatter\"},{\"line\":{\"color\":\"red\",\"dash\":\"dash\"},\"mode\":\"lines\",\"name\":\"Disruption\",\"showlegend\":true,\"x\":[null],\"y\":[null],\"type\":\"scatter\"}],                        {\"template\":{\"data\":{\"histogram2dcontour\":[{\"type\":\"histogram2dcontour\",\"colorbar\":{\"outlinewidth\":0,\"ticks\":\"\"},\"colorscale\":[[0.0,\"#0d0887\"],[0.1111111111111111,\"#46039f\"],[0.2222222222222222,\"#7201a8\"],[0.3333333333333333,\"#9c179e\"],[0.4444444444444444,\"#bd3786\"],[0.5555555555555556,\"#d8576b\"],[0.6666666666666666,\"#ed7953\"],[0.7777777777777778,\"#fb9f3a\"],[0.8888888888888888,\"#fdca26\"],[1.0,\"#f0f921\"]]}],\"choropleth\":[{\"type\":\"choropleth\",\"colorbar\":{\"outlinewidth\":0,\"ticks\":\"\"}}],\"histogram2d\":[{\"type\":\"histogram2d\",\"colorbar\":{\"outlinewidth\":0,\"ticks\":\"\"},\"colorscale\":[[0.0,\"#0d0887\"],[0.1111111111111111,\"#46039f\"],[0.2222222222222222,\"#7201a8\"],[0.3333333333333333,\"#9c179e\"],[0.4444444444444444,\"#bd3786\"],[0.5555555555555556,\"#d8576b\"],[0.6666666666666666,\"#ed7953\"],[0.7777777777777778,\"#fb9f3a\"],[0.8888888888888888,\"#fdca26\"],[1.0,\"#f0f921\"]]}],\"heatmap\":[{\"type\":\"heatmap\",\"colorbar\":{\"outlinewidth\":0,\"ticks\":\"\"},\"colorscale\":[[0.0,\"#0d0887\"],[0.1111111111111111,\"#46039f\"],[0.2222222222222222,\"#7201a8\"],[0.3333333333333333,\"#9c179e\"],[0.4444444444444444,\"#bd3786\"],[0.5555555555555556,\"#d8576b\"],[0.6666666666666666,\"#ed7953\"],[0.7777777777777778,\"#fb9f3a\"],[0.8888888888888888,\"#fdca26\"],[1.0,\"#f0f921\"]]}],\"heatmapgl\":[{\"type\":\"heatmapgl\",\"colorbar\":{\"outlinewidth\":0,\"ticks\":\"\"},\"colorscale\":[[0.0,\"#0d0887\"],[0.1111111111111111,\"#46039f\"],[0.2222222222222222,\"#7201a8\"],[0.3333333333333333,\"#9c179e\"],[0.4444444444444444,\"#bd3786\"],[0.5555555555555556,\"#d8576b\"],[0.6666666666666666,\"#ed7953\"],[0.7777777777777778,\"#fb9f3a\"],[0.8888888888888888,\"#fdca26\"],[1.0,\"#f0f921\"]]}],\"contourcarpet\":[{\"type\":\"contourcarpet\",\"colorbar\":{\"outlinewidth\":0,\"ticks\":\"\"}}],\"contour\":[{\"type\":\"contour\",\"colorbar\":{\"outlinewidth\":0,\"ticks\":\"\"},\"colorscale\":[[0.0,\"#0d0887\"],[0.1111111111111111,\"#46039f\"],[0.2222222222222222,\"#7201a8\"],[0.3333333333333333,\"#9c179e\"],[0.4444444444444444,\"#bd3786\"],[0.5555555555555556,\"#d8576b\"],[0.6666666666666666,\"#ed7953\"],[0.7777777777777778,\"#fb9f3a\"],[0.8888888888888888,\"#fdca26\"],[1.0,\"#f0f921\"]]}],\"surface\":[{\"type\":\"surface\",\"colorbar\":{\"outlinewidth\":0,\"ticks\":\"\"},\"colorscale\":[[0.0,\"#0d0887\"],[0.1111111111111111,\"#46039f\"],[0.2222222222222222,\"#7201a8\"],[0.3333333333333333,\"#9c179e\"],[0.4444444444444444,\"#bd3786\"],[0.5555555555555556,\"#d8576b\"],[0.6666666666666666,\"#ed7953\"],[0.7777777777777778,\"#fb9f3a\"],[0.8888888888888888,\"#fdca26\"],[1.0,\"#f0f921\"]]}],\"mesh3d\":[{\"type\":\"mesh3d\",\"colorbar\":{\"outlinewidth\":0,\"ticks\":\"\"}}],\"scatter\":[{\"fillpattern\":{\"fillmode\":\"overlay\",\"size\":10,\"solidity\":0.2},\"type\":\"scatter\"}],\"parcoords\":[{\"type\":\"parcoords\",\"line\":{\"colorbar\":{\"outlinewidth\":0,\"ticks\":\"\"}}}],\"scatterpolargl\":[{\"type\":\"scatterpolargl\",\"marker\":{\"colorbar\":{\"outlinewidth\":0,\"ticks\":\"\"}}}],\"bar\":[{\"error_x\":{\"color\":\"#2a3f5f\"},\"error_y\":{\"color\":\"#2a3f5f\"},\"marker\":{\"line\":{\"color\":\"#E5ECF6\",\"width\":0.5},\"pattern\":{\"fillmode\":\"overlay\",\"size\":10,\"solidity\":0.2}},\"type\":\"bar\"}],\"scattergeo\":[{\"type\":\"scattergeo\",\"marker\":{\"colorbar\":{\"outlinewidth\":0,\"ticks\":\"\"}}}],\"scatterpolar\":[{\"type\":\"scatterpolar\",\"marker\":{\"colorbar\":{\"outlinewidth\":0,\"ticks\":\"\"}}}],\"histogram\":[{\"marker\":{\"pattern\":{\"fillmode\":\"overlay\",\"size\":10,\"solidity\":0.2}},\"type\":\"histogram\"}],\"scattergl\":[{\"type\":\"scattergl\",\"marker\":{\"colorbar\":{\"outlinewidth\":0,\"ticks\":\"\"}}}],\"scatter3d\":[{\"type\":\"scatter3d\",\"line\":{\"colorbar\":{\"outlinewidth\":0,\"ticks\":\"\"}},\"marker\":{\"colorbar\":{\"outlinewidth\":0,\"ticks\":\"\"}}}],\"scattermapbox\":[{\"type\":\"scattermapbox\",\"marker\":{\"colorbar\":{\"outlinewidth\":0,\"ticks\":\"\"}}}],\"scatterternary\":[{\"type\":\"scatterternary\",\"marker\":{\"colorbar\":{\"outlinewidth\":0,\"ticks\":\"\"}}}],\"scattercarpet\":[{\"type\":\"scattercarpet\",\"marker\":{\"colorbar\":{\"outlinewidth\":0,\"ticks\":\"\"}}}],\"carpet\":[{\"aaxis\":{\"endlinecolor\":\"#2a3f5f\",\"gridcolor\":\"white\",\"linecolor\":\"white\",\"minorgridcolor\":\"white\",\"startlinecolor\":\"#2a3f5f\"},\"baxis\":{\"endlinecolor\":\"#2a3f5f\",\"gridcolor\":\"white\",\"linecolor\":\"white\",\"minorgridcolor\":\"white\",\"startlinecolor\":\"#2a3f5f\"},\"type\":\"carpet\"}],\"table\":[{\"cells\":{\"fill\":{\"color\":\"#EBF0F8\"},\"line\":{\"color\":\"white\"}},\"header\":{\"fill\":{\"color\":\"#C8D4E3\"},\"line\":{\"color\":\"white\"}},\"type\":\"table\"}],\"barpolar\":[{\"marker\":{\"line\":{\"color\":\"#E5ECF6\",\"width\":0.5},\"pattern\":{\"fillmode\":\"overlay\",\"size\":10,\"solidity\":0.2}},\"type\":\"barpolar\"}],\"pie\":[{\"automargin\":true,\"type\":\"pie\"}]},\"layout\":{\"autotypenumbers\":\"strict\",\"colorway\":[\"#636efa\",\"#EF553B\",\"#00cc96\",\"#ab63fa\",\"#FFA15A\",\"#19d3f3\",\"#FF6692\",\"#B6E880\",\"#FF97FF\",\"#FECB52\"],\"font\":{\"color\":\"#2a3f5f\"},\"hovermode\":\"closest\",\"hoverlabel\":{\"align\":\"left\"},\"paper_bgcolor\":\"white\",\"plot_bgcolor\":\"#E5ECF6\",\"polar\":{\"bgcolor\":\"#E5ECF6\",\"angularaxis\":{\"gridcolor\":\"white\",\"linecolor\":\"white\",\"ticks\":\"\"},\"radialaxis\":{\"gridcolor\":\"white\",\"linecolor\":\"white\",\"ticks\":\"\"}},\"ternary\":{\"bgcolor\":\"#E5ECF6\",\"aaxis\":{\"gridcolor\":\"white\",\"linecolor\":\"white\",\"ticks\":\"\"},\"baxis\":{\"gridcolor\":\"white\",\"linecolor\":\"white\",\"ticks\":\"\"},\"caxis\":{\"gridcolor\":\"white\",\"linecolor\":\"white\",\"ticks\":\"\"}},\"coloraxis\":{\"colorbar\":{\"outlinewidth\":0,\"ticks\":\"\"}},\"colorscale\":{\"sequential\":[[0.0,\"#0d0887\"],[0.1111111111111111,\"#46039f\"],[0.2222222222222222,\"#7201a8\"],[0.3333333333333333,\"#9c179e\"],[0.4444444444444444,\"#bd3786\"],[0.5555555555555556,\"#d8576b\"],[0.6666666666666666,\"#ed7953\"],[0.7777777777777778,\"#fb9f3a\"],[0.8888888888888888,\"#fdca26\"],[1.0,\"#f0f921\"]],\"sequentialminus\":[[0.0,\"#0d0887\"],[0.1111111111111111,\"#46039f\"],[0.2222222222222222,\"#7201a8\"],[0.3333333333333333,\"#9c179e\"],[0.4444444444444444,\"#bd3786\"],[0.5555555555555556,\"#d8576b\"],[0.6666666666666666,\"#ed7953\"],[0.7777777777777778,\"#fb9f3a\"],[0.8888888888888888,\"#fdca26\"],[1.0,\"#f0f921\"]],\"diverging\":[[0,\"#8e0152\"],[0.1,\"#c51b7d\"],[0.2,\"#de77ae\"],[0.3,\"#f1b6da\"],[0.4,\"#fde0ef\"],[0.5,\"#f7f7f7\"],[0.6,\"#e6f5d0\"],[0.7,\"#b8e186\"],[0.8,\"#7fbc41\"],[0.9,\"#4d9221\"],[1,\"#276419\"]]},\"xaxis\":{\"gridcolor\":\"white\",\"linecolor\":\"white\",\"ticks\":\"\",\"title\":{\"standoff\":15},\"zerolinecolor\":\"white\",\"automargin\":true,\"zerolinewidth\":2},\"yaxis\":{\"gridcolor\":\"white\",\"linecolor\":\"white\",\"ticks\":\"\",\"title\":{\"standoff\":15},\"zerolinecolor\":\"white\",\"automargin\":true,\"zerolinewidth\":2},\"scene\":{\"xaxis\":{\"backgroundcolor\":\"#E5ECF6\",\"gridcolor\":\"white\",\"linecolor\":\"white\",\"showbackground\":true,\"ticks\":\"\",\"zerolinecolor\":\"white\",\"gridwidth\":2},\"yaxis\":{\"backgroundcolor\":\"#E5ECF6\",\"gridcolor\":\"white\",\"linecolor\":\"white\",\"showbackground\":true,\"ticks\":\"\",\"zerolinecolor\":\"white\",\"gridwidth\":2},\"zaxis\":{\"backgroundcolor\":\"#E5ECF6\",\"gridcolor\":\"white\",\"linecolor\":\"white\",\"showbackground\":true,\"ticks\":\"\",\"zerolinecolor\":\"white\",\"gridwidth\":2}},\"shapedefaults\":{\"line\":{\"color\":\"#2a3f5f\"}},\"annotationdefaults\":{\"arrowcolor\":\"#2a3f5f\",\"arrowhead\":0,\"arrowwidth\":1},\"geo\":{\"bgcolor\":\"white\",\"landcolor\":\"#E5ECF6\",\"subunitcolor\":\"white\",\"showland\":true,\"showlakes\":true,\"lakecolor\":\"white\"},\"title\":{\"x\":0.05},\"mapbox\":{\"style\":\"light\"}}},\"xaxis\":{\"anchor\":\"y\",\"domain\":[0.0,1.0],\"title\":{\"text\":\"Months\"},\"tickformat\":\"%b. %Y\"},\"yaxis\":{\"anchor\":\"x\",\"domain\":[0.0,1.0],\"title\":{\"text\":\"Sales (in million kilowatt hours)\"}},\"legend\":{\"tracegroupgap\":0},\"title\":{\"text\":\"New York Monthly Electricity Sales 2020 to 2024 (YTD)\"},\"shapes\":[{\"line\":{\"color\":\"red\",\"dash\":\"dash\"},\"type\":\"line\",\"x0\":\"Dec. 2022\",\"x1\":\"Dec. 2022\",\"xref\":\"x\",\"y0\":0,\"y1\":1,\"yref\":\"y domain\"},{\"line\":{\"color\":\"red\",\"dash\":\"dash\"},\"type\":\"line\",\"x0\":\"Mar. 2023\",\"x1\":\"Mar. 2023\",\"xref\":\"x\",\"y0\":0,\"y1\":1,\"yref\":\"y domain\"}]},                        {\"responsive\": true}                    ).then(function(){\n",
       "                            \n",
       "var gd = document.getElementById('016fc711-272f-4b77-a367-63633fe4c8e2');\n",
       "var x = new MutationObserver(function (mutations, observer) {{\n",
       "        var display = window.getComputedStyle(gd).display;\n",
       "        if (!display || display === 'none') {{\n",
       "            console.log([gd, 'removed!']);\n",
       "            Plotly.purge(gd);\n",
       "            observer.disconnect();\n",
       "        }}\n",
       "}});\n",
       "\n",
       "// Listen for the removal of the full notebook cells\n",
       "var notebookContainer = gd.closest('#notebook-container');\n",
       "if (notebookContainer) {{\n",
       "    x.observe(notebookContainer, {childList: true});\n",
       "}}\n",
       "\n",
       "// Listen for the clearing of the current output cell\n",
       "var outputEl = gd.closest('.output');\n",
       "if (outputEl) {{\n",
       "    x.observe(outputEl, {childList: true});\n",
       "}}\n",
       "\n",
       "                        })                };                });            </script>        </div>"
      ]
     },
     "metadata": {},
     "output_type": "display_data"
    }
   ],
   "source": [
    "# Create an interactive line plot using Plotly Express\n",
    "fig = px.line(ny_data, x='month', y='sales', \n",
    "              title='New York Monthly Electricity Sales 2020 to 2024 (YTD)', \n",
    "              labels={'month': 'Month', 'sales': 'Sales (in million kilowatt hours)'})\n",
    "\n",
    "# Update our x axis\n",
    "fig.update_layout(\n",
    "    xaxis_tickformat='%b. %Y',  #Change format\n",
    "    xaxis_title='Months',\n",
    "    yaxis_title='Sales (in million kilowatt hours)'\n",
    ")\n",
    "line_month = ny_data['month'].iloc[35] \n",
    "fig.add_vline(x=line_month, \n",
    "              line=dict(color='red', dash='dash'))\n",
    "line_month2 = ny_data['month'].iloc[38] \n",
    "fig.add_vline(x=line_month2, \n",
    "              line=dict(color='red', dash='dash'))\n",
    "\n",
    "\n",
    "fig.add_trace(\n",
    "    go.Scatter(x=[None], y=[None], mode='lines', \n",
    "               line=dict(color='red', dash='dash'),\n",
    "               name='Disruption', showlegend=True)\n",
    ")\n",
    "\n",
    "# Show the plot\n",
    "fig.show()\n",
    "\n",
    "\n"
   ]
  },
  {
   "cell_type": "code",
   "execution_count": null,
   "id": "4dae7c3c-eec6-4206-8bb4-2fe8d8b67c3f",
   "metadata": {},
   "outputs": [],
   "source": []
  },
  {
   "cell_type": "code",
   "execution_count": null,
   "id": "2764ea03-adbd-46a0-be57-45e6aecbfa9e",
   "metadata": {},
   "outputs": [],
   "source": [
    "FileLink('NY_Time.html')"
   ]
  },
  {
   "cell_type": "code",
   "execution_count": 313,
   "id": "9da36a5f-556e-44e5-90e7-35b4998be867",
   "metadata": {},
   "outputs": [
    {
     "data": {
      "application/vnd.plotly.v1+json": {
       "config": {
        "plotlyServerURL": "https://plot.ly"
       },
       "data": [
        {
         "hovertemplate": "Temperature=%{x}<br>Sales (million kilowatt hours)=%{y}<extra></extra>",
         "legendgroup": "",
         "marker": {
          "color": "red",
          "line": {
           "color": "black",
           "width": 2
          },
          "opacity": 0.6,
          "size": 8,
          "symbol": "circle"
         },
         "mode": "markers",
         "name": "",
         "orientation": "v",
         "showlegend": false,
         "type": "scatter",
         "x": [
          27.7,
          26.6,
          37.2,
          41.1,
          54.2,
          65.2,
          72.9,
          68.6,
          59.6,
          49,
          41.9,
          29.8,
          24,
          21.7,
          35,
          45.7,
          54.7,
          67.1,
          67.7,
          70.4,
          61.7,
          54.8,
          37,
          32.8,
          15.8,
          23.8,
          33.8,
          43.8,
          58.6,
          63.8,
          69.7,
          70,
          60.5,
          48.9,
          41,
          29,
          30.5,
          28.1,
          32.6,
          48,
          53.8,
          63.1,
          70.7,
          65.8,
          61.7,
          53,
          36.1,
          34.9,
          26.6,
          30.4,
          37.5,
          45.8,
          60,
          66.5,
          71.2,
          67.3,
          62.4
         ],
         "xaxis": "x",
         "y": [
          12200.52008,
          11497.06322,
          11162.18297,
          10322.36486,
          9729.97032,
          11464.54553,
          14462.22528,
          14164.86484,
          12416.35791,
          10780.31188,
          10516.59928,
          11689.62583,
          12123.06699,
          11726.44807,
          11097.66809,
          10225.39278,
          10004.43587,
          12077.34138,
          13922.26356,
          13987.32657,
          12981.07732,
          10999.90458,
          10667.97101,
          11610.88195,
          12313.36233,
          11593.89792,
          11363.67808,
          10615.71426,
          10423.16152,
          11906.73885,
          13868.68065,
          14847.97056,
          12990.33892,
          10809.58705,
          10488.56647,
          11988.82038,
          11907.8577,
          11110.59133,
          11221.11643,
          10330.12363,
          10197.20731,
          11078.68809,
          13987.81497,
          13588.06902,
          12679.45665,
          10747.58892,
          11020.9403,
          11552.48165,
          11834.68812,
          11344.59641,
          10942.71139,
          10314.15808,
          10099.7155,
          12058.21725,
          14663.22401,
          14122.94234,
          12173.59689
         ],
         "yaxis": "y"
        },
        {
         "customdata": [
          [
           27.7
          ],
          [
           26.6
          ],
          [
           37.2
          ],
          [
           41.1
          ],
          [
           54.2
          ],
          [
           65.2
          ],
          [
           72.9
          ],
          [
           68.6
          ],
          [
           59.6
          ],
          [
           49
          ],
          [
           41.9
          ],
          [
           29.8
          ],
          [
           24
          ],
          [
           21.7
          ],
          [
           35
          ],
          [
           45.7
          ],
          [
           54.7
          ],
          [
           67.1
          ],
          [
           67.7
          ],
          [
           70.4
          ],
          [
           61.7
          ],
          [
           54.8
          ],
          [
           37
          ],
          [
           32.8
          ],
          [
           15.8
          ],
          [
           23.8
          ],
          [
           33.8
          ],
          [
           43.8
          ],
          [
           58.6
          ],
          [
           63.8
          ],
          [
           69.7
          ],
          [
           70
          ],
          [
           60.5
          ],
          [
           48.9
          ],
          [
           41
          ],
          [
           29
          ],
          [
           30.5
          ],
          [
           28.1
          ],
          [
           32.6
          ],
          [
           48
          ],
          [
           53.8
          ],
          [
           63.1
          ],
          [
           70.7
          ],
          [
           65.8
          ],
          [
           61.7
          ],
          [
           53
          ],
          [
           36.1
          ],
          [
           34.9
          ],
          [
           26.6
          ],
          [
           30.4
          ],
          [
           37.5
          ],
          [
           45.8
          ],
          [
           60
          ],
          [
           66.5
          ],
          [
           71.2
          ],
          [
           67.3
          ],
          [
           62.4
          ]
         ],
         "hovertemplate": "Precipitation=%{x}<br>Sales (million kilowatt hours)=%{y}<br>temperature=%{customdata[0]}<extra></extra>",
         "legendgroup": "",
         "marker": {
          "color": "blue",
          "line": {
           "color": "black",
           "width": 2
          },
          "opacity": 0.6,
          "size": 8,
          "symbol": "circle"
         },
         "mode": "markers",
         "name": "",
         "orientation": "v",
         "showlegend": false,
         "type": "scatter",
         "x": [
          2.78,
          3.03,
          2.89,
          3.15,
          3.03,
          2.38,
          4.1,
          4.61,
          2.58,
          3.95,
          2.78,
          4,
          2.06,
          2.34,
          1.74,
          3.46,
          3.04,
          3.36,
          8.1,
          5.33,
          4.92,
          6.6,
          2.67,
          2.63,
          2.06,
          3.84,
          3.07,
          4.65,
          3.17,
          3.8,
          3.28,
          3.68,
          5.07,
          2.39,
          3.87,
          4.25,
          4.04,
          2.04,
          3.21,
          3.91,
          2.34,
          3.98,
          6.63,
          5.61,
          3.16,
          4.06,
          2.44,
          5.53,
          4.78,
          1.22,
          4.28,
          4.2,
          3.53,
          4.76,
          4.26,
          6.2,
          2.25
         ],
         "xaxis": "x2",
         "y": [
          12200.52008,
          11497.06322,
          11162.18297,
          10322.36486,
          9729.97032,
          11464.54553,
          14462.22528,
          14164.86484,
          12416.35791,
          10780.31188,
          10516.59928,
          11689.62583,
          12123.06699,
          11726.44807,
          11097.66809,
          10225.39278,
          10004.43587,
          12077.34138,
          13922.26356,
          13987.32657,
          12981.07732,
          10999.90458,
          10667.97101,
          11610.88195,
          12313.36233,
          11593.89792,
          11363.67808,
          10615.71426,
          10423.16152,
          11906.73885,
          13868.68065,
          14847.97056,
          12990.33892,
          10809.58705,
          10488.56647,
          11988.82038,
          11907.8577,
          11110.59133,
          11221.11643,
          10330.12363,
          10197.20731,
          11078.68809,
          13987.81497,
          13588.06902,
          12679.45665,
          10747.58892,
          11020.9403,
          11552.48165,
          11834.68812,
          11344.59641,
          10942.71139,
          10314.15808,
          10099.7155,
          12058.21725,
          14663.22401,
          14122.94234,
          12173.59689
         ],
         "yaxis": "y2"
        }
       ],
       "layout": {
        "annotations": [
         {
          "font": {
           "size": 16
          },
          "showarrow": false,
          "text": "Temperature vs Sales",
          "x": 0.5,
          "xanchor": "center",
          "xref": "paper",
          "y": 1,
          "yanchor": "bottom",
          "yref": "paper"
         },
         {
          "font": {
           "size": 16
          },
          "showarrow": false,
          "text": "Precipitation vs Sales",
          "x": 0.5,
          "xanchor": "center",
          "xref": "paper",
          "y": 0.4,
          "yanchor": "bottom",
          "yref": "paper"
         }
        ],
        "height": 800,
        "showlegend": false,
        "template": {
         "data": {
          "bar": [
           {
            "error_x": {
             "color": "#2a3f5f"
            },
            "error_y": {
             "color": "#2a3f5f"
            },
            "marker": {
             "line": {
              "color": "#E5ECF6",
              "width": 0.5
             },
             "pattern": {
              "fillmode": "overlay",
              "size": 10,
              "solidity": 0.2
             }
            },
            "type": "bar"
           }
          ],
          "barpolar": [
           {
            "marker": {
             "line": {
              "color": "#E5ECF6",
              "width": 0.5
             },
             "pattern": {
              "fillmode": "overlay",
              "size": 10,
              "solidity": 0.2
             }
            },
            "type": "barpolar"
           }
          ],
          "carpet": [
           {
            "aaxis": {
             "endlinecolor": "#2a3f5f",
             "gridcolor": "white",
             "linecolor": "white",
             "minorgridcolor": "white",
             "startlinecolor": "#2a3f5f"
            },
            "baxis": {
             "endlinecolor": "#2a3f5f",
             "gridcolor": "white",
             "linecolor": "white",
             "minorgridcolor": "white",
             "startlinecolor": "#2a3f5f"
            },
            "type": "carpet"
           }
          ],
          "choropleth": [
           {
            "colorbar": {
             "outlinewidth": 0,
             "ticks": ""
            },
            "type": "choropleth"
           }
          ],
          "contour": [
           {
            "colorbar": {
             "outlinewidth": 0,
             "ticks": ""
            },
            "colorscale": [
             [
              0,
              "#0d0887"
             ],
             [
              0.1111111111111111,
              "#46039f"
             ],
             [
              0.2222222222222222,
              "#7201a8"
             ],
             [
              0.3333333333333333,
              "#9c179e"
             ],
             [
              0.4444444444444444,
              "#bd3786"
             ],
             [
              0.5555555555555556,
              "#d8576b"
             ],
             [
              0.6666666666666666,
              "#ed7953"
             ],
             [
              0.7777777777777778,
              "#fb9f3a"
             ],
             [
              0.8888888888888888,
              "#fdca26"
             ],
             [
              1,
              "#f0f921"
             ]
            ],
            "type": "contour"
           }
          ],
          "contourcarpet": [
           {
            "colorbar": {
             "outlinewidth": 0,
             "ticks": ""
            },
            "type": "contourcarpet"
           }
          ],
          "heatmap": [
           {
            "colorbar": {
             "outlinewidth": 0,
             "ticks": ""
            },
            "colorscale": [
             [
              0,
              "#0d0887"
             ],
             [
              0.1111111111111111,
              "#46039f"
             ],
             [
              0.2222222222222222,
              "#7201a8"
             ],
             [
              0.3333333333333333,
              "#9c179e"
             ],
             [
              0.4444444444444444,
              "#bd3786"
             ],
             [
              0.5555555555555556,
              "#d8576b"
             ],
             [
              0.6666666666666666,
              "#ed7953"
             ],
             [
              0.7777777777777778,
              "#fb9f3a"
             ],
             [
              0.8888888888888888,
              "#fdca26"
             ],
             [
              1,
              "#f0f921"
             ]
            ],
            "type": "heatmap"
           }
          ],
          "heatmapgl": [
           {
            "colorbar": {
             "outlinewidth": 0,
             "ticks": ""
            },
            "colorscale": [
             [
              0,
              "#0d0887"
             ],
             [
              0.1111111111111111,
              "#46039f"
             ],
             [
              0.2222222222222222,
              "#7201a8"
             ],
             [
              0.3333333333333333,
              "#9c179e"
             ],
             [
              0.4444444444444444,
              "#bd3786"
             ],
             [
              0.5555555555555556,
              "#d8576b"
             ],
             [
              0.6666666666666666,
              "#ed7953"
             ],
             [
              0.7777777777777778,
              "#fb9f3a"
             ],
             [
              0.8888888888888888,
              "#fdca26"
             ],
             [
              1,
              "#f0f921"
             ]
            ],
            "type": "heatmapgl"
           }
          ],
          "histogram": [
           {
            "marker": {
             "pattern": {
              "fillmode": "overlay",
              "size": 10,
              "solidity": 0.2
             }
            },
            "type": "histogram"
           }
          ],
          "histogram2d": [
           {
            "colorbar": {
             "outlinewidth": 0,
             "ticks": ""
            },
            "colorscale": [
             [
              0,
              "#0d0887"
             ],
             [
              0.1111111111111111,
              "#46039f"
             ],
             [
              0.2222222222222222,
              "#7201a8"
             ],
             [
              0.3333333333333333,
              "#9c179e"
             ],
             [
              0.4444444444444444,
              "#bd3786"
             ],
             [
              0.5555555555555556,
              "#d8576b"
             ],
             [
              0.6666666666666666,
              "#ed7953"
             ],
             [
              0.7777777777777778,
              "#fb9f3a"
             ],
             [
              0.8888888888888888,
              "#fdca26"
             ],
             [
              1,
              "#f0f921"
             ]
            ],
            "type": "histogram2d"
           }
          ],
          "histogram2dcontour": [
           {
            "colorbar": {
             "outlinewidth": 0,
             "ticks": ""
            },
            "colorscale": [
             [
              0,
              "#0d0887"
             ],
             [
              0.1111111111111111,
              "#46039f"
             ],
             [
              0.2222222222222222,
              "#7201a8"
             ],
             [
              0.3333333333333333,
              "#9c179e"
             ],
             [
              0.4444444444444444,
              "#bd3786"
             ],
             [
              0.5555555555555556,
              "#d8576b"
             ],
             [
              0.6666666666666666,
              "#ed7953"
             ],
             [
              0.7777777777777778,
              "#fb9f3a"
             ],
             [
              0.8888888888888888,
              "#fdca26"
             ],
             [
              1,
              "#f0f921"
             ]
            ],
            "type": "histogram2dcontour"
           }
          ],
          "mesh3d": [
           {
            "colorbar": {
             "outlinewidth": 0,
             "ticks": ""
            },
            "type": "mesh3d"
           }
          ],
          "parcoords": [
           {
            "line": {
             "colorbar": {
              "outlinewidth": 0,
              "ticks": ""
             }
            },
            "type": "parcoords"
           }
          ],
          "pie": [
           {
            "automargin": true,
            "type": "pie"
           }
          ],
          "scatter": [
           {
            "fillpattern": {
             "fillmode": "overlay",
             "size": 10,
             "solidity": 0.2
            },
            "type": "scatter"
           }
          ],
          "scatter3d": [
           {
            "line": {
             "colorbar": {
              "outlinewidth": 0,
              "ticks": ""
             }
            },
            "marker": {
             "colorbar": {
              "outlinewidth": 0,
              "ticks": ""
             }
            },
            "type": "scatter3d"
           }
          ],
          "scattercarpet": [
           {
            "marker": {
             "colorbar": {
              "outlinewidth": 0,
              "ticks": ""
             }
            },
            "type": "scattercarpet"
           }
          ],
          "scattergeo": [
           {
            "marker": {
             "colorbar": {
              "outlinewidth": 0,
              "ticks": ""
             }
            },
            "type": "scattergeo"
           }
          ],
          "scattergl": [
           {
            "marker": {
             "colorbar": {
              "outlinewidth": 0,
              "ticks": ""
             }
            },
            "type": "scattergl"
           }
          ],
          "scattermapbox": [
           {
            "marker": {
             "colorbar": {
              "outlinewidth": 0,
              "ticks": ""
             }
            },
            "type": "scattermapbox"
           }
          ],
          "scatterpolar": [
           {
            "marker": {
             "colorbar": {
              "outlinewidth": 0,
              "ticks": ""
             }
            },
            "type": "scatterpolar"
           }
          ],
          "scatterpolargl": [
           {
            "marker": {
             "colorbar": {
              "outlinewidth": 0,
              "ticks": ""
             }
            },
            "type": "scatterpolargl"
           }
          ],
          "scatterternary": [
           {
            "marker": {
             "colorbar": {
              "outlinewidth": 0,
              "ticks": ""
             }
            },
            "type": "scatterternary"
           }
          ],
          "surface": [
           {
            "colorbar": {
             "outlinewidth": 0,
             "ticks": ""
            },
            "colorscale": [
             [
              0,
              "#0d0887"
             ],
             [
              0.1111111111111111,
              "#46039f"
             ],
             [
              0.2222222222222222,
              "#7201a8"
             ],
             [
              0.3333333333333333,
              "#9c179e"
             ],
             [
              0.4444444444444444,
              "#bd3786"
             ],
             [
              0.5555555555555556,
              "#d8576b"
             ],
             [
              0.6666666666666666,
              "#ed7953"
             ],
             [
              0.7777777777777778,
              "#fb9f3a"
             ],
             [
              0.8888888888888888,
              "#fdca26"
             ],
             [
              1,
              "#f0f921"
             ]
            ],
            "type": "surface"
           }
          ],
          "table": [
           {
            "cells": {
             "fill": {
              "color": "#EBF0F8"
             },
             "line": {
              "color": "white"
             }
            },
            "header": {
             "fill": {
              "color": "#C8D4E3"
             },
             "line": {
              "color": "white"
             }
            },
            "type": "table"
           }
          ]
         },
         "layout": {
          "annotationdefaults": {
           "arrowcolor": "#2a3f5f",
           "arrowhead": 0,
           "arrowwidth": 1
          },
          "autotypenumbers": "strict",
          "coloraxis": {
           "colorbar": {
            "outlinewidth": 0,
            "ticks": ""
           }
          },
          "colorscale": {
           "diverging": [
            [
             0,
             "#8e0152"
            ],
            [
             0.1,
             "#c51b7d"
            ],
            [
             0.2,
             "#de77ae"
            ],
            [
             0.3,
             "#f1b6da"
            ],
            [
             0.4,
             "#fde0ef"
            ],
            [
             0.5,
             "#f7f7f7"
            ],
            [
             0.6,
             "#e6f5d0"
            ],
            [
             0.7,
             "#b8e186"
            ],
            [
             0.8,
             "#7fbc41"
            ],
            [
             0.9,
             "#4d9221"
            ],
            [
             1,
             "#276419"
            ]
           ],
           "sequential": [
            [
             0,
             "#0d0887"
            ],
            [
             0.1111111111111111,
             "#46039f"
            ],
            [
             0.2222222222222222,
             "#7201a8"
            ],
            [
             0.3333333333333333,
             "#9c179e"
            ],
            [
             0.4444444444444444,
             "#bd3786"
            ],
            [
             0.5555555555555556,
             "#d8576b"
            ],
            [
             0.6666666666666666,
             "#ed7953"
            ],
            [
             0.7777777777777778,
             "#fb9f3a"
            ],
            [
             0.8888888888888888,
             "#fdca26"
            ],
            [
             1,
             "#f0f921"
            ]
           ],
           "sequentialminus": [
            [
             0,
             "#0d0887"
            ],
            [
             0.1111111111111111,
             "#46039f"
            ],
            [
             0.2222222222222222,
             "#7201a8"
            ],
            [
             0.3333333333333333,
             "#9c179e"
            ],
            [
             0.4444444444444444,
             "#bd3786"
            ],
            [
             0.5555555555555556,
             "#d8576b"
            ],
            [
             0.6666666666666666,
             "#ed7953"
            ],
            [
             0.7777777777777778,
             "#fb9f3a"
            ],
            [
             0.8888888888888888,
             "#fdca26"
            ],
            [
             1,
             "#f0f921"
            ]
           ]
          },
          "colorway": [
           "#636efa",
           "#EF553B",
           "#00cc96",
           "#ab63fa",
           "#FFA15A",
           "#19d3f3",
           "#FF6692",
           "#B6E880",
           "#FF97FF",
           "#FECB52"
          ],
          "font": {
           "color": "#2a3f5f"
          },
          "geo": {
           "bgcolor": "white",
           "lakecolor": "white",
           "landcolor": "#E5ECF6",
           "showlakes": true,
           "showland": true,
           "subunitcolor": "white"
          },
          "hoverlabel": {
           "align": "left"
          },
          "hovermode": "closest",
          "mapbox": {
           "style": "light"
          },
          "paper_bgcolor": "white",
          "plot_bgcolor": "#E5ECF6",
          "polar": {
           "angularaxis": {
            "gridcolor": "white",
            "linecolor": "white",
            "ticks": ""
           },
           "bgcolor": "#E5ECF6",
           "radialaxis": {
            "gridcolor": "white",
            "linecolor": "white",
            "ticks": ""
           }
          },
          "scene": {
           "xaxis": {
            "backgroundcolor": "#E5ECF6",
            "gridcolor": "white",
            "gridwidth": 2,
            "linecolor": "white",
            "showbackground": true,
            "ticks": "",
            "zerolinecolor": "white"
           },
           "yaxis": {
            "backgroundcolor": "#E5ECF6",
            "gridcolor": "white",
            "gridwidth": 2,
            "linecolor": "white",
            "showbackground": true,
            "ticks": "",
            "zerolinecolor": "white"
           },
           "zaxis": {
            "backgroundcolor": "#E5ECF6",
            "gridcolor": "white",
            "gridwidth": 2,
            "linecolor": "white",
            "showbackground": true,
            "ticks": "",
            "zerolinecolor": "white"
           }
          },
          "shapedefaults": {
           "line": {
            "color": "#2a3f5f"
           }
          },
          "ternary": {
           "aaxis": {
            "gridcolor": "white",
            "linecolor": "white",
            "ticks": ""
           },
           "baxis": {
            "gridcolor": "white",
            "linecolor": "white",
            "ticks": ""
           },
           "bgcolor": "#E5ECF6",
           "caxis": {
            "gridcolor": "white",
            "linecolor": "white",
            "ticks": ""
           }
          },
          "title": {
           "x": 0.05
          },
          "xaxis": {
           "automargin": true,
           "gridcolor": "white",
           "linecolor": "white",
           "ticks": "",
           "title": {
            "standoff": 15
           },
           "zerolinecolor": "white",
           "zerolinewidth": 2
          },
          "yaxis": {
           "automargin": true,
           "gridcolor": "white",
           "linecolor": "white",
           "ticks": "",
           "title": {
            "standoff": 15
           },
           "zerolinecolor": "white",
           "zerolinewidth": 2
          }
         }
        },
        "title": {
         "text": "New York Scatter Plots of Temperature, Precipitation vs Sales"
        },
        "width": 800,
        "xaxis": {
         "anchor": "y",
         "autorange": true,
         "domain": [
          0,
          1
         ],
         "range": [
          12.067314487632508,
          76.6326855123675
         ],
         "showgrid": true,
         "title": {
          "text": "Temperature (°F)"
         },
         "type": "linear"
        },
        "xaxis2": {
         "anchor": "y2",
         "autorange": true,
         "domain": [
          0,
          1
         ],
         "range": [
          0.7702473498233215,
          8.549752650176679
         ],
         "showgrid": true,
         "title": {
          "text": "Precipitation (Inches)"
         },
         "type": "linear"
        },
        "yaxis": {
         "anchor": "x",
         "autorange": true,
         "domain": [
          0.6000000000000001,
          1
         ],
         "range": [
          9312.272364202627,
          15265.668515797373
         ],
         "showgrid": true,
         "title": {
          "text": "Sales (million kilowatt hours)"
         },
         "type": "linear"
        },
        "yaxis2": {
         "anchor": "x2",
         "autorange": true,
         "domain": [
          0,
          0.4
         ],
         "range": [
          9312.272364202627,
          15265.668515797373
         ],
         "showgrid": true,
         "title": {
          "text": "Sales (million kilowatt hours)"
         },
         "type": "linear"
        }
       }
      },
      "image/png": "[encoded data removed]",
      "text/html": [
       "<div>                            <div id=\"0a6f015f-1744-45c1-a992-a73c422aa8e1\" class=\"plotly-graph-div\" style=\"height:800px; width:800px;\"></div>            <script type=\"text/javascript\">                require([\"plotly\"], function(Plotly) {                    window.PLOTLYENV=window.PLOTLYENV || {};                                    if (document.getElementById(\"0a6f015f-1744-45c1-a992-a73c422aa8e1\")) {                    Plotly.newPlot(                        \"0a6f015f-1744-45c1-a992-a73c422aa8e1\",                        [{\"hovertemplate\":\"Temperature=%{x}\\u003cbr\\u003eSales (million kilowatt hours)=%{y}\\u003cextra\\u003e\\u003c\\u002fextra\\u003e\",\"legendgroup\":\"\",\"marker\":{\"color\":\"red\",\"line\":{\"color\":\"black\",\"width\":2},\"opacity\":0.6,\"size\":8,\"symbol\":\"circle\"},\"mode\":\"markers\",\"name\":\"\",\"orientation\":\"v\",\"showlegend\":false,\"x\":[27.7,26.6,37.2,41.1,54.2,65.2,72.9,68.6,59.6,49.0,41.9,29.8,24.0,21.7,35.0,45.7,54.7,67.1,67.7,70.4,61.7,54.8,37.0,32.8,15.8,23.8,33.8,43.8,58.6,63.8,69.7,70.0,60.5,48.9,41.0,29.0,30.5,28.1,32.6,48.0,53.8,63.1,70.7,65.8,61.7,53.0,36.1,34.9,26.6,30.4,37.5,45.8,60.0,66.5,71.2,67.3,62.4],\"xaxis\":\"x\",\"y\":[12200.52008,11497.06322,11162.18297,10322.36486,9729.97032,11464.54553,14462.22528,14164.86484,12416.35791,10780.31188,10516.59928,11689.62583,12123.06699,11726.44807,11097.66809,10225.39278,10004.43587,12077.34138,13922.26356,13987.32657,12981.07732,10999.90458,10667.97101,11610.88195,12313.36233,11593.89792,11363.67808,10615.71426,10423.16152,11906.73885,13868.68065,14847.97056,12990.33892,10809.58705,10488.56647,11988.82038,11907.8577,11110.59133,11221.11643,10330.12363,10197.20731,11078.68809,13987.81497,13588.06902,12679.45665,10747.58892,11020.9403,11552.48165,11834.68812,11344.59641,10942.71139,10314.15808,10099.7155,12058.21725,14663.22401,14122.94234,12173.59689],\"yaxis\":\"y\",\"type\":\"scatter\"},{\"customdata\":[[27.7],[26.6],[37.2],[41.1],[54.2],[65.2],[72.9],[68.6],[59.6],[49.0],[41.9],[29.8],[24.0],[21.7],[35.0],[45.7],[54.7],[67.1],[67.7],[70.4],[61.7],[54.8],[37.0],[32.8],[15.8],[23.8],[33.8],[43.8],[58.6],[63.8],[69.7],[70.0],[60.5],[48.9],[41.0],[29.0],[30.5],[28.1],[32.6],[48.0],[53.8],[63.1],[70.7],[65.8],[61.7],[53.0],[36.1],[34.9],[26.6],[30.4],[37.5],[45.8],[60.0],[66.5],[71.2],[67.3],[62.4]],\"hovertemplate\":\"Precipitation=%{x}\\u003cbr\\u003eSales (million kilowatt hours)=%{y}\\u003cbr\\u003etemperature=%{customdata[0]}\\u003cextra\\u003e\\u003c\\u002fextra\\u003e\",\"legendgroup\":\"\",\"marker\":{\"color\":\"blue\",\"line\":{\"color\":\"black\",\"width\":2},\"opacity\":0.6,\"size\":8,\"symbol\":\"circle\"},\"mode\":\"markers\",\"name\":\"\",\"orientation\":\"v\",\"showlegend\":false,\"x\":[2.78,3.03,2.89,3.15,3.03,2.38,4.1,4.61,2.58,3.95,2.78,4.0,2.06,2.34,1.74,3.46,3.04,3.36,8.1,5.33,4.92,6.6,2.67,2.63,2.06,3.84,3.07,4.65,3.17,3.8,3.28,3.68,5.07,2.39,3.87,4.25,4.04,2.04,3.21,3.91,2.34,3.98,6.63,5.61,3.16,4.06,2.44,5.53,4.78,1.22,4.28,4.2,3.53,4.76,4.26,6.2,2.25],\"xaxis\":\"x2\",\"y\":[12200.52008,11497.06322,11162.18297,10322.36486,9729.97032,11464.54553,14462.22528,14164.86484,12416.35791,10780.31188,10516.59928,11689.62583,12123.06699,11726.44807,11097.66809,10225.39278,10004.43587,12077.34138,13922.26356,13987.32657,12981.07732,10999.90458,10667.97101,11610.88195,12313.36233,11593.89792,11363.67808,10615.71426,10423.16152,11906.73885,13868.68065,14847.97056,12990.33892,10809.58705,10488.56647,11988.82038,11907.8577,11110.59133,11221.11643,10330.12363,10197.20731,11078.68809,13987.81497,13588.06902,12679.45665,10747.58892,11020.9403,11552.48165,11834.68812,11344.59641,10942.71139,10314.15808,10099.7155,12058.21725,14663.22401,14122.94234,12173.59689],\"yaxis\":\"y2\",\"type\":\"scatter\"}],                        {\"template\":{\"data\":{\"histogram2dcontour\":[{\"type\":\"histogram2dcontour\",\"colorbar\":{\"outlinewidth\":0,\"ticks\":\"\"},\"colorscale\":[[0.0,\"#0d0887\"],[0.1111111111111111,\"#46039f\"],[0.2222222222222222,\"#7201a8\"],[0.3333333333333333,\"#9c179e\"],[0.4444444444444444,\"#bd3786\"],[0.5555555555555556,\"#d8576b\"],[0.6666666666666666,\"#ed7953\"],[0.7777777777777778,\"#fb9f3a\"],[0.8888888888888888,\"#fdca26\"],[1.0,\"#f0f921\"]]}],\"choropleth\":[{\"type\":\"choropleth\",\"colorbar\":{\"outlinewidth\":0,\"ticks\":\"\"}}],\"histogram2d\":[{\"type\":\"histogram2d\",\"colorbar\":{\"outlinewidth\":0,\"ticks\":\"\"},\"colorscale\":[[0.0,\"#0d0887\"],[0.1111111111111111,\"#46039f\"],[0.2222222222222222,\"#7201a8\"],[0.3333333333333333,\"#9c179e\"],[0.4444444444444444,\"#bd3786\"],[0.5555555555555556,\"#d8576b\"],[0.6666666666666666,\"#ed7953\"],[0.7777777777777778,\"#fb9f3a\"],[0.8888888888888888,\"#fdca26\"],[1.0,\"#f0f921\"]]}],\"heatmap\":[{\"type\":\"heatmap\",\"colorbar\":{\"outlinewidth\":0,\"ticks\":\"\"},\"colorscale\":[[0.0,\"#0d0887\"],[0.1111111111111111,\"#46039f\"],[0.2222222222222222,\"#7201a8\"],[0.3333333333333333,\"#9c179e\"],[0.4444444444444444,\"#bd3786\"],[0.5555555555555556,\"#d8576b\"],[0.6666666666666666,\"#ed7953\"],[0.7777777777777778,\"#fb9f3a\"],[0.8888888888888888,\"#fdca26\"],[1.0,\"#f0f921\"]]}],\"heatmapgl\":[{\"type\":\"heatmapgl\",\"colorbar\":{\"outlinewidth\":0,\"ticks\":\"\"},\"colorscale\":[[0.0,\"#0d0887\"],[0.1111111111111111,\"#46039f\"],[0.2222222222222222,\"#7201a8\"],[0.3333333333333333,\"#9c179e\"],[0.4444444444444444,\"#bd3786\"],[0.5555555555555556,\"#d8576b\"],[0.6666666666666666,\"#ed7953\"],[0.7777777777777778,\"#fb9f3a\"],[0.8888888888888888,\"#fdca26\"],[1.0,\"#f0f921\"]]}],\"contourcarpet\":[{\"type\":\"contourcarpet\",\"colorbar\":{\"outlinewidth\":0,\"ticks\":\"\"}}],\"contour\":[{\"type\":\"contour\",\"colorbar\":{\"outlinewidth\":0,\"ticks\":\"\"},\"colorscale\":[[0.0,\"#0d0887\"],[0.1111111111111111,\"#46039f\"],[0.2222222222222222,\"#7201a8\"],[0.3333333333333333,\"#9c179e\"],[0.4444444444444444,\"#bd3786\"],[0.5555555555555556,\"#d8576b\"],[0.6666666666666666,\"#ed7953\"],[0.7777777777777778,\"#fb9f3a\"],[0.8888888888888888,\"#fdca26\"],[1.0,\"#f0f921\"]]}],\"surface\":[{\"type\":\"surface\",\"colorbar\":{\"outlinewidth\":0,\"ticks\":\"\"},\"colorscale\":[[0.0,\"#0d0887\"],[0.1111111111111111,\"#46039f\"],[0.2222222222222222,\"#7201a8\"],[0.3333333333333333,\"#9c179e\"],[0.4444444444444444,\"#bd3786\"],[0.5555555555555556,\"#d8576b\"],[0.6666666666666666,\"#ed7953\"],[0.7777777777777778,\"#fb9f3a\"],[0.8888888888888888,\"#fdca26\"],[1.0,\"#f0f921\"]]}],\"mesh3d\":[{\"type\":\"mesh3d\",\"colorbar\":{\"outlinewidth\":0,\"ticks\":\"\"}}],\"scatter\":[{\"fillpattern\":{\"fillmode\":\"overlay\",\"size\":10,\"solidity\":0.2},\"type\":\"scatter\"}],\"parcoords\":[{\"type\":\"parcoords\",\"line\":{\"colorbar\":{\"outlinewidth\":0,\"ticks\":\"\"}}}],\"scatterpolargl\":[{\"type\":\"scatterpolargl\",\"marker\":{\"colorbar\":{\"outlinewidth\":0,\"ticks\":\"\"}}}],\"bar\":[{\"error_x\":{\"color\":\"#2a3f5f\"},\"error_y\":{\"color\":\"#2a3f5f\"},\"marker\":{\"line\":{\"color\":\"#E5ECF6\",\"width\":0.5},\"pattern\":{\"fillmode\":\"overlay\",\"size\":10,\"solidity\":0.2}},\"type\":\"bar\"}],\"scattergeo\":[{\"type\":\"scattergeo\",\"marker\":{\"colorbar\":{\"outlinewidth\":0,\"ticks\":\"\"}}}],\"scatterpolar\":[{\"type\":\"scatterpolar\",\"marker\":{\"colorbar\":{\"outlinewidth\":0,\"ticks\":\"\"}}}],\"histogram\":[{\"marker\":{\"pattern\":{\"fillmode\":\"overlay\",\"size\":10,\"solidity\":0.2}},\"type\":\"histogram\"}],\"scattergl\":[{\"type\":\"scattergl\",\"marker\":{\"colorbar\":{\"outlinewidth\":0,\"ticks\":\"\"}}}],\"scatter3d\":[{\"type\":\"scatter3d\",\"line\":{\"colorbar\":{\"outlinewidth\":0,\"ticks\":\"\"}},\"marker\":{\"colorbar\":{\"outlinewidth\":0,\"ticks\":\"\"}}}],\"scattermapbox\":[{\"type\":\"scattermapbox\",\"marker\":{\"colorbar\":{\"outlinewidth\":0,\"ticks\":\"\"}}}],\"scatterternary\":[{\"type\":\"scatterternary\",\"marker\":{\"colorbar\":{\"outlinewidth\":0,\"ticks\":\"\"}}}],\"scattercarpet\":[{\"type\":\"scattercarpet\",\"marker\":{\"colorbar\":{\"outlinewidth\":0,\"ticks\":\"\"}}}],\"carpet\":[{\"aaxis\":{\"endlinecolor\":\"#2a3f5f\",\"gridcolor\":\"white\",\"linecolor\":\"white\",\"minorgridcolor\":\"white\",\"startlinecolor\":\"#2a3f5f\"},\"baxis\":{\"endlinecolor\":\"#2a3f5f\",\"gridcolor\":\"white\",\"linecolor\":\"white\",\"minorgridcolor\":\"white\",\"startlinecolor\":\"#2a3f5f\"},\"type\":\"carpet\"}],\"table\":[{\"cells\":{\"fill\":{\"color\":\"#EBF0F8\"},\"line\":{\"color\":\"white\"}},\"header\":{\"fill\":{\"color\":\"#C8D4E3\"},\"line\":{\"color\":\"white\"}},\"type\":\"table\"}],\"barpolar\":[{\"marker\":{\"line\":{\"color\":\"#E5ECF6\",\"width\":0.5},\"pattern\":{\"fillmode\":\"overlay\",\"size\":10,\"solidity\":0.2}},\"type\":\"barpolar\"}],\"pie\":[{\"automargin\":true,\"type\":\"pie\"}]},\"layout\":{\"autotypenumbers\":\"strict\",\"colorway\":[\"#636efa\",\"#EF553B\",\"#00cc96\",\"#ab63fa\",\"#FFA15A\",\"#19d3f3\",\"#FF6692\",\"#B6E880\",\"#FF97FF\",\"#FECB52\"],\"font\":{\"color\":\"#2a3f5f\"},\"hovermode\":\"closest\",\"hoverlabel\":{\"align\":\"left\"},\"paper_bgcolor\":\"white\",\"plot_bgcolor\":\"#E5ECF6\",\"polar\":{\"bgcolor\":\"#E5ECF6\",\"angularaxis\":{\"gridcolor\":\"white\",\"linecolor\":\"white\",\"ticks\":\"\"},\"radialaxis\":{\"gridcolor\":\"white\",\"linecolor\":\"white\",\"ticks\":\"\"}},\"ternary\":{\"bgcolor\":\"#E5ECF6\",\"aaxis\":{\"gridcolor\":\"white\",\"linecolor\":\"white\",\"ticks\":\"\"},\"baxis\":{\"gridcolor\":\"white\",\"linecolor\":\"white\",\"ticks\":\"\"},\"caxis\":{\"gridcolor\":\"white\",\"linecolor\":\"white\",\"ticks\":\"\"}},\"coloraxis\":{\"colorbar\":{\"outlinewidth\":0,\"ticks\":\"\"}},\"colorscale\":{\"sequential\":[[0.0,\"#0d0887\"],[0.1111111111111111,\"#46039f\"],[0.2222222222222222,\"#7201a8\"],[0.3333333333333333,\"#9c179e\"],[0.4444444444444444,\"#bd3786\"],[0.5555555555555556,\"#d8576b\"],[0.6666666666666666,\"#ed7953\"],[0.7777777777777778,\"#fb9f3a\"],[0.8888888888888888,\"#fdca26\"],[1.0,\"#f0f921\"]],\"sequentialminus\":[[0.0,\"#0d0887\"],[0.1111111111111111,\"#46039f\"],[0.2222222222222222,\"#7201a8\"],[0.3333333333333333,\"#9c179e\"],[0.4444444444444444,\"#bd3786\"],[0.5555555555555556,\"#d8576b\"],[0.6666666666666666,\"#ed7953\"],[0.7777777777777778,\"#fb9f3a\"],[0.8888888888888888,\"#fdca26\"],[1.0,\"#f0f921\"]],\"diverging\":[[0,\"#8e0152\"],[0.1,\"#c51b7d\"],[0.2,\"#de77ae\"],[0.3,\"#f1b6da\"],[0.4,\"#fde0ef\"],[0.5,\"#f7f7f7\"],[0.6,\"#e6f5d0\"],[0.7,\"#b8e186\"],[0.8,\"#7fbc41\"],[0.9,\"#4d9221\"],[1,\"#276419\"]]},\"xaxis\":{\"gridcolor\":\"white\",\"linecolor\":\"white\",\"ticks\":\"\",\"title\":{\"standoff\":15},\"zerolinecolor\":\"white\",\"automargin\":true,\"zerolinewidth\":2},\"yaxis\":{\"gridcolor\":\"white\",\"linecolor\":\"white\",\"ticks\":\"\",\"title\":{\"standoff\":15},\"zerolinecolor\":\"white\",\"automargin\":true,\"zerolinewidth\":2},\"scene\":{\"xaxis\":{\"backgroundcolor\":\"#E5ECF6\",\"gridcolor\":\"white\",\"linecolor\":\"white\",\"showbackground\":true,\"ticks\":\"\",\"zerolinecolor\":\"white\",\"gridwidth\":2},\"yaxis\":{\"backgroundcolor\":\"#E5ECF6\",\"gridcolor\":\"white\",\"linecolor\":\"white\",\"showbackground\":true,\"ticks\":\"\",\"zerolinecolor\":\"white\",\"gridwidth\":2},\"zaxis\":{\"backgroundcolor\":\"#E5ECF6\",\"gridcolor\":\"white\",\"linecolor\":\"white\",\"showbackground\":true,\"ticks\":\"\",\"zerolinecolor\":\"white\",\"gridwidth\":2}},\"shapedefaults\":{\"line\":{\"color\":\"#2a3f5f\"}},\"annotationdefaults\":{\"arrowcolor\":\"#2a3f5f\",\"arrowhead\":0,\"arrowwidth\":1},\"geo\":{\"bgcolor\":\"white\",\"landcolor\":\"#E5ECF6\",\"subunitcolor\":\"white\",\"showland\":true,\"showlakes\":true,\"lakecolor\":\"white\"},\"title\":{\"x\":0.05},\"mapbox\":{\"style\":\"light\"}}},\"xaxis\":{\"anchor\":\"y\",\"domain\":[0.0,1.0],\"title\":{\"text\":\"Temperature (\\u00b0F)\"},\"showgrid\":true},\"yaxis\":{\"anchor\":\"x\",\"domain\":[0.6000000000000001,1.0],\"title\":{\"text\":\"Sales (million kilowatt hours)\"},\"showgrid\":true},\"xaxis2\":{\"anchor\":\"y2\",\"domain\":[0.0,1.0],\"title\":{\"text\":\"Precipitation (Inches)\"},\"showgrid\":true},\"yaxis2\":{\"anchor\":\"x2\",\"domain\":[0.0,0.4],\"title\":{\"text\":\"Sales (million kilowatt hours)\"},\"showgrid\":true},\"annotations\":[{\"font\":{\"size\":16},\"showarrow\":false,\"text\":\"Temperature vs Sales\",\"x\":0.5,\"xanchor\":\"center\",\"xref\":\"paper\",\"y\":1.0,\"yanchor\":\"bottom\",\"yref\":\"paper\"},{\"font\":{\"size\":16},\"showarrow\":false,\"text\":\"Precipitation vs Sales\",\"x\":0.5,\"xanchor\":\"center\",\"xref\":\"paper\",\"y\":0.4,\"yanchor\":\"bottom\",\"yref\":\"paper\"}],\"title\":{\"text\":\"New York Scatter Plots of Temperature, Precipitation vs Sales\"},\"width\":800,\"height\":800,\"showlegend\":false},                        {\"responsive\": true}                    ).then(function(){\n",
       "                            \n",
       "var gd = document.getElementById('0a6f015f-1744-45c1-a992-a73c422aa8e1');\n",
       "var x = new MutationObserver(function (mutations, observer) {{\n",
       "        var display = window.getComputedStyle(gd).display;\n",
       "        if (!display || display === 'none') {{\n",
       "            console.log([gd, 'removed!']);\n",
       "            Plotly.purge(gd);\n",
       "            observer.disconnect();\n",
       "        }}\n",
       "}});\n",
       "\n",
       "// Listen for the removal of the full notebook cells\n",
       "var notebookContainer = gd.closest('#notebook-container');\n",
       "if (notebookContainer) {{\n",
       "    x.observe(notebookContainer, {childList: true});\n",
       "}}\n",
       "\n",
       "// Listen for the clearing of the current output cell\n",
       "var outputEl = gd.closest('.output');\n",
       "if (outputEl) {{\n",
       "    x.observe(outputEl, {childList: true});\n",
       "}}\n",
       "\n",
       "                        })                };                });            </script>        </div>"
      ]
     },
     "metadata": {},
     "output_type": "display_data"
    }
   ],
   "source": [
    "# First scatter plot\n",
    "fig1 = px.scatter(ny_data, x='temperature', y='sales', \n",
    "                  title='New York Scatter Plot of Temperature vs Sales',\n",
    "                  labels={'temperature': 'Temperature', 'sales': 'Sales (million kilowatt hours)'},\n",
    "                  hover_data=['temperature', 'sales'])\n",
    "fig1.update_traces(marker=dict(size=8, color='red', opacity=0.6, line=dict(width=2, color='black')))\n",
    "\n",
    "#Second scatter plot\n",
    "fig2 = px.scatter(ny_data, x='precipitation', y='sales', \n",
    "                  title='New York Scatter Plot of Precipitation vs Sales',\n",
    "                  labels={'precipitation': 'Precipitation', 'sales': 'Sales (million kilowatt hours)'},\n",
    "                  hover_data=['temperature', 'sales'])\n",
    "fig2.update_traces(marker=dict(size=8, color='blue', opacity=0.6, line=dict(width=2, color='black')))\n",
    "\n",
    "# 2 rows one column\n",
    "fig = make_subplots(rows=2, cols=1, \n",
    "                    subplot_titles=('Temperature vs Sales', 'Precipitation vs Sales'),\n",
    "                    vertical_spacing=0.2)\n",
    "\n",
    "# Add traces from fig1 to the first subplot (row 1, col 1)\n",
    "for trace in fig1.data:\n",
    "    fig.add_trace(trace, row=1, col=1)\n",
    "\n",
    "# Add traces from fig2 to the second subplot (row 2, col 1)\n",
    "for trace in fig2.data:\n",
    "    fig.add_trace(trace, row=2, col=1)\n",
    "\n",
    "# Update axis properties (make them wider)\n",
    "fig.update_layout(\n",
    "    width=800,  # Make the plot wider\n",
    "    height=800,  # Adjust the height as per your preference\n",
    "    title_text='New York Scatter Plots of Temperature, Precipitation vs Sales',\n",
    "    showlegend=False,\n",
    "    xaxis=dict(title='Temperature (°F)', showgrid=True),\n",
    "    xaxis2=dict(title='Precipitation (Inches)', showgrid=True),\n",
    "    yaxis=dict(title='Sales (million kilowatt hours)', showgrid=True),\n",
    "    yaxis2=dict(title='Sales (million kilowatt hours)', showgrid=True)\n",
    ")\n",
    "\n",
    "# Show the plot\n",
    "fig.write_html('ny_scatter_plots.html')\n",
    "\n",
    "fig.show()"
   ]
  },
  {
   "cell_type": "code",
   "execution_count": 315,
   "id": "7c9c7863-0aa2-4193-90be-57c3d7363310",
   "metadata": {},
   "outputs": [
    {
     "data": {
      "text/html": [
       "<a href='ny_scatter_plots.html' target='_blank'>ny_scatter_plots.html</a><br>"
      ],
      "text/plain": [
       "/Users/NoahGlosson/Desktop/STA 141B Material/ny_scatter_plots.html"
      ]
     },
     "execution_count": 315,
     "metadata": {},
     "output_type": "execute_result"
    }
   ],
   "source": [
    "\n",
    "FileLink('ny_scatter_plots.html')"
   ]
  },
  {
   "cell_type": "markdown",
   "id": "fa151299-3da0-4f78-8f6d-943155e918e0",
   "metadata": {},
   "source": []
  }
 ],
 "metadata": {
  "kernelspec": {
   "display_name": "Python 3 (ipykernel)",
   "language": "python",
   "name": "python3"
  },
  "language_info": {
   "codemirror_mode": {
    "name": "ipython",
    "version": 3
   },
   "file_extension": ".py",
   "mimetype": "text/x-python",
   "name": "python",
   "nbconvert_exporter": "python",
   "pygments_lexer": "ipython3",
   "version": "3.12.2"
  }
 },
 "nbformat": 4,
 "nbformat_minor": 5
}
